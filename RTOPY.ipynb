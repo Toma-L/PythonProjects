{
 "cells": [
  {
   "cell_type": "code",
   "execution_count": 2,
   "metadata": {
    "collapsed": false
   },
   "outputs": [
    {
     "name": "stdout",
     "output_type": "stream",
     "text": [
      "5\n",
      "-1\n",
      "6\n",
      "5.0\n",
      "9\n",
      "2\n"
     ]
    }
   ],
   "source": [
    "print(2+3)\n",
    "print(2-3)\n",
    "print(2*3)\n",
    "print(10/2)\n",
    "print(3**2)\n",
    "print(10%4)"
   ]
  },
  {
   "cell_type": "code",
   "execution_count": 3,
   "metadata": {
    "collapsed": false
   },
   "outputs": [
    {
     "name": "stdout",
     "output_type": "stream",
     "text": [
      "Help on class type in module builtins:\n",
      "\n",
      "class type(object)\n",
      " |  type(object_or_name, bases, dict)\n",
      " |  type(object) -> the object's type\n",
      " |  type(name, bases, dict) -> a new type\n",
      " |  \n",
      " |  Methods defined here:\n",
      " |  \n",
      " |  __call__(self, /, *args, **kwargs)\n",
      " |      Call self as a function.\n",
      " |  \n",
      " |  __delattr__(self, name, /)\n",
      " |      Implement delattr(self, name).\n",
      " |  \n",
      " |  __dir__(...)\n",
      " |      __dir__() -> list\n",
      " |      specialized __dir__ implementation for types\n",
      " |  \n",
      " |  __getattribute__(self, name, /)\n",
      " |      Return getattr(self, name).\n",
      " |  \n",
      " |  __init__(self, /, *args, **kwargs)\n",
      " |      Initialize self.  See help(type(self)) for accurate signature.\n",
      " |  \n",
      " |  __instancecheck__(...)\n",
      " |      __instancecheck__() -> bool\n",
      " |      check if an object is an instance\n",
      " |  \n",
      " |  __new__(*args, **kwargs)\n",
      " |      Create and return a new object.  See help(type) for accurate signature.\n",
      " |  \n",
      " |  __prepare__(...)\n",
      " |      __prepare__() -> dict\n",
      " |      used to create the namespace for the class statement\n",
      " |  \n",
      " |  __repr__(self, /)\n",
      " |      Return repr(self).\n",
      " |  \n",
      " |  __setattr__(self, name, value, /)\n",
      " |      Implement setattr(self, name, value).\n",
      " |  \n",
      " |  __sizeof__(...)\n",
      " |      __sizeof__() -> int\n",
      " |      return memory consumption of the type object\n",
      " |  \n",
      " |  __subclasscheck__(...)\n",
      " |      __subclasscheck__() -> bool\n",
      " |      check if a class is a subclass\n",
      " |  \n",
      " |  __subclasses__(...)\n",
      " |      __subclasses__() -> list of immediate subclasses\n",
      " |  \n",
      " |  mro(...)\n",
      " |      mro() -> list\n",
      " |      return a type's method resolution order\n",
      " |  \n",
      " |  ----------------------------------------------------------------------\n",
      " |  Data descriptors defined here:\n",
      " |  \n",
      " |  __abstractmethods__\n",
      " |  \n",
      " |  __dict__\n",
      " |  \n",
      " |  __text_signature__\n",
      " |  \n",
      " |  ----------------------------------------------------------------------\n",
      " |  Data and other attributes defined here:\n",
      " |  \n",
      " |  __base__ = <class 'object'>\n",
      " |      The most base type\n",
      " |  \n",
      " |  __bases__ = (<class 'object'>,)\n",
      " |  \n",
      " |  __basicsize__ = 864\n",
      " |  \n",
      " |  __dictoffset__ = 264\n",
      " |  \n",
      " |  __flags__ = 2148291584\n",
      " |  \n",
      " |  __itemsize__ = 40\n",
      " |  \n",
      " |  __mro__ = (<class 'type'>, <class 'object'>)\n",
      " |  \n",
      " |  __weakrefoffset__ = 368\n",
      "\n"
     ]
    }
   ],
   "source": [
    "help(type)"
   ]
  },
  {
   "cell_type": "code",
   "execution_count": 4,
   "metadata": {
    "collapsed": false
   },
   "outputs": [
    {
     "name": "stdout",
     "output_type": "stream",
     "text": [
      "<class 'int'>\n",
      "<class 'float'>\n",
      "<class 'complex'>\n",
      "<class 'bool'>\n",
      "<class 'bool'>\n",
      "<class 'str'>\n"
     ]
    }
   ],
   "source": [
    "print(type(5))\n",
    "print(type(5.5))\n",
    "print(type(5 + 3j))\n",
    "print(type(True))\n",
    "print(type(False))\n",
    "print(type(\"2017 ithome ironman\"))"
   ]
  },
  {
   "cell_type": "code",
   "execution_count": 5,
   "metadata": {
    "collapsed": false
   },
   "outputs": [
    {
     "name": "stdout",
     "output_type": "stream",
     "text": [
      "True\n",
      "True\n",
      "2.2\n",
      "5\n",
      "2017 ithome ironman rocks!\n",
      "2017 ithome ironman rocks!!!\n"
     ]
    }
   ],
   "source": [
    "print(1.0 == True)\n",
    "print(0 == False)\n",
    "print(1.2 + True)\n",
    "print(3 + True * 2)\n",
    "print(\"2017 ithome ironman\" + \" rocks!\")\n",
    "print(\"2017 ithome ironman \" + \"rocks\" + \"!\" * 3)"
   ]
  },
  {
   "cell_type": "code",
   "execution_count": 6,
   "metadata": {
    "collapsed": false
   },
   "outputs": [
    {
     "ename": "TypeError",
     "evalue": "Can't convert 'int' object to str implicitly",
     "output_type": "error",
     "traceback": [
      "\u001b[0;31m---------------------------------------------------------------------------\u001b[0m",
      "\u001b[0;31mTypeError\u001b[0m                                 Traceback (most recent call last)",
      "\u001b[0;32m<ipython-input-6-598399a7b551>\u001b[0m in \u001b[0;36m<module>\u001b[0;34m()\u001b[0m\n\u001b[1;32m      1\u001b[0m \u001b[0mdays\u001b[0m \u001b[0;34m=\u001b[0m \u001b[0;36m30\u001b[0m\u001b[0;34m\u001b[0m\u001b[0m\n\u001b[0;32m----> 2\u001b[0;31m \u001b[0mprint\u001b[0m\u001b[0;34m(\u001b[0m\u001b[0;34m\"In order to become an ironman, you have to publish an article a day for \"\u001b[0m \u001b[0;34m+\u001b[0m \u001b[0mdays\u001b[0m \u001b[0;34m+\u001b[0m \u001b[0;34m\" days in a row.\"\u001b[0m\u001b[0;34m)\u001b[0m\u001b[0;34m\u001b[0m\u001b[0m\n\u001b[0m",
      "\u001b[0;31mTypeError\u001b[0m: Can't convert 'int' object to str implicitly"
     ]
    }
   ],
   "source": [
    "days = 30\n",
    "print(\"In order to become an ironman, you have to publish an article a day for \" + days + \" days in a row.\")"
   ]
  },
  {
   "cell_type": "code",
   "execution_count": 7,
   "metadata": {
    "collapsed": false
   },
   "outputs": [
    {
     "data": {
      "text/plain": [
       "33"
      ]
     },
     "execution_count": 7,
     "metadata": {},
     "output_type": "execute_result"
    }
   ],
   "source": [
    "days = 30\n",
    "days = days + 3\n",
    "days"
   ]
  },
  {
   "cell_type": "code",
   "execution_count": 8,
   "metadata": {
    "collapsed": false
   },
   "outputs": [
    {
     "data": {
      "text/plain": [
       "33"
      ]
     },
     "execution_count": 8,
     "metadata": {},
     "output_type": "execute_result"
    }
   ],
   "source": [
    "days = 30\n",
    "days += 3\n",
    "days"
   ]
  },
  {
   "cell_type": "code",
   "execution_count": 9,
   "metadata": {
    "collapsed": false
   },
   "outputs": [
    {
     "name": "stdout",
     "output_type": "stream",
     "text": [
      "33\n",
      "30\n",
      "150\n",
      "30.0\n",
      "2.0\n"
     ]
    }
   ],
   "source": [
    "days = 30\n",
    "days += 3\n",
    "print(days)\n",
    "days -= 3\n",
    "print(days)\n",
    "days *= 5\n",
    "print(days)\n",
    "days /= 5\n",
    "print(days)\n",
    "days %= 7\n",
    "print(days)"
   ]
  },
  {
   "cell_type": "code",
   "execution_count": 10,
   "metadata": {
    "collapsed": false
   },
   "outputs": [
    {
     "name": "stdout",
     "output_type": "stream",
     "text": [
      "In order to become an ironman, you have tp publish an article a day for 30 days in a row.\n"
     ]
    }
   ],
   "source": [
    "days = 30\n",
    "print(\"In order to become an ironman, you have tp publish an article a day for \" + \n",
    "      str(days) + \" days in a row.\")"
   ]
  },
  {
   "cell_type": "code",
   "execution_count": 11,
   "metadata": {
    "collapsed": false
   },
   "outputs": [
    {
     "name": "stdout",
     "output_type": "stream",
     "text": [
      "<class 'bool'>\n",
      "1.0\n",
      "1\n",
      "(1+0j)\n",
      "<class 'str'>\n"
     ]
    }
   ],
   "source": [
    "my_bool = True\n",
    "print(type(my_bool))\n",
    "print(float(my_bool))\n",
    "print(int(my_bool))\n",
    "print(complex(my_bool))\n",
    "print(type(str(my_bool)))"
   ]
  },
  {
   "cell_type": "code",
   "execution_count": 12,
   "metadata": {
    "collapsed": true
   },
   "outputs": [],
   "source": [
    "ironman_group_1 = \"Modern Web\"\n",
    "ironman_group_2 = \"DevOps\"\n",
    "ironman_group_3 = \"Cloud\"\n",
    "ironman_group_4 = \"Big Data\"\n",
    "ironman_group_5 = \"Security\"\n",
    "ironman_group_6 = \"自我挑戰組\"\n",
    "\n",
    "ironman_groups = [\"Modern Web\", \"DevOps\", \"Cloud\", \"Big Data\", \"Security\", \"自我挑戰組\"]"
   ]
  },
  {
   "cell_type": "code",
   "execution_count": 13,
   "metadata": {
    "collapsed": false
   },
   "outputs": [
    {
     "name": "stdout",
     "output_type": "stream",
     "text": [
      "<class 'str'>\n",
      "<class 'int'>\n",
      "<class 'bool'>\n"
     ]
    }
   ],
   "source": [
    "participated_group = \"Big Data\"\n",
    "current_ttl_articles = 4\n",
    "is_participating = True\n",
    "my_status = [participated_group, current_ttl_articles, is_participating]\n",
    "print(type(my_status[0]))\n",
    "print(type(my_status[1]))\n",
    "print(type(my_status[2]))"
   ]
  },
  {
   "cell_type": "code",
   "execution_count": 14,
   "metadata": {
    "collapsed": false
   },
   "outputs": [
    {
     "ename": "AttributeError",
     "evalue": "'tuple' object has no attribute 'insert'",
     "output_type": "error",
     "traceback": [
      "\u001b[0;31m---------------------------------------------------------------------------\u001b[0m",
      "\u001b[0;31mAttributeError\u001b[0m                            Traceback (most recent call last)",
      "\u001b[0;32m<ipython-input-14-86359810ebe2>\u001b[0m in \u001b[0;36m<module>\u001b[0;34m()\u001b[0m\n\u001b[1;32m      3\u001b[0m \u001b[0;34m\u001b[0m\u001b[0m\n\u001b[1;32m      4\u001b[0m \u001b[0mironman_groups_list\u001b[0m\u001b[0;34m.\u001b[0m\u001b[0minsert\u001b[0m\u001b[0;34m(\u001b[0m\u001b[0;36m5\u001b[0m\u001b[0;34m,\u001b[0m \u001b[0;34m\"自我挑戰組\"\u001b[0m\u001b[0;34m)\u001b[0m\u001b[0;34m\u001b[0m\u001b[0m\n\u001b[0;32m----> 5\u001b[0;31m \u001b[0mironman_groups_tuple\u001b[0m\u001b[0;34m.\u001b[0m\u001b[0minsert\u001b[0m\u001b[0;34m(\u001b[0m\u001b[0;36m5\u001b[0m\u001b[0;34m,\u001b[0m \u001b[0;34m\"自我挑戰組\"\u001b[0m\u001b[0;34m)\u001b[0m\u001b[0;34m\u001b[0m\u001b[0m\n\u001b[0m",
      "\u001b[0;31mAttributeError\u001b[0m: 'tuple' object has no attribute 'insert'"
     ]
    }
   ],
   "source": [
    "ironman_groups_list = [\"Modern Web\", \"DevOps\", \"Cloud\", \"Big Data\", \"Security\"]\n",
    "ironman_groups_tuple = tuple(ironman_groups_list)\n",
    "\n",
    "ironman_groups_list.insert(5, \"自我挑戰組\")\n",
    "ironman_groups_tuple.insert(5, \"自我挑戰組\")"
   ]
  },
  {
   "cell_type": "code",
   "execution_count": 15,
   "metadata": {
    "collapsed": false
   },
   "outputs": [
    {
     "name": "stdout",
     "output_type": "stream",
     "text": [
      "['Modern Web', 'DevOps', 'Cloud', 'Big Data', 'Security', '自我挑戰組']\n"
     ]
    }
   ],
   "source": [
    "ironman_groups_list = [\"Modern Web\", \"DevOps\", \"Cloud\", \"Big Data\", \"Security\"]\n",
    "ironman_groups_tuple = tuple(ironman_groups_list)\n",
    "\n",
    "ironman_groups_list.insert(5, \"自我挑戰組\")\n",
    "print(ironman_groups_list)"
   ]
  },
  {
   "cell_type": "code",
   "execution_count": 16,
   "metadata": {
    "collapsed": false
   },
   "outputs": [
    {
     "name": "stdout",
     "output_type": "stream",
     "text": [
      "Big Data\n",
      "4\n",
      "True\n"
     ]
    }
   ],
   "source": [
    "participated_group = \"Big Data\"\n",
    "current_ttl_articles = 4\n",
    "is_participating = True\n",
    "my_status = {\n",
    "    \"group\": participated_group,\n",
    "    \"ttl_articles\": current_ttl_articles,\n",
    "    \"is_participating\": is_participating\n",
    "    }\n",
    "print(my_status[\"group\"])\n",
    "print(my_status[\"ttl_articles\"])\n",
    "print(my_status[\"is_participating\"])"
   ]
  },
  {
   "cell_type": "code",
   "execution_count": 17,
   "metadata": {
    "collapsed": false
   },
   "outputs": [
    {
     "name": "stdout",
     "output_type": "stream",
     "text": [
      "[46, 8, 11, 11, 4, 56, 46, 8, 11, 11, 4, 56, 46, 8, 11, 11, 4, 56, 46, 8, 11, 11, 4, 56, 46, 8, 11, 11, 4, 56, 46, 8, 11, 11, 4, 56, 46, 8, 11, 11, 4, 56, 46, 8, 11, 11, 4, 56, 46, 8, 11, 11, 4, 56, 46, 8, 11, 11, 4, 56, 46, 8, 11, 11, 4, 56, 46, 8, 11, 11, 4, 56, 46, 8, 11, 11, 4, 56, 46, 8, 11, 11, 4, 56, 46, 8, 11, 11, 4, 56, 46, 8, 11, 11, 4, 56, 46, 8, 11, 11, 4, 56, 46, 8, 11, 11, 4, 56, 46, 8, 11, 11, 4, 56, 46, 8, 11, 11, 4, 56, 46, 8, 11, 11, 4, 56, 46, 8, 11, 11, 4, 56, 46, 8, 11, 11, 4, 56, 46, 8, 11, 11, 4, 56, 46, 8, 11, 11, 4, 56, 46, 8, 11, 11, 4, 56, 46, 8, 11, 11, 4, 56, 46, 8, 11, 11, 4, 56, 46, 8, 11, 11, 4, 56, 46, 8, 11, 11, 4, 56]\n"
     ]
    }
   ],
   "source": [
    "ironmen = [46, 8, 11, 11, 4, 56]\n",
    "articles = ironmen * 30\n",
    "print(articles)"
   ]
  },
  {
   "cell_type": "code",
   "execution_count": 18,
   "metadata": {
    "collapsed": false
   },
   "outputs": [
    {
     "ename": "TypeError",
     "evalue": "can't multiply sequence by non-int of type 'list'",
     "output_type": "error",
     "traceback": [
      "\u001b[0;31m---------------------------------------------------------------------------\u001b[0m",
      "\u001b[0;31mTypeError\u001b[0m                                 Traceback (most recent call last)",
      "\u001b[0;32m<ipython-input-18-19ba40e95690>\u001b[0m in \u001b[0;36m<module>\u001b[0;34m()\u001b[0m\n\u001b[1;32m      1\u001b[0m \u001b[0mironmen\u001b[0m \u001b[0;34m=\u001b[0m \u001b[0;34m[\u001b[0m\u001b[0;36m46\u001b[0m\u001b[0;34m,\u001b[0m \u001b[0;36m8\u001b[0m\u001b[0;34m,\u001b[0m \u001b[0;36m11\u001b[0m\u001b[0;34m,\u001b[0m \u001b[0;36m11\u001b[0m\u001b[0;34m,\u001b[0m \u001b[0;36m4\u001b[0m\u001b[0;34m,\u001b[0m \u001b[0;36m56\u001b[0m\u001b[0;34m]\u001b[0m\u001b[0;34m\u001b[0m\u001b[0m\n\u001b[1;32m      2\u001b[0m \u001b[0marticle_multiplier\u001b[0m \u001b[0;34m=\u001b[0m \u001b[0;34m[\u001b[0m\u001b[0;36m30\u001b[0m\u001b[0;34m,\u001b[0m \u001b[0;36m30\u001b[0m\u001b[0;34m,\u001b[0m \u001b[0;36m30\u001b[0m\u001b[0;34m,\u001b[0m \u001b[0;36m30\u001b[0m\u001b[0;34m,\u001b[0m \u001b[0;36m30\u001b[0m\u001b[0;34m,\u001b[0m \u001b[0;36m30\u001b[0m\u001b[0;34m]\u001b[0m\u001b[0;34m\u001b[0m\u001b[0m\n\u001b[0;32m----> 3\u001b[0;31m \u001b[0marticles\u001b[0m \u001b[0;34m=\u001b[0m \u001b[0mironmen\u001b[0m \u001b[0;34m*\u001b[0m \u001b[0marticle_multiplier\u001b[0m\u001b[0;34m\u001b[0m\u001b[0m\n\u001b[0m\u001b[1;32m      4\u001b[0m \u001b[0mprint\u001b[0m\u001b[0;34m(\u001b[0m\u001b[0marticles\u001b[0m\u001b[0;34m)\u001b[0m\u001b[0;34m\u001b[0m\u001b[0m\n",
      "\u001b[0;31mTypeError\u001b[0m: can't multiply sequence by non-int of type 'list'"
     ]
    }
   ],
   "source": [
    "ironmen = [46, 8, 11, 11, 4, 56]\n",
    "article_multiplier = [30, 30, 30, 30, 30, 30]\n",
    "articles = ironmen * article_multiplier\n",
    "print(articles)"
   ]
  },
  {
   "cell_type": "code",
   "execution_count": 19,
   "metadata": {
    "collapsed": false
   },
   "outputs": [
    {
     "name": "stdout",
     "output_type": "stream",
     "text": [
      "[46  8 11 11  4 56]\n",
      "<class 'numpy.ndarray'>\n",
      "[1380  240  330  330  120 1680]\n"
     ]
    }
   ],
   "source": [
    "import numpy\n",
    "ironmen = numpy.array([46, 8, 11, 11, 4, 56])\n",
    "print(ironmen)\n",
    "print(type(ironmen))\n",
    "articles = ironmen * 30\n",
    "print(articles)"
   ]
  },
  {
   "cell_type": "code",
   "execution_count": 20,
   "metadata": {
    "collapsed": false
   },
   "outputs": [
    {
     "name": "stdout",
     "output_type": "stream",
     "text": [
      "int64\n",
      "<U21\n"
     ]
    }
   ],
   "source": [
    "import numpy as np\n",
    "my_np_array = np.array([1, True])\n",
    "print(my_np_array.dtype)\n",
    "my_np_array = np.array([1, True, \"one\"])\n",
    "print(my_np_array.dtype)"
   ]
  },
  {
   "cell_type": "code",
   "execution_count": 21,
   "metadata": {
    "collapsed": false
   },
   "outputs": [
    {
     "name": "stdout",
     "output_type": "stream",
     "text": [
      "[[1 1]\n",
      " [0 0]]\n",
      "[['1' 'True']\n",
      " ['zero' 'False']]\n"
     ]
    }
   ],
   "source": [
    "import numpy as np\n",
    "my_2d_array = np.array([[1, True], \n",
    "                        [0, False]])\n",
    "print(my_2d_array)\n",
    "my_2d_array = np.array([[1, True], \n",
    "                        [\"zero\", False]])\n",
    "print(my_2d_array)"
   ]
  },
  {
   "cell_type": "code",
   "execution_count": 22,
   "metadata": {
    "collapsed": false
   },
   "outputs": [
    {
     "name": "stdout",
     "output_type": "stream",
     "text": [
      "[ 1  4  9 16]\n",
      "[[ 1  9]\n",
      " [ 4 16]]\n"
     ]
    }
   ],
   "source": [
    "import numpy as np\n",
    "my_np_array = np.array([1, 2, 3, 4])\n",
    "print(my_np_array ** 2)\n",
    "my_2d_array = np.array([[1, 3], \n",
    "                        [2, 4]])\n",
    "print(my_2d_array ** 2)"
   ]
  },
  {
   "cell_type": "code",
   "execution_count": 23,
   "metadata": {
    "collapsed": false
   },
   "outputs": [
    {
     "name": "stdout",
     "output_type": "stream",
     "text": [
      "46\n",
      "[ True False  True  True False  True]\n",
      "[46 11 11 56]\n"
     ]
    }
   ],
   "source": [
    "import numpy as np\n",
    "ironmen = np.array([46, 8, 11, 11, 4, 56])\n",
    "print(ironmen[0])\n",
    "print(ironmen > 10)\n",
    "print(ironmen[ironmen > 10])"
   ]
  },
  {
   "cell_type": "code",
   "execution_count": 24,
   "metadata": {
    "collapsed": false
   },
   "outputs": [
    {
     "name": "stdout",
     "output_type": "stream",
     "text": [
      "46\n",
      "[[ True  True False]\n",
      " [False  True  True]]\n",
      "[46 11 11 56]\n"
     ]
    }
   ],
   "source": [
    "import numpy as np\n",
    "ironmen_2d_array = np.array([[46, 11, 4],\n",
    "                             [8, 11, 56]])\n",
    "print(ironmen_2d_array[0, 0])\n",
    "print(ironmen_2d_array > 10)\n",
    "print(ironmen_2d_array[ironmen_2d_array > 10])"
   ]
  },
  {
   "cell_type": "code",
   "execution_count": 25,
   "metadata": {
    "collapsed": false
   },
   "outputs": [
    {
     "name": "stdout",
     "output_type": "stream",
     "text": [
      "6\n",
      "(2, 3)\n"
     ]
    }
   ],
   "source": [
    "import numpy as np\n",
    "ironmen_2d_array = np.array([[46, 11, 4],\n",
    "                             [8, 11, 56]])\n",
    "print(ironmen_2d_array.size)\n",
    "print(ironmen_2d_array.shape)"
   ]
  },
  {
   "cell_type": "code",
   "execution_count": 26,
   "metadata": {
    "collapsed": false
   },
   "outputs": [
    {
     "name": "stdout",
     "output_type": "stream",
     "text": [
      "       gorups  ironmen\n",
      "0  Modern Web       46\n",
      "1      DevOps        8\n",
      "2       Cloud       12\n",
      "3    Big Data       12\n",
      "4    Security        6\n",
      "5       自我挑戰組       58\n",
      "<class 'pandas.core.frame.DataFrame'>\n"
     ]
    }
   ],
   "source": [
    "import pandas as pd\n",
    "groups = [\"Modern Web\", \"DevOps\", \"Cloud\", \"Big Data\", \"Security\", \"自我挑戰組\"]\n",
    "ironmen = [46, 8, 12, 12, 6, 58]\n",
    "ironmen_dict = {\"gorups\": groups,\n",
    "                \"ironmen\": ironmen}\n",
    "ironmen_df = pd.DataFrame(ironmen_dict)\n",
    "print(ironmen_df)\n",
    "print(type(ironmen_df))"
   ]
  },
  {
   "cell_type": "code",
   "execution_count": 27,
   "metadata": {
    "collapsed": false
   },
   "outputs": [
    {
     "name": "stdout",
     "output_type": "stream",
     "text": [
      "   col1  col2\n",
      "0     1     3\n",
      "1     2     4\n"
     ]
    }
   ],
   "source": [
    "import numpy as np\n",
    "import pandas as pd\n",
    "my_2d_array = np.array([[1, 3],\n",
    "                        [2, 4]])\n",
    "my_df = pd.DataFrame(my_2d_array, columns = [\"col1\", \"col2\"])\n",
    "print(my_df)"
   ]
  },
  {
   "cell_type": "code",
   "execution_count": 28,
   "metadata": {
    "collapsed": false
   },
   "outputs": [
    {
     "name": "stdout",
     "output_type": "stream",
     "text": [
      "groups     object\n",
      "ironmen     int64\n",
      "dtype: object\n"
     ]
    }
   ],
   "source": [
    "import pandas as pd\n",
    "groups = [\"Modern Web\", \"DevOps\", \"Cloud\", \"Big Data\", \"Security\", \"自我挑戰組\"]\n",
    "ironmen = [46, 8, 12, 12, 6, 58]\n",
    "ironmen_dict = {\"groups\": groups,\n",
    "                \"ironmen\": ironmen}\n",
    "ironmen_df = pd.DataFrame(ironmen_dict)\n",
    "print(ironmen_df.dtypes)"
   ]
  },
  {
   "cell_type": "code",
   "execution_count": 29,
   "metadata": {
    "collapsed": false
   },
   "outputs": [
    {
     "name": "stdout",
     "output_type": "stream",
     "text": [
      "0    46\n",
      "Name: ironmen, dtype: int64\n",
      "---\n",
      "       groups  ironmen\n",
      "0  Modern Web       46\n",
      "---\n",
      "0    46\n",
      "1     8\n",
      "2    12\n",
      "3    12\n",
      "4     6\n",
      "5    58\n",
      "Name: ironmen, dtype: int64\n",
      "---\n",
      "0    46\n",
      "1     8\n",
      "2    12\n",
      "3    12\n",
      "4     6\n",
      "5    58\n",
      "Name: ironmen, dtype: int64\n",
      "---\n",
      "0    46\n",
      "1     8\n",
      "2    12\n",
      "3    12\n",
      "4     6\n",
      "5    58\n",
      "Name: ironmen, dtype: int64\n"
     ]
    }
   ],
   "source": [
    "import pandas as pd\n",
    "groups = [\"Modern Web\", \"DevOps\", \"Cloud\", \"Big Data\", \"Security\", \"自我挑戰組\"]\n",
    "ironmen = [46, 8, 12, 12, 6, 58]\n",
    "ironmen_dict = {\"groups\": groups,\n",
    "                \"ironmen\": ironmen}\n",
    "ironmen_df = pd.DataFrame(ironmen_dict)\n",
    "print(ironmen_df.iloc[0:1, 1])\n",
    "print(\"---\")\n",
    "print(ironmen_df.iloc[0:1, :])\n",
    "print(\"---\")\n",
    "print(ironmen_df.iloc[:, 1])\n",
    "print(\"---\")\n",
    "print(ironmen_df[\"ironmen\"])\n",
    "print(\"---\")\n",
    "print(ironmen_df.ironmen)"
   ]
  },
  {
   "cell_type": "code",
   "execution_count": 30,
   "metadata": {
    "collapsed": false
   },
   "outputs": [
    {
     "name": "stdout",
     "output_type": "stream",
     "text": [
      "       groups  ironmen\n",
      "0  Modern Web       46\n",
      "2       Cloud       12\n",
      "3    Big Data       12\n",
      "5       自我挑戰組       58\n"
     ]
    }
   ],
   "source": [
    "import pandas as pd\n",
    "groups = [\"Modern Web\", \"DevOps\", \"Cloud\", \"Big Data\", \"Security\", \"自我挑戰組\"]\n",
    "ironmen = [46, 8, 12, 12, 6, 58]\n",
    "\n",
    "ironmen_dict = {\"groups\": groups,\n",
    "                \"ironmen\": ironmen}\n",
    "\n",
    "ironmen_df = pd.DataFrame(ironmen_dict)\n",
    "\n",
    "print(ironmen_df[ironmen_df.loc[:,\"ironmen\"] > 10])"
   ]
  },
  {
   "cell_type": "code",
   "execution_count": 31,
   "metadata": {
    "collapsed": false
   },
   "outputs": [
    {
     "name": "stdout",
     "output_type": "stream",
     "text": [
      "(6, 2)\n",
      "---\n",
      "         ironmen\n",
      "count   6.000000\n",
      "mean   23.666667\n",
      "std    22.393451\n",
      "min     6.000000\n",
      "25%     9.000000\n",
      "50%    12.000000\n",
      "75%    37.500000\n",
      "max    58.000000\n",
      "---\n",
      "       groups  ironmen\n",
      "0  Modern Web       46\n",
      "1      DevOps        8\n",
      "2       Cloud       12\n",
      "---\n",
      "     groups  ironmen\n",
      "3  Big Data       12\n",
      "4  Security        6\n",
      "5     自我挑戰組       58\n",
      "---\n",
      "Index(['groups', 'ironmen'], dtype='object')\n",
      "---\n",
      "Int64Index([0, 1, 2, 3, 4, 5], dtype='int64')\n"
     ]
    }
   ],
   "source": [
    "import pandas as pd\n",
    "groups = [\"Modern Web\", \"DevOps\", \"Cloud\", \"Big Data\", \"Security\", \"自我挑戰組\"]\n",
    "ironmen = [46, 8, 12, 12, 6, 58]\n",
    "ironmen_dict = {\"groups\": groups, \n",
    "                \"ironmen\": ironmen}\n",
    "ironmen_df = pd.DataFrame(ironmen_dict)\n",
    "print(ironmen_df.shape)\n",
    "print(\"---\")\n",
    "print(ironmen_df.describe())\n",
    "print(\"---\")\n",
    "print(ironmen_df.head(3))\n",
    "print(\"---\")\n",
    "print(ironmen_df.tail(3))\n",
    "print(\"---\")\n",
    "print(ironmen_df.columns)\n",
    "print(\"---\")\n",
    "print(ironmen_df.index)"
   ]
  },
  {
   "cell_type": "code",
   "execution_count": 32,
   "metadata": {
    "collapsed": false
   },
   "outputs": [
    {
     "name": "stdout",
     "output_type": "stream",
     "text": [
      "[Modern Web, DevOps, Cloud, Big Data, Security, 自我挑戰組]\n",
      "Categories (6, object): [Big Data, Cloud, DevOps, Modern Web, Security, 自我挑戰組]\n",
      "---\n",
      "<class 'pandas.core.categorical.Categorical'>\n"
     ]
    }
   ],
   "source": [
    "import pandas as pd\n",
    "groups_categorical = pd.Categorical([\"Modern Web\", \"DevOps\", \"Cloud\", \"Big Data\", \"Security\", \"自我挑戰組\"])\n",
    "print(groups_categorical)\n",
    "print(\"---\")\n",
    "print(type(groups_categorical))"
   ]
  },
  {
   "cell_type": "code",
   "execution_count": 33,
   "metadata": {
    "collapsed": false
   },
   "outputs": [
    {
     "name": "stdout",
     "output_type": "stream",
     "text": [
      "0    cold\n",
      "1    warm\n",
      "2     hot\n",
      "dtype: category\n",
      "Categories (3, object): [cold < warm < hot]\n"
     ]
    }
   ],
   "source": [
    "import pandas as pd\n",
    "temperature_list = [\"cold\", \"warm\", \"hot\"]\n",
    "temperature_categorical = pd.Categorical(temperature_list, categories = [\"cold\", \"warm\", \"hot\"], ordered = True)\n",
    "temperature = pd.Series(temperature_categorical)\n",
    "print(temperature)"
   ]
  },
  {
   "cell_type": "code",
   "execution_count": 34,
   "metadata": {
    "collapsed": false
   },
   "outputs": [
    {
     "name": "stdout",
     "output_type": "stream",
     "text": [
      "49\n",
      "8\n",
      "12\n",
      "12\n",
      "6\n",
      "61\n"
     ]
    }
   ],
   "source": [
    "ironmen = [49, 8, 12, 12, 6, 61]\n",
    "print(ironmen[0])\n",
    "print(ironmen[1])\n",
    "print(ironmen[2])\n",
    "print(ironmen[3])\n",
    "print(ironmen[4])\n",
    "print(ironmen[5])"
   ]
  },
  {
   "cell_type": "code",
   "execution_count": 35,
   "metadata": {
    "collapsed": false
   },
   "outputs": [
    {
     "name": "stdout",
     "output_type": "stream",
     "text": [
      "49\n",
      "8\n",
      "12\n",
      "12\n",
      "6\n",
      "61\n",
      "---\n",
      "61\n",
      "\n",
      "\n",
      "49\n",
      "8\n",
      "12\n",
      "12\n",
      "6\n",
      "61\n",
      "---\n",
      "5\n",
      "[0, 1, 2, 3, 4, 5]\n"
     ]
    }
   ],
   "source": [
    "ironmen = [49, 8, 12, 12, 6, 61]\n",
    "for ironman in ironmen:\n",
    "    print(ironman)\n",
    "print(\"---\")\n",
    "print(ironman)\n",
    "\n",
    "print(\"\\n\")\n",
    "\n",
    "for index in list(range(len(ironmen))):\n",
    "    print(ironmen[index])\n",
    "print(\"---\")\n",
    "print(index)\n",
    "\n",
    "print(list(range(len(ironmen))))"
   ]
  },
  {
   "cell_type": "code",
   "execution_count": 36,
   "metadata": {
    "collapsed": false
   },
   "outputs": [
    {
     "name": "stdout",
     "output_type": "stream",
     "text": [
      "49\n",
      "8\n",
      "12\n",
      "12\n",
      "6\n",
      "61\n",
      "---\n",
      "6\n"
     ]
    }
   ],
   "source": [
    "ironmen = [49, 8, 12, 12, 6, 61]\n",
    "index = 0\n",
    "while index < len(ironmen):\n",
    "    print(ironmen[index])\n",
    "    index += 1\n",
    "print(\"---\")\n",
    "print(index)"
   ]
  },
  {
   "cell_type": "code",
   "execution_count": 37,
   "metadata": {
    "collapsed": false
   },
   "outputs": [
    {
     "name": "stdout",
     "output_type": "stream",
     "text": [
      "1 是奇數\n",
      "2 是偶數\n",
      "3 是奇數\n",
      "4 是偶數\n",
      "5 是奇數\n",
      "6 是偶數\n",
      "7 是奇數\n",
      "8 是偶數\n",
      "9 是奇數\n",
      "10 是偶數\n"
     ]
    }
   ],
   "source": [
    "my_seq = list(range(1, 11))\n",
    "for index in my_seq:\n",
    "    if (index % 2 == 0):\n",
    "        print(index, \"是偶數\")\n",
    "    else:\n",
    "        print(index, \"是奇數\")"
   ]
  },
  {
   "cell_type": "code",
   "execution_count": 38,
   "metadata": {
    "collapsed": false
   },
   "outputs": [
    {
     "name": "stdout",
     "output_type": "stream",
     "text": [
      "1 除以 3 餘數是 1\n",
      "2 除以 3 餘數是 2\n",
      "3 可以被 3 整除\n",
      "4 除以 3 餘數是 1\n",
      "5 除以 3 餘數是 2\n",
      "6 可以被 3 整除\n",
      "7 除以 3 餘數是 1\n",
      "8 除以 3 餘數是 2\n",
      "9 可以被 3 整除\n",
      "10 除以 3 餘數是 1\n"
     ]
    }
   ],
   "source": [
    "my_seq = list(range(1, 11))\n",
    "for index in my_seq:\n",
    "    if (index % 3 == 0):\n",
    "        print(index, \"可以被 3 整除\")\n",
    "    elif (index % 3 == 1):\n",
    "        print(index, \"除以 3 餘數是 1\")\n",
    "    else:\n",
    "        print(index, \"除以 3 餘數是 2\")"
   ]
  },
  {
   "cell_type": "code",
   "execution_count": 39,
   "metadata": {
    "collapsed": false,
    "scrolled": true
   },
   "outputs": [
    {
     "name": "stdout",
     "output_type": "stream",
     "text": [
      "49\n",
      "---\n",
      "8\n",
      "\n",
      "\n",
      "49\n",
      "12\n",
      "12\n",
      "61\n",
      "---\n",
      "61\n"
     ]
    }
   ],
   "source": [
    "ironmen = [49, 8, 12, 12, 6, 61]\n",
    "for ironman in ironmen:\n",
    "    if(ironman < 10):\n",
    "        break\n",
    "    else:\n",
    "        print(ironman)\n",
    "print(\"---\")\n",
    "print(ironman)\n",
    "\n",
    "print(\"\\n\")\n",
    "\n",
    "for ironman in ironmen:\n",
    "    if(ironman < 10):\n",
    "        continue\n",
    "    else:\n",
    "        print(ironman)\n",
    "        \n",
    "print(\"---\")\n",
    "print(ironman)"
   ]
  },
  {
   "cell_type": "raw",
   "metadata": {
    "collapsed": true
   },
   "source": [
    "ironmen = [50, 8, 16, 12, 6, 62]\n",
    "print(max(ironmen))\n",
    "print(min(ironmen))\n",
    "print(len(ironmen))\n",
    "print(sorted(ironmen))\n",
    "print(sorted(ironmen, reverse = True))"
   ]
  },
  {
   "cell_type": "code",
   "execution_count": 40,
   "metadata": {
    "collapsed": false
   },
   "outputs": [
    {
     "name": "stdout",
     "output_type": "stream",
     "text": [
      "Help on built-in function sorted in module builtins:\n",
      "\n",
      "sorted(iterable, key=None, reverse=False)\n",
      "    Return a new list containing all items from the iterable in ascending order.\n",
      "    \n",
      "    A custom key function can be supplied to customise the sort order, and the\n",
      "    reverse flag can be set to request the result in descending order.\n",
      "\n"
     ]
    }
   ],
   "source": [
    "sorted?\n",
    "help(sorted)"
   ]
  },
  {
   "cell_type": "code",
   "execution_count": 41,
   "metadata": {
    "collapsed": false
   },
   "outputs": [
    {
     "name": "stdout",
     "output_type": "stream",
     "text": [
      "28.274333882308138\n",
      "18.84955592153876\n"
     ]
    }
   ],
   "source": [
    "import math # 為了使用pi\n",
    "def circle_calculate(radius, area = True):\n",
    "    '依據輸入的半徑與area參數計算圓形的面積或周長'\n",
    "    circle_area = math.pi * radius ** 2\n",
    "    circle_circum = 2 * math.pi * radius\n",
    "    if area == True:\n",
    "        return circle_area\n",
    "    else:\n",
    "        return circle_circum\n",
    "my_radius = 3\n",
    "print(circle_calculate(my_radius))\n",
    "print(circle_calculate(my_radius, area = False))"
   ]
  },
  {
   "cell_type": "code",
   "execution_count": 42,
   "metadata": {
    "collapsed": false
   },
   "outputs": [
    {
     "name": "stdout",
     "output_type": "stream",
     "text": [
      "[59, 77, 48, 5, 13, 45, 37, 21, 16, 6]\n",
      "[5, 6, 13, 16, 21, 37, 45, 48, 59, 77]\n",
      "[77, 59, 48, 45, 37, 21, 16, 13, 6, 5]\n"
     ]
    }
   ],
   "source": [
    "import random\n",
    "def exchange_sort(input_list, reverse = False):\n",
    "    ''' # 多行的docstrings\n",
    "    依據輸入的 list 與 reverse 參數排序 list 中的數字後回傳。\n",
    "    reverse 參數預設為 False 遞增排序，可以修改為 True 遞減排序。\n",
    "    '''\n",
    "    input_list_cloned = input_list\n",
    "    if reverse == False:\n",
    "        for i in range(0, len(input_list) - 1):\n",
    "            for j in range(i + 1, len(input_list)):\n",
    "                if input_list_cloned[i] > input_list_cloned[j]:\n",
    "                    temp = input_list_cloned[i]\n",
    "                    input_list_cloned[i] = input_list_cloned[j]\n",
    "                    input_list_cloned[j] = temp\n",
    "    else:\n",
    "        for i in range(0, len(input_list) - 1):\n",
    "            for j in range(i + 1, len(input_list)):\n",
    "                if input_list_cloned[i] < input_list_cloned[j]:\n",
    "                    temp = input_list_cloned[i]\n",
    "                    input_list_cloned[i] = input_list_cloned[j]\n",
    "                    input_list_cloned[j] = temp\n",
    "    return input_list_cloned\n",
    "my_vector = random.sample(range(0, 100), 10)\n",
    "print(my_vector)\n",
    "print(exchange_sort(my_vector))\n",
    "print(exchange_sort(my_vector, reverse = True))"
   ]
  },
  {
   "cell_type": "code",
   "execution_count": 43,
   "metadata": {
    "collapsed": false
   },
   "outputs": [
    {
     "name": "stdout",
     "output_type": "stream",
     "text": [
      "\n",
      " 最多： 62 \n",
      " 最少： 6 \n",
      " 總組數： 6 \n",
      " 總鐵人數： 154\n"
     ]
    }
   ],
   "source": [
    "def ironmen_stats(ironmen_list):\n",
    "    max_ironmen = max(ironmen_list)\n",
    "    min_ironmen = min(ironmen_list)\n",
    "    ttl_groups = len(ironmen_list)\n",
    "    ttl_ironmen = sum(ironmen_list)\n",
    "    return max_ironmen, min_ironmen, ttl_groups, ttl_ironmen\n",
    "    \n",
    "ironmen = [50, 8, 16, 12, 6, 62]\n",
    "max_ironmen, min_ironmen, ttl_groups, ttl_ironmen = ironmen_stats(ironmen)\n",
    "print(\"\\n\", \"最多：\", max_ironmen, \"\\n\", \"最少：\", min_ironmen, \"\\n\", \"總組數：\", ttl_groups, \"\\n\", \"總鐵人數：\", ttl_ironmen)"
   ]
  },
  {
   "cell_type": "code",
   "execution_count": 44,
   "metadata": {
    "collapsed": false
   },
   "outputs": [
    {
     "name": "stdout",
     "output_type": "stream",
     "text": [
      "[1500, 240, 480, 360, 180, 1860]\n"
     ]
    }
   ],
   "source": [
    "# 匿名函數lambda\n",
    "ironmen = [50, 8, 16, 12, 6, 62]\n",
    "ironmen_articles = list(map(lambda x : x * 30, ironmen))\n",
    "print(ironmen_articles)"
   ]
  },
  {
   "cell_type": "code",
   "execution_count": 45,
   "metadata": {
    "collapsed": false
   },
   "outputs": [
    {
     "name": "stdout",
     "output_type": "stream",
     "text": [
      "9\n"
     ]
    },
    {
     "ename": "NameError",
     "evalue": "name 'ans' is not defined",
     "output_type": "error",
     "traceback": [
      "\u001b[0;31m---------------------------------------------------------------------------\u001b[0m",
      "\u001b[0;31mNameError\u001b[0m                                 Traceback (most recent call last)",
      "\u001b[0;32m<ipython-input-45-f7d8b600ea2e>\u001b[0m in \u001b[0;36m<module>\u001b[0;34m()\u001b[0m\n\u001b[1;32m      4\u001b[0m     \u001b[0;32mreturn\u001b[0m \u001b[0mans\u001b[0m\u001b[0;34m\u001b[0m\u001b[0m\n\u001b[1;32m      5\u001b[0m \u001b[0mprint\u001b[0m\u001b[0;34m(\u001b[0m\u001b[0mmy_square\u001b[0m\u001b[0;34m(\u001b[0m\u001b[0;36m3\u001b[0m\u001b[0;34m)\u001b[0m\u001b[0;34m)\u001b[0m\u001b[0;34m\u001b[0m\u001b[0m\n\u001b[0;32m----> 6\u001b[0;31m \u001b[0mprint\u001b[0m\u001b[0;34m(\u001b[0m\u001b[0mans\u001b[0m\u001b[0;34m)\u001b[0m\u001b[0;34m\u001b[0m\u001b[0m\n\u001b[0m",
      "\u001b[0;31mNameError\u001b[0m: name 'ans' is not defined"
     ]
    }
   ],
   "source": [
    "def my_square(input_number):\n",
    "    '計算平方數'\n",
    "    ans = input_number ** 2\n",
    "    return ans\n",
    "print(my_square(3))\n",
    "print(ans)"
   ]
  },
  {
   "cell_type": "code",
   "execution_count": null,
   "metadata": {
    "collapsed": false
   },
   "outputs": [],
   "source": [
    "ans = 1\n",
    "def my_square(input_number):\n",
    "    '計算平方數'\n",
    "    ans = input_number ** 2\n",
    "    return ans\n",
    "print(my_square(3))\n",
    "print(ans)"
   ]
  },
  {
   "cell_type": "code",
   "execution_count": 46,
   "metadata": {
    "collapsed": false
   },
   "outputs": [
    {
     "name": "stdout",
     "output_type": "stream",
     "text": [
      "26.666666666666668\n"
     ]
    }
   ],
   "source": [
    "def my_mean(input_list):\n",
    "    '計算平均數'\n",
    "    def my_sum(input_list):\n",
    "        '計算總和'\n",
    "        temp_sum = 0\n",
    "        for i in input_list:\n",
    "            temp_sum += i\n",
    "        return temp_sum\n",
    "    def my_length(input_list):\n",
    "        '計算個數'\n",
    "        temp_length = 0\n",
    "        for i in input_list:\n",
    "            temp_length += 1\n",
    "        return temp_length\n",
    "    return my_sum(input_list) / my_length(input_list)\n",
    "\n",
    "my_list = [51, 8, 18, 13, 6, 64]\n",
    "print(my_mean(my_list))"
   ]
  },
  {
   "cell_type": "code",
   "execution_count": 47,
   "metadata": {
    "collapsed": false
   },
   "outputs": [
    {
     "name": "stdout",
     "output_type": "stream",
     "text": [
      "9\n",
      "請輸入數值。\n"
     ]
    }
   ],
   "source": [
    "def my_square(input_number):\n",
    "    '計算平方數且有錯誤處理的函數'\n",
    "    try:\n",
    "        ans = input_number ** 2\n",
    "        return ans\n",
    "    except:\n",
    "        print(\"請輸入數值。\")\n",
    "print(my_square(3))\n",
    "my_square('ironmen')"
   ]
  },
  {
   "cell_type": "code",
   "execution_count": 48,
   "metadata": {
    "collapsed": false
   },
   "outputs": [
    {
     "name": "stdout",
     "output_type": "stream",
     "text": [
      "51\n",
      "8\n",
      "18\n",
      "13\n",
      "6\n",
      "---\n",
      "51\n",
      "8\n",
      "18\n",
      "13\n",
      "6\n",
      "---\n",
      "51\n",
      "8\n",
      "18\n",
      "13\n",
      "6\n",
      "64\n"
     ]
    }
   ],
   "source": [
    "def ironmen_list(*args):\n",
    "    '列出各組參賽帖人數'\n",
    "    for ironman in args:\n",
    "        print(ironman)\n",
    "\n",
    "ironmen_list(51, 8, 18, 13, 6)\n",
    "print(\"---\")\n",
    "ironmen_list(51, 8, 18, 13, 6)\n",
    "print(\"---\")\n",
    "ironmen_list(51, 8, 18, 13, 6, 64)"
   ]
  },
  {
   "cell_type": "code",
   "execution_count": 49,
   "metadata": {
    "collapsed": false,
    "scrolled": true
   },
   "outputs": [
    {
     "name": "stdout",
     "output_type": "stream",
     "text": [
      "DevOps ： 8 人\n",
      "Cloud ： 18 人\n",
      "Security ： 6 人\n",
      "自我挑戰組 ： 64 人\n",
      "ModernWeb ： 51 人\n",
      "BigData ： 13 人\n"
     ]
    }
   ],
   "source": [
    "def ironmen_list(**kwargs):\n",
    "    '列出各組參賽鐵人數'\n",
    "    for key in kwargs:\n",
    "        print(key, \"：\", kwargs[key], \"人\")\n",
    "ironmen_list(ModernWeb = 51, DevOps = 8, Cloud = 18, BigData = 13, Security = 6, 自我挑戰組 = 64)"
   ]
  },
  {
   "cell_type": "code",
   "execution_count": 50,
   "metadata": {
    "collapsed": false,
    "scrolled": true
   },
   "outputs": [
    {
     "data": {
      "text/html": [
       "<div>\n",
       "<table border=\"1\" class=\"dataframe\">\n",
       "  <thead>\n",
       "    <tr style=\"text-align: right;\">\n",
       "      <th></th>\n",
       "      <th>groups</th>\n",
       "      <th>ironmen</th>\n",
       "    </tr>\n",
       "  </thead>\n",
       "  <tbody>\n",
       "    <tr>\n",
       "      <th>0</th>\n",
       "      <td>Modern Web</td>\n",
       "      <td>51</td>\n",
       "    </tr>\n",
       "    <tr>\n",
       "      <th>1</th>\n",
       "      <td>DevOps</td>\n",
       "      <td>8</td>\n",
       "    </tr>\n",
       "    <tr>\n",
       "      <th>2</th>\n",
       "      <td>Cloud</td>\n",
       "      <td>18</td>\n",
       "    </tr>\n",
       "  </tbody>\n",
       "</table>\n",
       "</div>"
      ],
      "text/plain": [
       "       groups  ironmen\n",
       "0  Modern Web       51\n",
       "1      DevOps        8\n",
       "2       Cloud       18"
      ]
     },
     "execution_count": 50,
     "metadata": {},
     "output_type": "execute_result"
    }
   ],
   "source": [
    "import pandas as pd\n",
    "groups = [\"Modern Web\", \"DevOps\", \"Cloud\", \"Big Data\", \"Security\", \"自我挑戰組\"]\n",
    "ironmen = [51, 8, 18, 14, 6, 64]\n",
    "ironmen_dict = {\"groups\": groups,\n",
    "                \"ironmen\": ironmen}\n",
    "ironmen_df = pd.DataFrame(ironmen_dict)\n",
    "ironmen_df.head(n = 3)"
   ]
  },
  {
   "cell_type": "code",
   "execution_count": 51,
   "metadata": {
    "collapsed": false
   },
   "outputs": [
    {
     "data": {
      "text/html": [
       "<div>\n",
       "<table border=\"1\" class=\"dataframe\">\n",
       "  <thead>\n",
       "    <tr style=\"text-align: right;\">\n",
       "      <th></th>\n",
       "      <th>groups</th>\n",
       "      <th>ironmen</th>\n",
       "    </tr>\n",
       "  </thead>\n",
       "  <tbody>\n",
       "    <tr>\n",
       "      <th>0</th>\n",
       "      <td>Modern Web</td>\n",
       "      <td>51</td>\n",
       "    </tr>\n",
       "    <tr>\n",
       "      <th>1</th>\n",
       "      <td>DevOps</td>\n",
       "      <td>8</td>\n",
       "    </tr>\n",
       "    <tr>\n",
       "      <th>2</th>\n",
       "      <td>Cloud</td>\n",
       "      <td>18</td>\n",
       "    </tr>\n",
       "  </tbody>\n",
       "</table>\n",
       "</div>"
      ],
      "text/plain": [
       "       groups  ironmen\n",
       "0  Modern Web       51\n",
       "1      DevOps        8\n",
       "2       Cloud       18"
      ]
     },
     "execution_count": 51,
     "metadata": {},
     "output_type": "execute_result"
    }
   ],
   "source": [
    "import pandas as pd\n",
    "groups = [\"Modern Web\", \"DevOps\", \"Cloud\", \"Big Data\", \"Security\", \"自我挑戰組\"]\n",
    "ironmen = [51, 8, 18, 14, 6, 64]\n",
    "ironmen_dict = {\"groups\": groups,\n",
    "                \"ironmen\": ironmen}\n",
    "ironmen_df = pd.DataFrame(ironmen_dict)\n",
    "ironmen_df.head(n = 3)"
   ]
  },
  {
   "cell_type": "code",
   "execution_count": 52,
   "metadata": {
    "collapsed": false
   },
   "outputs": [
    {
     "name": "stdout",
     "output_type": "stream",
     "text": [
      "groups     object\n",
      "ironmen     int64\n",
      "dtype: object\n"
     ]
    },
    {
     "data": {
      "text/html": [
       "<div>\n",
       "<table border=\"1\" class=\"dataframe\">\n",
       "  <thead>\n",
       "    <tr style=\"text-align: right;\">\n",
       "      <th></th>\n",
       "      <th>groups</th>\n",
       "      <th>ironmen</th>\n",
       "    </tr>\n",
       "  </thead>\n",
       "  <tbody>\n",
       "    <tr>\n",
       "      <th>0</th>\n",
       "      <td>Modern Web</td>\n",
       "      <td>54</td>\n",
       "    </tr>\n",
       "    <tr>\n",
       "      <th>1</th>\n",
       "      <td>DevOps</td>\n",
       "      <td>8</td>\n",
       "    </tr>\n",
       "    <tr>\n",
       "      <th>2</th>\n",
       "      <td>Cloud</td>\n",
       "      <td>18</td>\n",
       "    </tr>\n",
       "  </tbody>\n",
       "</table>\n",
       "</div>"
      ],
      "text/plain": [
       "       groups  ironmen\n",
       "0  Modern Web       54\n",
       "1      DevOps        8\n",
       "2       Cloud       18"
      ]
     },
     "execution_count": 52,
     "metadata": {},
     "output_type": "execute_result"
    }
   ],
   "source": [
    "import pandas as pd\n",
    "groups = [\"Modern Web\", \"DevOps\", \"Cloud\", \"Big Data\", \"Security\", \"自我挑戰組\"]\n",
    "ironmen = [54, 8, 18, 14, 6, 65]\n",
    "ironmen_dict = {\"groups\": groups,\n",
    "                \"ironmen\": ironmen}\n",
    "ironmen_df = pd.DataFrame(ironmen_dict)\n",
    "print(ironmen_df.dtypes)\n",
    "ironmen_df.head(n = 3)"
   ]
  },
  {
   "cell_type": "code",
   "execution_count": 53,
   "metadata": {
    "collapsed": false
   },
   "outputs": [
    {
     "name": "stdout",
     "output_type": "stream",
     "text": [
      "<class '__main__.Ironmen'>\n"
     ]
    }
   ],
   "source": [
    "class Ironmen:\n",
    "    '''這是一個叫做 Ironmen 的類別''' # Doc string\n",
    "    def __init__(self, group, participants):\n",
    "        self.group = group\n",
    "        self.participants = participants\n",
    "print(Ironmen)"
   ]
  },
  {
   "cell_type": "code",
   "execution_count": 54,
   "metadata": {
    "collapsed": false
   },
   "outputs": [
    {
     "name": "stdout",
     "output_type": "stream",
     "text": [
      "<__main__.Ironmen object at 0x112e642e8>\n"
     ]
    }
   ],
   "source": [
    "class Ironmen:\n",
    "    '''這是一個叫做 Ironmen 的類別'''\n",
    "    def __init__(self, group, participants):\n",
    "        self.group = group\n",
    "        self.participants = participants\n",
    "\n",
    "# 根據 Ironmen 類別建立一個物件 modern_web\n",
    "modern_web = Ironmen(\"Modern Web\", 54)\n",
    "print(modern_web)"
   ]
  },
  {
   "cell_type": "code",
   "execution_count": 55,
   "metadata": {
    "collapsed": false
   },
   "outputs": [
    {
     "name": "stdout",
     "output_type": "stream",
     "text": [
      "Modern Web\n",
      "54\n",
      "這是一個叫做 Ironmen 的類別\n"
     ]
    }
   ],
   "source": [
    "class Ironmen:\n",
    "    '''這是一個叫做 Ironmen 的類別'''\n",
    "    def __init__(self, group, participants):\n",
    "        self.group = group\n",
    "        self.participants = participants\n",
    "\n",
    "# 根據 Ironmen 類別建立一個物件 modern_web\n",
    "modern_web = Ironmen(\"Modern Web\", 54)\n",
    "\n",
    "# 印出 modern_web 的兩種屬性\n",
    "print(modern_web.group)\n",
    "print(modern_web.participants)\n",
    "\n",
    "# 印出 modern_web 的類別 doc string\n",
    "print(modern_web.__doc__)"
   ]
  },
  {
   "cell_type": "code",
   "execution_count": 56,
   "metadata": {
    "collapsed": false
   },
   "outputs": [
    {
     "data": {
      "text/plain": [
       "['__class__',\n",
       " '__delattr__',\n",
       " '__dict__',\n",
       " '__dir__',\n",
       " '__doc__',\n",
       " '__eq__',\n",
       " '__format__',\n",
       " '__ge__',\n",
       " '__getattribute__',\n",
       " '__gt__',\n",
       " '__hash__',\n",
       " '__init__',\n",
       " '__le__',\n",
       " '__lt__',\n",
       " '__module__',\n",
       " '__ne__',\n",
       " '__new__',\n",
       " '__reduce__',\n",
       " '__reduce_ex__',\n",
       " '__repr__',\n",
       " '__setattr__',\n",
       " '__sizeof__',\n",
       " '__str__',\n",
       " '__subclasshook__',\n",
       " '__weakref__',\n",
       " 'group',\n",
       " 'participants']"
      ]
     },
     "execution_count": 56,
     "metadata": {},
     "output_type": "execute_result"
    }
   ],
   "source": [
    "class Ironmen:\n",
    "    '''這是一個叫做 Ironmen 的類別'''\n",
    "    def __init__(self, group, participants):\n",
    "        self.group = group\n",
    "        self.participants = participants\n",
    "        \n",
    "# 根據 Ironmen 類別建立一個物件 modern_web\n",
    "modern_web = Ironmen(\"Modern Web\", 54)\n",
    "\n",
    "dir(modern_web) # 看所有屬性"
   ]
  },
  {
   "cell_type": "code",
   "execution_count": 58,
   "metadata": {
    "collapsed": false
   },
   "outputs": [
    {
     "name": "stdout",
     "output_type": "stream",
     "text": [
      "Modern Web 組有 54 位鐵人參賽！\n",
      "DevOps 組有 8 位鐵人參賽！\n"
     ]
    }
   ],
   "source": [
    "class Ironmen:\n",
    "    '''這是一個叫做 Ironmen 的類別''' # Doc string\n",
    "    def __init__(self, group, participants):\n",
    "        self.group = group\n",
    "        self.participants = participants\n",
    "    def print_info(self):\n",
    "        print(self.group, \"組有\", self.participants, \"位鐵人參賽！\")\n",
    "\n",
    "# 根據 Ironmen 類別建立一個物件 modern_web\n",
    "modern_web = Ironmen(\"Modern Web\", 54)\n",
    "\n",
    "# 根據 Ironmen 類別建立一個物件 dev_ops\n",
    "dev_ops = Ironmen(\"DevOps\", 8)\n",
    "\n",
    "modern_web.print_info()\n",
    "dev_ops.print_info()"
   ]
  },
  {
   "cell_type": "code",
   "execution_count": 59,
   "metadata": {
    "collapsed": false
   },
   "outputs": [
    {
     "name": "stdout",
     "output_type": "stream",
     "text": [
      "Modern Web 組預計會有 1620 篇文章！\n",
      "Modern Web 組有 54 位鐵人參賽！\n"
     ]
    }
   ],
   "source": [
    "class Ironmen:\n",
    "    '''這是一個叫做 Ironmen 的類別''' # Doc string\n",
    "    def __init__(self, group, participants):\n",
    "        self.group = group\n",
    "        self.participants = participants\n",
    "    def print_info(self):\n",
    "        print(self.group, \"組有\", self.participants, \"位鐵人參賽！\")\n",
    "\n",
    "# Articles 類別繼承 Ironmen 類別\n",
    "class Articles(Ironmen):\n",
    "    '''\n",
    "    這是一個叫做 Articles 的類別。\n",
    "    Articles 繼承 Ironmen 類別，她新增了一個 print_articles()方法\n",
    "    '''\n",
    "    def print_articles(self):\n",
    "        print(self.group, \"組預計會有\", self.participants * 30, \"篇文章！\")\n",
    "\n",
    "# 根據 Articles 類別建立一個物件 modern_web\n",
    "modern_web = Articles(\"Modern Web\", 54)\n",
    "\n",
    "# 使用 modern_web 的 print_articles() 方法\n",
    "modern_web.print_articles()\n",
    "\n",
    "# 檢查 modern_web 是否還擁有 print_info() 方法\n",
    "modern_web.print_info()"
   ]
  },
  {
   "cell_type": "code",
   "execution_count": 60,
   "metadata": {
    "collapsed": false
   },
   "outputs": [
    {
     "name": "stdout",
     "output_type": "stream",
     "text": [
      "Modern Web\n",
      "54\n"
     ]
    }
   ],
   "source": [
    "class OnlyGroup:\n",
    "    '''這是一個叫做 OnlyGroup 的類別''' # Doc string\n",
    "    def __init__(self, group):\n",
    "        self.group = group\n",
    "\n",
    "# Ironmen 類別繼承 OnlyGroup 類別\n",
    "class Ironmen(OnlyGroup):\n",
    "    '''這是一個叫做 Ironmen 的類別''' # Doc string\n",
    "    def __init__(self, group, participants):\n",
    "        super().__init__(group)\n",
    "        self.participants = participants\n",
    "\n",
    "modern_web = Ironmen(\"Modern Web\", 54)\n",
    "\n",
    "print(modern_web.group)\n",
    "print(modern_web.participants)"
   ]
  },
  {
   "cell_type": "code",
   "execution_count": 61,
   "metadata": {
    "collapsed": false
   },
   "outputs": [
    {
     "name": "stdout",
     "output_type": "stream",
     "text": [
      "Modern Web 組有 54 位鐵人參賽！p.s.我被改寫了！\n"
     ]
    }
   ],
   "source": [
    "class Ironmen:\n",
    "    '''這是一個叫做 Ironmen 的類別''' # Doc string\n",
    "    def __init__(self, group, participants):\n",
    "        self.group = group\n",
    "        self.participants = participants\n",
    "    def print_info(self):\n",
    "        print(self.group, \"組有\", self.participants, \"位鐵人參賽！\")\n",
    "\n",
    "class Articles(Ironmen):\n",
    "    '''\n",
    "    這是一個叫做 Articles 的類別。\n",
    "    Articles 繼承 Ironmen 類別，她新增了一個 print_articles()方法\n",
    "    '''\n",
    "    def print_articles(self):\n",
    "        print(self.group, \"組預計會有\", self.participants * 30, \"篇文章！\")\n",
    "    def print_info(self):\n",
    "        print(self.group, \"組有\", self.participants, \"位鐵人參賽！p.s.我被改寫了！\")\n",
    "\n",
    "modern_web = Articles(\"Modern Web\", 54)\n",
    "\n",
    "modern_web.print_info()"
   ]
  },
  {
   "cell_type": "code",
   "execution_count": 63,
   "metadata": {
    "collapsed": false
   },
   "outputs": [
    {
     "name": "stdout",
     "output_type": "stream",
     "text": [
      "(2448832297382707, 281474976710656)\n",
      "False\n",
      "0x1.1666666666666p+3\n",
      "8.7\n"
     ]
    }
   ],
   "source": [
    "my_float = 8.7\n",
    "print(my_float.as_integer_ratio())\n",
    "print(my_float.is_integer())\n",
    "print(my_float.hex())\n",
    "print(float.fromhex(\"0x1.1666666666666p+3\"))"
   ]
  },
  {
   "cell_type": "code",
   "execution_count": 64,
   "metadata": {
    "collapsed": false
   },
   "outputs": [
    {
     "name": "stdout",
     "output_type": "stream",
     "text": [
      "7\n",
      "b'\\x00W'\n",
      "87\n",
      "---\n",
      "b'\\x00\\x00\\x00\\x00\\x00\\x00\\x00\\x00\\x00W'\n",
      "87\n"
     ]
    }
   ],
   "source": [
    "my_int = 87\n",
    "print(my_int.bit_length())\n",
    "print(my_int.to_bytes(length = 2, byteorder = \"big\"))\n",
    "print(int.from_bytes(b'\\x00W', byteorder = \"big\"))\n",
    "print(\"---\")\n",
    "print(my_int.to_bytes(length = 10, byteorder = \"big\"))\n",
    "print(int.from_bytes(b'\\x00\\x00\\x00\\x00\\x00\\x00\\x00\\x00\\x00W', byteorder = \"big\"))"
   ]
  },
  {
   "cell_type": "code",
   "execution_count": 65,
   "metadata": {
    "collapsed": false
   },
   "outputs": [
    {
     "name": "stdout",
     "output_type": "stream",
     "text": [
      "8.0\n",
      "7.0\n",
      "(8-7j)\n"
     ]
    }
   ],
   "source": [
    "my_complex = 8 + 7j\n",
    "print(my_complex.real)\n",
    "print(my_complex.imag)\n",
    "print(my_complex.conjugate())"
   ]
  },
  {
   "cell_type": "code",
   "execution_count": 74,
   "metadata": {
    "collapsed": false
   },
   "outputs": [
    {
     "name": "stdout",
     "output_type": "stream",
     "text": [
      "True\n",
      "False\n",
      "9\n",
      "3\n",
      "It's the 2017 ithelp ironman contest\n",
      "It's the 2017 ithelp ironman contest!!!\n",
      "It'S The 2017 Ithelp Ironman Contest!!!\n",
      "IT'S THE 2017 ITHELP IRONMAN CONTEST!!!\n",
      "it's the 2017 ithelp ironman contest!!!\n",
      "iT'S THE 2017 ITHELP IRONMAN CONTEST!!!\n",
      "It's the 2017 ithelp ironman competition!!!\n"
     ]
    }
   ],
   "source": [
    "my_str = \"It's the 2017 ithelp ironman contest!!!\"\n",
    "\n",
    "print(my_str.startswith(\"It's\"))\n",
    "print(my_str.endswith(\"contest??\"))\n",
    "print(my_str.find(\"2017\"))\n",
    "print(my_str.count(\"!\"))\n",
    "print(my_str.strip(\"!\"))\n",
    "print(my_str.capitalize())\n",
    "print(my_str.title())\n",
    "print(my_str.upper())\n",
    "print(my_str.lower())\n",
    "print(my_str.swapcase())\n",
    "print(my_str.replace(\"contest\", \"competition\"))"
   ]
  },
  {
   "cell_type": "code",
   "execution_count": 76,
   "metadata": {
    "collapsed": false
   },
   "outputs": [
    {
     "name": "stdout",
     "output_type": "stream",
     "text": [
      "1\n",
      "b'\\x00\\x01'\n",
      "True\n",
      "---\n",
      "b'\\x00\\x00\\x00\\x00\\x00\\x00\\x00\\x00\\x00\\x01'\n",
      "True\n"
     ]
    }
   ],
   "source": [
    "my_bool = True\n",
    "print(my_bool.bit_length())\n",
    "print(my_bool.to_bytes(length = 2, byteorder = \"big\"))\n",
    "print(bool.from_bytes(b'\\x00\\x01', byteorder = \"big\"))\n",
    "print(\"---\")\n",
    "print(my_bool.to_bytes(length = 10, byteorder = \"big\"))\n",
    "print(bool.from_bytes(b'\\x00\\x00\\x00\\x00\\x00\\x00\\x00\\x00\\x00\\x01', byteorder = \"big\"))"
   ]
  },
  {
   "cell_type": "code",
   "execution_count": 80,
   "metadata": {
    "collapsed": false
   },
   "outputs": [
    {
     "name": "stdout",
     "output_type": "stream",
     "text": [
      "[56, 8, 18, 14, 6, 66]\n",
      "[56, 8, 18, 14, 6]\n",
      "[56, 8, 18, 14, 6]\n",
      "2\n",
      "[6, 8, 14, 18, 56, 66]\n",
      "[66, 56, 18, 14, 8, 6]\n"
     ]
    }
   ],
   "source": [
    "ironmen = [56, 8, 18, 14, 6]\n",
    "\n",
    "ironmen.append(66)\n",
    "print(ironmen)\n",
    "ironmen.pop()\n",
    "print(ironmen)\n",
    "ironmen.insert(5, 66)\n",
    "ironmen.remove(66)\n",
    "print(ironmen)\n",
    "ironmen.index(56)\n",
    "ironmen.append(66)\n",
    "ironmen.append(66)\n",
    "print(ironmen.count(66))\n",
    "ironmen.pop()\n",
    "ironmen.sort()\n",
    "print(ironmen)\n",
    "ironmen.reverse()\n",
    "print(ironmen)"
   ]
  },
  {
   "cell_type": "code",
   "execution_count": 81,
   "metadata": {
    "collapsed": false
   },
   "outputs": [
    {
     "name": "stdout",
     "output_type": "stream",
     "text": [
      "0\n",
      "2\n"
     ]
    }
   ],
   "source": [
    "my_tuple = (56, 8, 18, 14, 6, 6)\n",
    "print(my_tuple.index(56))\n",
    "print(my_tuple.count(6))"
   ]
  },
  {
   "cell_type": "code",
   "execution_count": 83,
   "metadata": {
    "collapsed": false
   },
   "outputs": [
    {
     "name": "stdout",
     "output_type": "stream",
     "text": [
      "56\n",
      "dict_keys(['Big Data', 'Modern Web', 'DevOps', 'Security', '自我挑戰組', 'Cloud'])\n",
      "dict_items([('Big Data', 14), ('Modern Web', 56), ('DevOps', 8), ('Security', 6), ('自我挑戰組', 66), ('Cloud', 18)])\n",
      "dict_values([14, 56, 8, 6, 66, 18])\n"
     ]
    },
    {
     "data": {
      "text/plain": [
       "['__class__',\n",
       " '__contains__',\n",
       " '__delattr__',\n",
       " '__delitem__',\n",
       " '__dir__',\n",
       " '__doc__',\n",
       " '__eq__',\n",
       " '__format__',\n",
       " '__ge__',\n",
       " '__getattribute__',\n",
       " '__getitem__',\n",
       " '__gt__',\n",
       " '__hash__',\n",
       " '__init__',\n",
       " '__iter__',\n",
       " '__le__',\n",
       " '__len__',\n",
       " '__lt__',\n",
       " '__ne__',\n",
       " '__new__',\n",
       " '__reduce__',\n",
       " '__reduce_ex__',\n",
       " '__repr__',\n",
       " '__setattr__',\n",
       " '__setitem__',\n",
       " '__sizeof__',\n",
       " '__str__',\n",
       " '__subclasshook__',\n",
       " 'clear',\n",
       " 'copy',\n",
       " 'fromkeys',\n",
       " 'get',\n",
       " 'items',\n",
       " 'keys',\n",
       " 'pop',\n",
       " 'popitem',\n",
       " 'setdefault',\n",
       " 'update',\n",
       " 'values']"
      ]
     },
     "execution_count": 83,
     "metadata": {},
     "output_type": "execute_result"
    }
   ],
   "source": [
    "ironmen_dict = {\"Modern Web\": 56,\n",
    "                \"DevOps\": 8,\n",
    "                \"Cloud\": 18,\n",
    "                \"Big Data\": 14,\n",
    "                \"Security\": 6,\n",
    "                \"自我挑戰組\": 66}\n",
    "print(ironmen_dict.get(\"Modern Web\"))\n",
    "print(ironmen_dict.keys())\n",
    "print(ironmen_dict.items())\n",
    "print(ironmen_dict.values())\n",
    "dir(ironmen_dict)"
   ]
  },
  {
   "cell_type": "code",
   "execution_count": 85,
   "metadata": {
    "collapsed": false
   },
   "outputs": [
    {
     "name": "stdout",
     "output_type": "stream",
     "text": [
      "1\n",
      "(6,)\n",
      "int64\n",
      "\n",
      "\n",
      "2\n",
      "(2, 6)\n",
      "int64\n",
      "[[ 1  2  3  4  5  6]\n",
      " [56  8 19 14  6 71]]\n"
     ]
    }
   ],
   "source": [
    "import numpy as np\n",
    "ironmen = [56, 8, 19, 14, 6, 71]\n",
    "ironmen_array = np.array(ironmen)\n",
    "\n",
    "print(ironmen_array.ndim)\n",
    "print(ironmen_array.shape)\n",
    "print(ironmen_array.dtype)\n",
    "print(\"\\n\")\n",
    "\n",
    "ironmen_2d = [range(1, 7), [56, 8, 19, 14, 6, 71]]\n",
    "ironmen_2d_array = np.array(ironmen_2d)\n",
    "print(ironmen_2d_array.ndim)\n",
    "print(ironmen_2d_array.shape)\n",
    "print(ironmen_2d_array.dtype)\n",
    "print(ironmen_2d_array)"
   ]
  },
  {
   "cell_type": "code",
   "execution_count": 87,
   "metadata": {
    "collapsed": false
   },
   "outputs": [
    {
     "name": "stdout",
     "output_type": "stream",
     "text": [
      "[ 0.  0.  0.  0.  0.  0.]\n",
      "------\n",
      "[[ 0.  0.  0.  0.  0.  0.]\n",
      " [ 0.  0.  0.  0.  0.  0.]]\n",
      "------\n",
      "[[[  0.00000000e+000   0.00000000e+000]\n",
      "  [  2.12212532e-314   1.48219694e-323]\n",
      "  [  0.00000000e+000   0.00000000e+000]\n",
      "  [  0.00000000e+000   1.49034872e+255]\n",
      "  [  2.12378304e-314   2.27840274e-314]\n",
      "  [  5.51497249e-144   0.00000000e+000]]\n",
      "\n",
      " [[  0.00000000e+000   1.07262055e-062]\n",
      "  [  0.00000000e+000   0.00000000e+000]\n",
      "  [  5.44021989e-062   0.00000000e+000]\n",
      "  [  0.00000000e+000  -3.44757662e+139]\n",
      "  [  0.00000000e+000   0.00000000e+000]\n",
      "  [ -7.14671141e-204   0.00000000e+000]]]\n",
      "------\n",
      "[ 0  1  2  3  4  5  6  7  8  9 10]\n"
     ]
    }
   ],
   "source": [
    "import numpy as np\n",
    "print(np.zeros(6))\n",
    "print(\"------\")\n",
    "print(np.zeros((2, 6)))\n",
    "print(\"------\")\n",
    "print(np.empty((2, 6, 2)))\n",
    "print(\"------\")\n",
    "print(np.arange(11))"
   ]
  },
  {
   "cell_type": "code",
   "execution_count": 88,
   "metadata": {
    "collapsed": false
   },
   "outputs": [
    {
     "name": "stdout",
     "output_type": "stream",
     "text": [
      "<U2\n",
      "---\n",
      "int64\n"
     ]
    }
   ],
   "source": [
    "import numpy as np\n",
    "ironmen = [\"56\", \"8\", \"19\", \"14\", \"6\", \"71\"]\n",
    "ironmen_str_array = np.array(ironmen)\n",
    "print(ironmen_str_array.dtype)\n",
    "print(\"---\")\n",
    "\n",
    "ironmen_int_array = ironmen_str_array.astype(np.int64)\n",
    "print(ironmen_int_array.dtype)"
   ]
  },
  {
   "cell_type": "code",
   "execution_count": 89,
   "metadata": {
    "collapsed": false
   },
   "outputs": [
    {
     "name": "stdout",
     "output_type": "stream",
     "text": [
      "0\n",
      "[0 1 2 3 4]\n",
      "---\n",
      "[[0 1 2 3 4]\n",
      " [5 6 7 8 9]]\n",
      "---\n",
      "[5 6 7 8 9]\n",
      "[1 6]\n",
      "6\n"
     ]
    }
   ],
   "source": [
    "import numpy as np\n",
    "\n",
    "my_array = np.arange(10)\n",
    "print(my_array[0])\n",
    "print(my_array[0:5])\n",
    "print(\"---\")\n",
    "\n",
    "my_2d_array = np.array([np.arange(0, 5), np.arange(5, 10)])\n",
    "print(my_2d_array)\n",
    "print(\"---\")\n",
    "print(my_2d_array[1, :])\n",
    "print(my_2d_array[:, 1])\n",
    "print(my_2d_array[1, 1])"
   ]
  },
  {
   "cell_type": "code",
   "execution_count": 90,
   "metadata": {
    "collapsed": false
   },
   "outputs": [
    {
     "name": "stdout",
     "output_type": "stream",
     "text": [
      "[ True False  True  True False  True]\n",
      "['Modern Web' 'Cloud' 'Big Data' '自我挑戰組']\n",
      "[ True  True  True  True  True False]\n",
      "[56  8 19 14  6]\n"
     ]
    }
   ],
   "source": [
    "import numpy as np\n",
    "ironmen = [56, 8, 19, 14, 6, 71]\n",
    "groups = [\"Modern Web\", \"DevOps\", \"Cloud\", \"Big Data\", \"Security\", \"自我挑戰組\"]\n",
    "ironmen_array = np.array(ironmen)\n",
    "groups_array = np.array(groups)\n",
    "\n",
    "print(ironmen_array >= 10)\n",
    "print(groups_array[ironmen_array >= 10])\n",
    "\n",
    "print(groups_array != \"自我挑戰組\")\n",
    "print(ironmen_array[groups_array != \"自我挑戰組\"])"
   ]
  },
  {
   "cell_type": "code",
   "execution_count": 92,
   "metadata": {
    "collapsed": false
   },
   "outputs": [
    {
     "name": "stdout",
     "output_type": "stream",
     "text": [
      "[[0 1 2 3 4]\n",
      " [5 6 7 8 9]]\n",
      "---\n",
      "[[0 5]\n",
      " [1 6]\n",
      " [2 7]\n",
      " [3 8]\n",
      " [4 9]]\n"
     ]
    }
   ],
   "source": [
    "import numpy as np\n",
    "\n",
    "my_1d_array = np.arange(10)\n",
    "my_2d_array = my_1d_array.reshape((2, 5))\n",
    "print(my_2d_array)\n",
    "print(\"---\")\n",
    "print(my_2d_array.T)"
   ]
  },
  {
   "cell_type": "code",
   "execution_count": 93,
   "metadata": {
    "collapsed": false
   },
   "outputs": [
    {
     "data": {
      "text/plain": [
       "array([ 56.,   8.,  19.,  14.,   6.,  71.])"
      ]
     },
     "execution_count": 93,
     "metadata": {},
     "output_type": "execute_result"
    }
   ],
   "source": [
    "import numpy as np\n",
    "\n",
    "ironmen_array = np.array([56, 8, 19, 14, 6, np.nan])\n",
    "np.where(np.isnan(ironmen_array), 71, ironmen_array)"
   ]
  },
  {
   "cell_type": "code",
   "execution_count": 94,
   "metadata": {
    "collapsed": false
   },
   "outputs": [
    {
     "name": "stdout",
     "output_type": "stream",
     "text": [
      "[56  8 19 14  6 71]\n",
      "[ 6  8 14 19 56 71]\n"
     ]
    }
   ],
   "source": [
    "import numpy as np\n",
    "\n",
    "ironmen_array = np.array([56, 8, 19, 14, 6, 71])\n",
    "print(ironmen_array)\n",
    "ironmen_array.sort()\n",
    "print(ironmen_array)"
   ]
  },
  {
   "cell_type": "code",
   "execution_count": 96,
   "metadata": {
    "collapsed": false
   },
   "outputs": [
    {
     "name": "stdout",
     "output_type": "stream",
     "text": [
      "[ 0.65997603 -0.28419671 -0.47752129 -1.59717009 -0.76856976 -0.76327634\n",
      "  0.0927956  -1.51265569  1.60932869  1.32844077]\n",
      "---\n",
      "[ 0.14865155  0.85820735  0.76652138  0.24338557  0.39505941  0.44011054\n",
      "  0.86212266  0.45681428  0.62587681  0.27979068]\n"
     ]
    }
   ],
   "source": [
    "import numpy as np\n",
    "\n",
    "normal_samples = np.random.normal(size = 10)\n",
    "uniform_samples = np.random.uniform(size = 10)\n",
    "\n",
    "print(normal_samples)\n",
    "print(\"---\")\n",
    "print(uniform_samples)"
   ]
  },
  {
   "cell_type": "code",
   "execution_count": 2,
   "metadata": {
    "collapsed": false
   },
   "outputs": [
    {
     "data": {
      "text/html": [
       "<div>\n",
       "<table border=\"1\" class=\"dataframe\">\n",
       "  <thead>\n",
       "    <tr style=\"text-align: right;\">\n",
       "      <th></th>\n",
       "      <th>groups</th>\n",
       "      <th>ironmen</th>\n",
       "    </tr>\n",
       "  </thead>\n",
       "  <tbody>\n",
       "    <tr>\n",
       "      <th>0</th>\n",
       "      <td>Modern Web</td>\n",
       "      <td>59</td>\n",
       "    </tr>\n",
       "    <tr>\n",
       "      <th>1</th>\n",
       "      <td>DevOps</td>\n",
       "      <td>9</td>\n",
       "    </tr>\n",
       "    <tr>\n",
       "      <th>2</th>\n",
       "      <td>Cloud</td>\n",
       "      <td>19</td>\n",
       "    </tr>\n",
       "    <tr>\n",
       "      <th>3</th>\n",
       "      <td>Big Data</td>\n",
       "      <td>14</td>\n",
       "    </tr>\n",
       "    <tr>\n",
       "      <th>4</th>\n",
       "      <td>Security</td>\n",
       "      <td>6</td>\n",
       "    </tr>\n",
       "    <tr>\n",
       "      <th>5</th>\n",
       "      <td>自我挑戰組</td>\n",
       "      <td>77</td>\n",
       "    </tr>\n",
       "  </tbody>\n",
       "</table>\n",
       "</div>"
      ],
      "text/plain": [
       "       groups  ironmen\n",
       "0  Modern Web       59\n",
       "1      DevOps        9\n",
       "2       Cloud       19\n",
       "3    Big Data       14\n",
       "4    Security        6\n",
       "5       自我挑戰組       77"
      ]
     },
     "execution_count": 2,
     "metadata": {},
     "output_type": "execute_result"
    }
   ],
   "source": [
    "import pandas as pd\n",
    "\n",
    "groups = [\"Modern Web\", \"DevOps\", \"Cloud\", \"Big Data\", \"Security\", \"自我挑戰組\"]\n",
    "ironmen = [59, 9, 19, 14, 6, 77]\n",
    "\n",
    "ironmen_dict = {\"groups\": groups,\n",
    "                \"ironmen\": ironmen}\n",
    "ironmen_df = pd.DataFrame(ironmen_dict)\n",
    "ironmen_df"
   ]
  },
  {
   "cell_type": "code",
   "execution_count": 3,
   "metadata": {
    "collapsed": false
   },
   "outputs": [
    {
     "name": "stdout",
     "output_type": "stream",
     "text": [
      "2\n",
      "---\n",
      "(6, 2)\n",
      "---\n",
      "groups     object\n",
      "ironmen     int64\n",
      "dtype: object\n"
     ]
    }
   ],
   "source": [
    "import pandas as pd\n",
    "\n",
    "groups = [\"Modern Web\", \"DevOps\", \"Cloud\", \"Big Data\", \"Security\", \"自我挑戰組\"]\n",
    "ironmen = [59, 9, 19, 14, 6, 77]\n",
    "\n",
    "ironmen_dict = {\"groups\": groups,\n",
    "                \"ironmen\": ironmen}\n",
    "\n",
    "ironmen_df = pd.DataFrame(ironmen_dict)\n",
    "\n",
    "print(ironmen_df.ndim)\n",
    "print(\"---\")\n",
    "print(ironmen_df.shape)\n",
    "print(\"---\")\n",
    "print(ironmen_df.dtypes)"
   ]
  },
  {
   "cell_type": "code",
   "execution_count": 5,
   "metadata": {
    "collapsed": false
   },
   "outputs": [
    {
     "name": "stdout",
     "output_type": "stream",
     "text": [
      "     groups  ironmen\n",
      "1    DevOps        9\n",
      "2     Cloud       19\n",
      "3  Big Data       14\n",
      "4  Security        6\n",
      "5     自我挑戰組       77\n",
      "---\n",
      "   ironmen\n",
      "0       59\n",
      "1        9\n",
      "2       19\n",
      "3       14\n",
      "4        6\n",
      "5       77\n"
     ]
    }
   ],
   "source": [
    "groups = [\"Modern Web\", \"DevOps\", \"Cloud\", \"Big Data\", \"Security\", \"自我挑戰組\"]\n",
    "ironmen = [59, 9, 19, 14, 6, 77]\n",
    "\n",
    "ironmen_dict = {\"groups\": groups,\n",
    "                \"ironmen\": ironmen}\n",
    "\n",
    "ironmen_df = pd.DataFrame(ironmen_dict)\n",
    "\n",
    "ironmen_df_no_mw = ironmen_df.drop(0, axis = 0)\n",
    "print(ironmen_df_no_mw)\n",
    "print(\"---\")\n",
    "\n",
    "ironmen_df_no_groups = ironmen_df.drop(\"groups\", axis = 1)\n",
    "print(ironmen_df_no_groups)"
   ]
  },
  {
   "cell_type": "code",
   "execution_count": 7,
   "metadata": {
    "collapsed": false
   },
   "outputs": [
    {
     "name": "stdout",
     "output_type": "stream",
     "text": [
      "0    Modern Web\n",
      "1        DevOps\n",
      "2         Cloud\n",
      "3      Big Data\n",
      "4      Security\n",
      "5         自我挑戰組\n",
      "Name: groups, dtype: object\n",
      "---\n",
      "groups     Modern Web\n",
      "ironmen            59\n",
      "Name: 0, dtype: object\n",
      "---\n",
      "Modern Web\n"
     ]
    }
   ],
   "source": [
    "import pandas as pd\n",
    "\n",
    "groups = [\"Modern Web\", \"DevOps\", \"Cloud\", \"Big Data\", \"Security\", \"自我挑戰組\"]\n",
    "ironmen = [59, 9, 19, 14, 6, 77]\n",
    "\n",
    "ironmen_dict = {\"groups\": groups, \n",
    "                \"ironmen\": ironmen}\n",
    "\n",
    "ironmen_df = pd.DataFrame(ironmen_dict)\n",
    "\n",
    "print(ironmen_df.ix[:, \"groups\"])\n",
    "print(\"---\")\n",
    "\n",
    "print(ironmen_df.ix[0])\n",
    "print(\"---\")\n",
    "\n",
    "print(ironmen_df.ix[0, \"groups\"])"
   ]
  },
  {
   "cell_type": "code",
   "execution_count": 8,
   "metadata": {
    "collapsed": false
   },
   "outputs": [
    {
     "data": {
      "text/html": [
       "<div>\n",
       "<table border=\"1\" class=\"dataframe\">\n",
       "  <thead>\n",
       "    <tr style=\"text-align: right;\">\n",
       "      <th></th>\n",
       "      <th>groups</th>\n",
       "      <th>ironmen</th>\n",
       "    </tr>\n",
       "  </thead>\n",
       "  <tbody>\n",
       "    <tr>\n",
       "      <th>0</th>\n",
       "      <td>Modern Web</td>\n",
       "      <td>59</td>\n",
       "    </tr>\n",
       "    <tr>\n",
       "      <th>2</th>\n",
       "      <td>Cloud</td>\n",
       "      <td>19</td>\n",
       "    </tr>\n",
       "    <tr>\n",
       "      <th>3</th>\n",
       "      <td>Big Data</td>\n",
       "      <td>14</td>\n",
       "    </tr>\n",
       "    <tr>\n",
       "      <th>5</th>\n",
       "      <td>自我挑戰組</td>\n",
       "      <td>77</td>\n",
       "    </tr>\n",
       "  </tbody>\n",
       "</table>\n",
       "</div>"
      ],
      "text/plain": [
       "       groups  ironmen\n",
       "0  Modern Web       59\n",
       "2       Cloud       19\n",
       "3    Big Data       14\n",
       "5       自我挑戰組       77"
      ]
     },
     "execution_count": 8,
     "metadata": {},
     "output_type": "execute_result"
    }
   ],
   "source": [
    "import pandas as pd\n",
    "\n",
    "groups = [\"Modern Web\", \"DevOps\", \"Cloud\", \"Big Data\", \"Security\", \"自我挑戰組\"]\n",
    "ironmen_dict = {\"groups\": groups,\n",
    "                \"ironmen\": ironmen}\n",
    "\n",
    "ironmen_df = pd.DataFrame(ironmen_dict)\n",
    "\n",
    "filter = ironmen_df[\"ironmen\"] > 10\n",
    "ironmen_df[filter]"
   ]
  },
  {
   "cell_type": "code",
   "execution_count": 10,
   "metadata": {
    "collapsed": false
   },
   "outputs": [
    {
     "name": "stdout",
     "output_type": "stream",
     "text": [
      "            ironmen\n",
      "Modern Web       59\n",
      "DevOps            9\n",
      "Cloud            19\n",
      "Big Data         14\n",
      "Security          6\n",
      "自我挑戰組            77\n",
      "            ironmen\n",
      "Big Data         14\n",
      "Cloud            19\n",
      "DevOps            9\n",
      "Modern Web       59\n",
      "Security          6\n",
      "自我挑戰組            77\n"
     ]
    }
   ],
   "source": [
    "import pandas as pd\n",
    "\n",
    "groups = [\"Modern Web\", \"DevOps\", \"Cloud\", \"Big Data\", \"Security\", \"自我挑戰組\"]\n",
    "ironmen = [59, 9, 19, 14, 6, 77]\n",
    "\n",
    "ironmen_df = pd.DataFrame(ironmen, columns = [\"ironmen\"], index = groups)\n",
    "print(ironmen_df)\n",
    "print(ironmen_df.sort_index())"
   ]
  },
  {
   "cell_type": "code",
   "execution_count": 11,
   "metadata": {
    "collapsed": false
   },
   "outputs": [
    {
     "data": {
      "text/html": [
       "<div>\n",
       "<table border=\"1\" class=\"dataframe\">\n",
       "  <thead>\n",
       "    <tr style=\"text-align: right;\">\n",
       "      <th></th>\n",
       "      <th>ironmen</th>\n",
       "    </tr>\n",
       "  </thead>\n",
       "  <tbody>\n",
       "    <tr>\n",
       "      <th>Security</th>\n",
       "      <td>6</td>\n",
       "    </tr>\n",
       "    <tr>\n",
       "      <th>DevOps</th>\n",
       "      <td>9</td>\n",
       "    </tr>\n",
       "    <tr>\n",
       "      <th>Big Data</th>\n",
       "      <td>14</td>\n",
       "    </tr>\n",
       "    <tr>\n",
       "      <th>Cloud</th>\n",
       "      <td>19</td>\n",
       "    </tr>\n",
       "    <tr>\n",
       "      <th>Modern Web</th>\n",
       "      <td>59</td>\n",
       "    </tr>\n",
       "    <tr>\n",
       "      <th>自我挑戰組</th>\n",
       "      <td>77</td>\n",
       "    </tr>\n",
       "  </tbody>\n",
       "</table>\n",
       "</div>"
      ],
      "text/plain": [
       "            ironmen\n",
       "Security          6\n",
       "DevOps            9\n",
       "Big Data         14\n",
       "Cloud            19\n",
       "Modern Web       59\n",
       "自我挑戰組            77"
      ]
     },
     "execution_count": 11,
     "metadata": {},
     "output_type": "execute_result"
    }
   ],
   "source": [
    "import pandas as pd\n",
    "\n",
    "groups = [\"Modern Web\", \"DevOps\", \"Cloud\", \"Big Data\", \"Security\", \"自我挑戰組\"]\n",
    "ironmen = [59, 9, 19, 14, 6, 77]\n",
    "\n",
    "ironmen_df = pd.DataFrame(ironmen, columns = [\"ironmen\"], index = groups)\n",
    "ironmen_df.sort_values(by = \"ironmen\")"
   ]
  },
  {
   "cell_type": "code",
   "execution_count": 12,
   "metadata": {
    "collapsed": false
   },
   "outputs": [
    {
     "name": "stdout",
     "output_type": "stream",
     "text": [
      "groups     Modern WebDevOpsCloudBig DataSecurity自我挑戰組\n",
      "ironmen                                           184\n",
      "dtype: object\n",
      "---\n",
      "ironmen    30.666667\n",
      "dtype: float64\n",
      "---\n",
      "ironmen    16.5\n",
      "dtype: float64\n",
      "---\n",
      "         ironmen\n",
      "count   6.000000\n",
      "mean   30.666667\n",
      "std    29.803803\n",
      "min     6.000000\n",
      "25%    10.250000\n",
      "50%    16.500000\n",
      "75%    49.000000\n",
      "max    77.000000\n"
     ]
    }
   ],
   "source": [
    "import pandas as pd\n",
    "\n",
    "groups = [\"Modern Web\", \"DevOps\", \"Cloud\", \"Big Data\", \"Security\", \"自我挑戰組\"]\n",
    "ironmen = [59, 9, 19, 14, 6, 77]\n",
    "\n",
    "ironmen_dict = {\"groups\": groups,\n",
    "                \"ironmen\": ironmen}\n",
    "\n",
    "ironmen_df = pd.DataFrame(ironmen_dict)\n",
    "\n",
    "print(ironmen_df.sum())\n",
    "print(\"---\")\n",
    "print(ironmen_df.mean())\n",
    "print(\"---\")\n",
    "print(ironmen_df.median())\n",
    "print(\"---\")\n",
    "print(ironmen_df.describe())"
   ]
  },
  {
   "cell_type": "code",
   "execution_count": 14,
   "metadata": {
    "collapsed": false
   },
   "outputs": [
    {
     "name": "stdout",
     "output_type": "stream",
     "text": [
      "          gender\n",
      "蒙其·D·魯夫     Male\n",
      "羅羅亞·索隆      Male\n",
      "娜美        Female\n",
      "騙人布         Male\n",
      "文斯莫克·香吉士    Male\n",
      "多尼多尼·喬巴     Male\n",
      "妮可·羅賓     Female\n",
      "佛朗基         Male\n",
      "布魯克         Male\n"
     ]
    },
    {
     "data": {
      "text/plain": [
       "Male      7\n",
       "Female    2\n",
       "Name: gender, dtype: int64"
      ]
     },
     "execution_count": 14,
     "metadata": {},
     "output_type": "execute_result"
    }
   ],
   "source": [
    "import pandas as pd\n",
    "\n",
    "gender = [\"Male\", \"Male\", \"Female\", \"Male\", \"Male\", \"Male\", \"Female\", \"Male\", \"Male\"]\n",
    "name = [\"蒙其·D·魯夫\", \"羅羅亞·索隆\", \"娜美\", \"騙人布\", \"文斯莫克·香吉士\", \"多尼多尼·喬巴\", \"妮可·羅賓\", \"佛朗基\", \"布魯克\"]\n",
    "\n",
    "ironmen_df = pd.DataFrame(gender, columns = [\"gender\"], index = name)\n",
    "print(ironmen_df)\n",
    "\n",
    "pd.value_counts(ironmen_df.gender)"
   ]
  },
  {
   "cell_type": "code",
   "execution_count": 15,
   "metadata": {
    "collapsed": false
   },
   "outputs": [
    {
     "name": "stdout",
     "output_type": "stream",
     "text": [
      "0    False\n",
      "1    False\n",
      "2     True\n",
      "3    False\n",
      "4    False\n",
      "5    False\n",
      "Name: groups, dtype: bool\n",
      "---\n",
      "0     True\n",
      "1     True\n",
      "2     True\n",
      "3     True\n",
      "4     True\n",
      "5    False\n",
      "Name: ironmen, dtype: bool\n"
     ]
    }
   ],
   "source": [
    "import numpy as np\n",
    "import pandas as pd\n",
    "\n",
    "groups = [\"Modern Web\", \"DevOps\", np.nan, \"Big Data\", \"Security\", \"自我挑戰組\"]\n",
    "ironmen = [59, 9, 19, 14, 6, np.nan]\n",
    "\n",
    "ironmen_dict = {\"groups\": groups,\n",
    "                \"ironmen\": ironmen}\n",
    "\n",
    "ironmen_df = pd.DataFrame(ironmen_dict)\n",
    "\n",
    "print(ironmen_df.ix[:, \"groups\"].isnull())\n",
    "print(\"---\")\n",
    "print(ironmen_df.ix[:, \"ironmen\"].notnull())"
   ]
  },
  {
   "cell_type": "code",
   "execution_count": 16,
   "metadata": {
    "collapsed": false
   },
   "outputs": [
    {
     "name": "stdout",
     "output_type": "stream",
     "text": [
      "       groups  ironmen\n",
      "0  Modern Web       59\n",
      "1      DevOps        9\n",
      "3    Big Data       14\n",
      "4    Security        6\n",
      "---\n",
      "       groups  ironmen\n",
      "0  Modern Web       59\n",
      "1      DevOps        9\n",
      "2           0       19\n",
      "3    Big Data       14\n",
      "4    Security        6\n",
      "5       自我挑戰組        0\n",
      "---\n",
      "       groups  ironmen\n",
      "0  Modern Web       59\n",
      "1      DevOps        9\n",
      "2       Cloud       19\n",
      "3    Big Data       14\n",
      "4    Security        6\n",
      "5       自我挑戰組       71\n"
     ]
    }
   ],
   "source": [
    "import numpy as np\n",
    "import pandas as pd\n",
    "\n",
    "groups = [\"Modern Web\", \"DevOps\", np.nan, \"Big Data\", \"Security\", \"自我挑戰組\"]\n",
    "ironmen = [59, 9, 19, 14, 6, np.nan]\n",
    "\n",
    "ironmen_dict = {\"groups\": groups,\n",
    "                \"ironmen\": ironmen}\n",
    "\n",
    "ironmen_df = pd.DataFrame(ironmen_dict)\n",
    "ironmen_df_na_dropped = ironmen_df.dropna()\n",
    "\n",
    "print(ironmen_df_na_dropped)\n",
    "print(\"---\")\n",
    "ironmen_df_na_filled = ironmen_df.fillna(0)\n",
    "print(ironmen_df_na_filled)\n",
    "print(\"---\")\n",
    "ironmen_df_na_filled = ironmen_df.fillna({\"groups\": \"Cloud\", \n",
    "                                          \"ironmen\": 71})\n",
    "print(ironmen_df_na_filled)"
   ]
  },
  {
   "cell_type": "code",
   "execution_count": 17,
   "metadata": {
    "collapsed": false
   },
   "outputs": [
    {
     "data": {
      "text/html": [
       "<div>\n",
       "<table border=\"1\" class=\"dataframe\">\n",
       "  <thead>\n",
       "    <tr style=\"text-align: right;\">\n",
       "      <th></th>\n",
       "      <th>Sepal.Length</th>\n",
       "      <th>Sepal.Width</th>\n",
       "      <th>Petal.Length</th>\n",
       "      <th>Petal.Width</th>\n",
       "      <th>Species</th>\n",
       "    </tr>\n",
       "  </thead>\n",
       "  <tbody>\n",
       "    <tr>\n",
       "      <th>0</th>\n",
       "      <td>5.1</td>\n",
       "      <td>3.5</td>\n",
       "      <td>1.4</td>\n",
       "      <td>0.2</td>\n",
       "      <td>setosa</td>\n",
       "    </tr>\n",
       "    <tr>\n",
       "      <th>1</th>\n",
       "      <td>4.9</td>\n",
       "      <td>3.0</td>\n",
       "      <td>1.4</td>\n",
       "      <td>0.2</td>\n",
       "      <td>setosa</td>\n",
       "    </tr>\n",
       "    <tr>\n",
       "      <th>2</th>\n",
       "      <td>4.7</td>\n",
       "      <td>3.2</td>\n",
       "      <td>1.3</td>\n",
       "      <td>0.2</td>\n",
       "      <td>setosa</td>\n",
       "    </tr>\n",
       "    <tr>\n",
       "      <th>3</th>\n",
       "      <td>4.6</td>\n",
       "      <td>3.1</td>\n",
       "      <td>1.5</td>\n",
       "      <td>0.2</td>\n",
       "      <td>setosa</td>\n",
       "    </tr>\n",
       "    <tr>\n",
       "      <th>4</th>\n",
       "      <td>5.0</td>\n",
       "      <td>3.6</td>\n",
       "      <td>1.4</td>\n",
       "      <td>0.2</td>\n",
       "      <td>setosa</td>\n",
       "    </tr>\n",
       "  </tbody>\n",
       "</table>\n",
       "</div>"
      ],
      "text/plain": [
       "   Sepal.Length  Sepal.Width  Petal.Length  Petal.Width Species\n",
       "0           5.1          3.5           1.4          0.2  setosa\n",
       "1           4.9          3.0           1.4          0.2  setosa\n",
       "2           4.7          3.2           1.3          0.2  setosa\n",
       "3           4.6          3.1           1.5          0.2  setosa\n",
       "4           5.0          3.6           1.4          0.2  setosa"
      ]
     },
     "execution_count": 17,
     "metadata": {},
     "output_type": "execute_result"
    }
   ],
   "source": [
    "import pandas as pd\n",
    "url = \"https://storage.googleapis.com/2017_ithome_ironman/data/iris.csv\"\n",
    "iris_df = pd.read_csv(url)\n",
    "iris_df.head()"
   ]
  },
  {
   "cell_type": "code",
   "execution_count": 18,
   "metadata": {
    "collapsed": false
   },
   "outputs": [
    {
     "data": {
      "text/html": [
       "<div>\n",
       "<table border=\"1\" class=\"dataframe\">\n",
       "  <thead>\n",
       "    <tr style=\"text-align: right;\">\n",
       "      <th></th>\n",
       "      <th>Sepal.Length</th>\n",
       "      <th>Sepal.Width</th>\n",
       "      <th>Petal.Length</th>\n",
       "      <th>Petal.Width</th>\n",
       "      <th>Species</th>\n",
       "    </tr>\n",
       "  </thead>\n",
       "  <tbody>\n",
       "    <tr>\n",
       "      <th>0</th>\n",
       "      <td>5.1</td>\n",
       "      <td>3.5</td>\n",
       "      <td>1.4</td>\n",
       "      <td>0.2</td>\n",
       "      <td>setosa</td>\n",
       "    </tr>\n",
       "    <tr>\n",
       "      <th>1</th>\n",
       "      <td>4.9</td>\n",
       "      <td>3.0</td>\n",
       "      <td>1.4</td>\n",
       "      <td>0.2</td>\n",
       "      <td>setosa</td>\n",
       "    </tr>\n",
       "    <tr>\n",
       "      <th>2</th>\n",
       "      <td>4.7</td>\n",
       "      <td>3.2</td>\n",
       "      <td>1.3</td>\n",
       "      <td>0.2</td>\n",
       "      <td>setosa</td>\n",
       "    </tr>\n",
       "    <tr>\n",
       "      <th>3</th>\n",
       "      <td>4.6</td>\n",
       "      <td>3.1</td>\n",
       "      <td>1.5</td>\n",
       "      <td>0.2</td>\n",
       "      <td>setosa</td>\n",
       "    </tr>\n",
       "    <tr>\n",
       "      <th>4</th>\n",
       "      <td>5.0</td>\n",
       "      <td>3.6</td>\n",
       "      <td>1.4</td>\n",
       "      <td>0.2</td>\n",
       "      <td>setosa</td>\n",
       "    </tr>\n",
       "  </tbody>\n",
       "</table>\n",
       "</div>"
      ],
      "text/plain": [
       "   Sepal.Length  Sepal.Width  Petal.Length  Petal.Width Species\n",
       "0           5.1          3.5           1.4          0.2  setosa\n",
       "1           4.9          3.0           1.4          0.2  setosa\n",
       "2           4.7          3.2           1.3          0.2  setosa\n",
       "3           4.6          3.1           1.5          0.2  setosa\n",
       "4           5.0          3.6           1.4          0.2  setosa"
      ]
     },
     "execution_count": 18,
     "metadata": {},
     "output_type": "execute_result"
    }
   ],
   "source": [
    "import pandas as pd\n",
    "\n",
    "url = \"https://storage.googleapis.com/2017_ithome_ironman/data/iris.tsv\"\n",
    "iris_tsv_df = pd.read_table(url, sep = \"\\t\")\n",
    "iris_tsv_df.head()"
   ]
  },
  {
   "cell_type": "code",
   "execution_count": 19,
   "metadata": {
    "collapsed": false
   },
   "outputs": [
    {
     "data": {
      "text/html": [
       "<div>\n",
       "<table border=\"1\" class=\"dataframe\">\n",
       "  <thead>\n",
       "    <tr style=\"text-align: right;\">\n",
       "      <th></th>\n",
       "      <th>Sepal.Length</th>\n",
       "      <th>Sepal.Width</th>\n",
       "      <th>Petal.Length</th>\n",
       "      <th>Petal.Width</th>\n",
       "      <th>Species</th>\n",
       "    </tr>\n",
       "  </thead>\n",
       "  <tbody>\n",
       "    <tr>\n",
       "      <th>0</th>\n",
       "      <td>5.1</td>\n",
       "      <td>3.5</td>\n",
       "      <td>1.4</td>\n",
       "      <td>0.2</td>\n",
       "      <td>setosa</td>\n",
       "    </tr>\n",
       "    <tr>\n",
       "      <th>1</th>\n",
       "      <td>4.9</td>\n",
       "      <td>3.0</td>\n",
       "      <td>1.4</td>\n",
       "      <td>0.2</td>\n",
       "      <td>setosa</td>\n",
       "    </tr>\n",
       "    <tr>\n",
       "      <th>2</th>\n",
       "      <td>4.7</td>\n",
       "      <td>3.2</td>\n",
       "      <td>1.3</td>\n",
       "      <td>0.2</td>\n",
       "      <td>setosa</td>\n",
       "    </tr>\n",
       "    <tr>\n",
       "      <th>3</th>\n",
       "      <td>4.6</td>\n",
       "      <td>3.1</td>\n",
       "      <td>1.5</td>\n",
       "      <td>0.2</td>\n",
       "      <td>setosa</td>\n",
       "    </tr>\n",
       "    <tr>\n",
       "      <th>4</th>\n",
       "      <td>5.0</td>\n",
       "      <td>3.6</td>\n",
       "      <td>1.4</td>\n",
       "      <td>0.2</td>\n",
       "      <td>setosa</td>\n",
       "    </tr>\n",
       "  </tbody>\n",
       "</table>\n",
       "</div>"
      ],
      "text/plain": [
       "   Sepal.Length  Sepal.Width  Petal.Length  Petal.Width Species\n",
       "0           5.1          3.5           1.4          0.2  setosa\n",
       "1           4.9          3.0           1.4          0.2  setosa\n",
       "2           4.7          3.2           1.3          0.2  setosa\n",
       "3           4.6          3.1           1.5          0.2  setosa\n",
       "4           5.0          3.6           1.4          0.2  setosa"
      ]
     },
     "execution_count": 19,
     "metadata": {},
     "output_type": "execute_result"
    }
   ],
   "source": [
    "import pandas as pd\n",
    "\n",
    "url = \"https://storage.googleapis.com/2017_ithome_ironman/data/iris.txt\"\n",
    "iris_colon_sep_df = pd.read_table(url, sep = \":\")\n",
    "iris_colon_sep_df.head()"
   ]
  },
  {
   "cell_type": "code",
   "execution_count": 20,
   "metadata": {
    "collapsed": false
   },
   "outputs": [
    {
     "data": {
      "text/html": [
       "<div>\n",
       "<table border=\"1\" class=\"dataframe\">\n",
       "  <thead>\n",
       "    <tr style=\"text-align: right;\">\n",
       "      <th></th>\n",
       "      <th>Sepal.Length</th>\n",
       "      <th>Sepal.Width</th>\n",
       "      <th>Petal.Length</th>\n",
       "      <th>Petal.Width</th>\n",
       "      <th>Species</th>\n",
       "    </tr>\n",
       "  </thead>\n",
       "  <tbody>\n",
       "    <tr>\n",
       "      <th>0</th>\n",
       "      <td>5.1</td>\n",
       "      <td>3.5</td>\n",
       "      <td>1.4</td>\n",
       "      <td>0.2</td>\n",
       "      <td>setosa</td>\n",
       "    </tr>\n",
       "    <tr>\n",
       "      <th>1</th>\n",
       "      <td>4.9</td>\n",
       "      <td>3.0</td>\n",
       "      <td>1.4</td>\n",
       "      <td>0.2</td>\n",
       "      <td>setosa</td>\n",
       "    </tr>\n",
       "    <tr>\n",
       "      <th>2</th>\n",
       "      <td>4.7</td>\n",
       "      <td>3.2</td>\n",
       "      <td>1.3</td>\n",
       "      <td>0.2</td>\n",
       "      <td>setosa</td>\n",
       "    </tr>\n",
       "    <tr>\n",
       "      <th>3</th>\n",
       "      <td>4.6</td>\n",
       "      <td>3.1</td>\n",
       "      <td>1.5</td>\n",
       "      <td>0.2</td>\n",
       "      <td>setosa</td>\n",
       "    </tr>\n",
       "    <tr>\n",
       "      <th>4</th>\n",
       "      <td>5.0</td>\n",
       "      <td>3.6</td>\n",
       "      <td>1.4</td>\n",
       "      <td>0.2</td>\n",
       "      <td>setosa</td>\n",
       "    </tr>\n",
       "  </tbody>\n",
       "</table>\n",
       "</div>"
      ],
      "text/plain": [
       "   Sepal.Length  Sepal.Width  Petal.Length  Petal.Width Species\n",
       "0           5.1          3.5           1.4          0.2  setosa\n",
       "1           4.9          3.0           1.4          0.2  setosa\n",
       "2           4.7          3.2           1.3          0.2  setosa\n",
       "3           4.6          3.1           1.5          0.2  setosa\n",
       "4           5.0          3.6           1.4          0.2  setosa"
      ]
     },
     "execution_count": 20,
     "metadata": {},
     "output_type": "execute_result"
    }
   ],
   "source": [
    "import pandas as pd\n",
    "\n",
    "url = \"https://storage.googleapis.com/2017_ithome_ironman/data/iris.xlsx\"\n",
    "iris_xlsx_df = pd.read_excel(url)\n",
    "iris_xlsx_df.head()"
   ]
  },
  {
   "cell_type": "code",
   "execution_count": 21,
   "metadata": {
    "collapsed": false
   },
   "outputs": [
    {
     "data": {
      "text/html": [
       "<div>\n",
       "<table border=\"1\" class=\"dataframe\">\n",
       "  <thead>\n",
       "    <tr style=\"text-align: right;\">\n",
       "      <th></th>\n",
       "      <th>Petal.Length</th>\n",
       "      <th>Petal.Width</th>\n",
       "      <th>Sepal.Length</th>\n",
       "      <th>Sepal.Width</th>\n",
       "      <th>Species</th>\n",
       "    </tr>\n",
       "  </thead>\n",
       "  <tbody>\n",
       "    <tr>\n",
       "      <th>0</th>\n",
       "      <td>1.4</td>\n",
       "      <td>0.2</td>\n",
       "      <td>5.1</td>\n",
       "      <td>3.5</td>\n",
       "      <td>setosa</td>\n",
       "    </tr>\n",
       "    <tr>\n",
       "      <th>1</th>\n",
       "      <td>1.4</td>\n",
       "      <td>0.2</td>\n",
       "      <td>4.9</td>\n",
       "      <td>3.0</td>\n",
       "      <td>setosa</td>\n",
       "    </tr>\n",
       "    <tr>\n",
       "      <th>2</th>\n",
       "      <td>1.3</td>\n",
       "      <td>0.2</td>\n",
       "      <td>4.7</td>\n",
       "      <td>3.2</td>\n",
       "      <td>setosa</td>\n",
       "    </tr>\n",
       "    <tr>\n",
       "      <th>3</th>\n",
       "      <td>1.5</td>\n",
       "      <td>0.2</td>\n",
       "      <td>4.6</td>\n",
       "      <td>3.1</td>\n",
       "      <td>setosa</td>\n",
       "    </tr>\n",
       "    <tr>\n",
       "      <th>4</th>\n",
       "      <td>1.4</td>\n",
       "      <td>0.2</td>\n",
       "      <td>5.0</td>\n",
       "      <td>3.6</td>\n",
       "      <td>setosa</td>\n",
       "    </tr>\n",
       "  </tbody>\n",
       "</table>\n",
       "</div>"
      ],
      "text/plain": [
       "   Petal.Length  Petal.Width  Sepal.Length  Sepal.Width Species\n",
       "0           1.4          0.2           5.1          3.5  setosa\n",
       "1           1.4          0.2           4.9          3.0  setosa\n",
       "2           1.3          0.2           4.7          3.2  setosa\n",
       "3           1.5          0.2           4.6          3.1  setosa\n",
       "4           1.4          0.2           5.0          3.6  setosa"
      ]
     },
     "execution_count": 21,
     "metadata": {},
     "output_type": "execute_result"
    }
   ],
   "source": [
    "import pandas as pd\n",
    "\n",
    "url = \"https://storage.googleapis.com/2017_ithome_ironman/data/iris.json\"\n",
    "iris_json_df = pd.read_json(url)\n",
    "iris_json_df.head()"
   ]
  },
  {
   "cell_type": "code",
   "execution_count": 23,
   "metadata": {
    "collapsed": false
   },
   "outputs": [
    {
     "name": "stdout",
     "output_type": "stream",
     "text": [
      "<!DOCTYPE html>\n",
      "<html>\n",
      " <head>\n",
      "  <meta charset=\"utf-8\"/>\n",
      "  <meta content=\"width=device-width, initial-scale=1\" name=\"viewport\"/>\n",
      "  <title>\n",
      "   看板 gay 文章列表 - 批踢踢實業坊\n",
      "  </title>\n",
      "  <link href=\"//images.ptt.cc/v2.20/bbs-common.css\" rel=\"stylesheet\" type=\"text/css\"/>\n",
      "  <link href=\"//images.ptt.cc/v2.20/bbs-base.css\" media=\"screen\" rel=\"stylesheet\" type=\"text/css\"/>\n",
      "  <link href=\"//images.ptt.cc/v2.20/bbs-custom.css\" rel=\"stylesheet\" type=\"text/css\"/>\n",
      "  <link href=\"//images.ptt.cc/v2.20/pushstream.css\" media=\"screen\" rel=\"stylesheet\" type=\"text/css\"/>\n",
      "  <link href=\"//images.ptt.cc/v2.20/bbs-print.css\" media=\"print\" rel=\"stylesheet\" type=\"text/css\"/>\n",
      "  <script src=\"//ajax.googleapis.com/ajax/libs/jquery/2.1.1/jquery.min.js\">\n",
      "  </script>\n",
      "  <script src=\"//images.ptt.cc/v2.20/bbs.js\">\n",
      "  </script>\n",
      "  <script type=\"text/javascript\">\n",
      "   var _gaq = _gaq || [];\n",
      "  _gaq.push(['_setAccount', 'UA-32365737-1']);\n",
      "  _gaq.push(['_setDomainName', 'ptt.cc']);\n",
      "  _gaq.push(['_trackPageview']);\n",
      "\n",
      "  (function() {\n",
      "    var ga = document.createElement('script'); ga.type = 'text/javascript'; ga.async = true;\n",
      "    ga.src = ('https:' == document.location.protocol ? 'https://ssl' : 'http://www') + '.google-analytics.com/ga.js';\n",
      "    var s = document.getElementsByTagName('script')[0]; s.parentNode.insertBefore(ga, s);\n",
      "  })();\n",
      "  </script>\n",
      " </head>\n",
      " <body>\n",
      "  <div id=\"topbar-container\">\n",
      "   <div class=\"bbs-content\" id=\"topbar\">\n",
      "    <a href=\"/\" id=\"logo\">\n",
      "     批踢踢實業坊\n",
      "    </a>\n",
      "    <span>\n",
      "     ›\n",
      "    </span>\n",
      "    <a class=\"board\" href=\"/bbs/gay/index.html\">\n",
      "     <span class=\"board-label\">\n",
      "      看板\n",
      "     </span>\n",
      "     gay\n",
      "    </a>\n",
      "    <a class=\"right small\" href=\"/about.html\">\n",
      "     關於我們\n",
      "    </a>\n",
      "    <a class=\"right small\" href=\"/contact.html\">\n",
      "     聯絡資訊\n",
      "    </a>\n",
      "   </div>\n",
      "  </div>\n",
      "  <div id=\"main-container\">\n",
      "   <div id=\"action-bar-container\">\n",
      "    <div class=\"action-bar\">\n",
      "     <div class=\"btn-group btn-group-dir\">\n",
      "      <a class=\"btn selected\" href=\"/bbs/gay/index.html\">\n",
      "       看板\n",
      "      </a>\n",
      "      <a class=\"btn\" href=\"/man/gay/index.html\">\n",
      "       精華區\n",
      "      </a>\n",
      "     </div>\n",
      "     <div class=\"btn-group btn-group-paging\">\n",
      "      <a class=\"btn wide\" href=\"/bbs/gay/index1.html\">\n",
      "       最舊\n",
      "      </a>\n",
      "      <a class=\"btn wide\" href=\"/bbs/gay/index2613.html\">\n",
      "       ‹ 上頁\n",
      "      </a>\n",
      "      <a class=\"btn wide disabled\">\n",
      "       下頁 ›\n",
      "      </a>\n",
      "      <a class=\"btn wide\" href=\"/bbs/gay/index.html\">\n",
      "       最新\n",
      "      </a>\n",
      "     </div>\n",
      "    </div>\n",
      "   </div>\n",
      "   <div class=\"r-list-container bbs-screen\">\n",
      "    <div class=\"r-ent\">\n",
      "     <div class=\"nrec\">\n",
      "      <span class=\"hl f2\">\n",
      "       6\n",
      "      </span>\n",
      "     </div>\n",
      "     <div class=\"mark\">\n",
      "     </div>\n",
      "     <div class=\"title\">\n",
      "      <a href=\"/bbs/gay/M.1488605609.A.3CC.html\">\n",
      "       Re: [諮詢] 台灣同志諮詢熱線搞多P\n",
      "      </a>\n",
      "     </div>\n",
      "     <div class=\"meta\">\n",
      "      <div class=\"date\">\n",
      "       3/04\n",
      "      </div>\n",
      "      <div class=\"author\">\n",
      "       log3\n",
      "      </div>\n",
      "     </div>\n",
      "    </div>\n",
      "    <div class=\"r-ent\">\n",
      "     <div class=\"nrec\">\n",
      "     </div>\n",
      "     <div class=\"mark\">\n",
      "     </div>\n",
      "     <div class=\"title\">\n",
      "      <a href=\"/bbs/gay/M.1488605952.A.499.html\">\n",
      "       [平權] 同運工作者「暴言」指出的真相是什麼？\n",
      "      </a>\n",
      "     </div>\n",
      "     <div class=\"meta\">\n",
      "      <div class=\"date\">\n",
      "       3/04\n",
      "      </div>\n",
      "      <div class=\"author\">\n",
      "       Menel\n",
      "      </div>\n",
      "     </div>\n",
      "    </div>\n",
      "    <div class=\"r-ent\">\n",
      "     <div class=\"nrec\">\n",
      "      <span class=\"hl f2\">\n",
      "       1\n",
      "      </span>\n",
      "     </div>\n",
      "     <div class=\"mark\">\n",
      "     </div>\n",
      "     <div class=\"title\">\n",
      "      <a href=\"/bbs/gay/M.1488607299.A.706.html\">\n",
      "       [家庭] 四叉貓到滿天星反同場子吃麵\n",
      "      </a>\n",
      "     </div>\n",
      "     <div class=\"meta\">\n",
      "      <div class=\"date\">\n",
      "       3/04\n",
      "      </div>\n",
      "      <div class=\"author\">\n",
      "       Menel\n",
      "      </div>\n",
      "     </div>\n",
      "    </div>\n",
      "    <div class=\"r-ent\">\n",
      "     <div class=\"nrec\">\n",
      "     </div>\n",
      "     <div class=\"mark\">\n",
      "     </div>\n",
      "     <div class=\"title\">\n",
      "      <a href=\"/bbs/gay/M.1488607373.A.3A8.html\">\n",
      "       Re: [諮詢] 台灣同志諮詢熱線搞多P\n",
      "      </a>\n",
      "     </div>\n",
      "     <div class=\"meta\">\n",
      "      <div class=\"date\">\n",
      "       3/04\n",
      "      </div>\n",
      "      <div class=\"author\">\n",
      "       Tutt\n",
      "      </div>\n",
      "     </div>\n",
      "    </div>\n",
      "    <div class=\"r-ent\">\n",
      "     <div class=\"nrec\">\n",
      "      <span class=\"hl f2\">\n",
      "       4\n",
      "      </span>\n",
      "     </div>\n",
      "     <div class=\"mark\">\n",
      "     </div>\n",
      "     <div class=\"title\">\n",
      "      <a href=\"/bbs/gay/M.1488608133.A.454.html\">\n",
      "       Re: [諮詢] 台灣同志諮詢熱線搞多P\n",
      "      </a>\n",
      "     </div>\n",
      "     <div class=\"meta\">\n",
      "      <div class=\"date\">\n",
      "       3/04\n",
      "      </div>\n",
      "      <div class=\"author\">\n",
      "       WOLF1107\n",
      "      </div>\n",
      "     </div>\n",
      "    </div>\n",
      "    <div class=\"r-ent\">\n",
      "     <div class=\"nrec\">\n",
      "     </div>\n",
      "     <div class=\"mark\">\n",
      "     </div>\n",
      "     <div class=\"title\">\n",
      "      <a href=\"/bbs/gay/M.1488611112.A.1F5.html\">\n",
      "       ［徵人］謎物鞭黏...史 彩虹樂園 招生中～\n",
      "      </a>\n",
      "     </div>\n",
      "     <div class=\"meta\">\n",
      "      <div class=\"date\">\n",
      "       3/04\n",
      "      </div>\n",
      "      <div class=\"author\">\n",
      "       lonelymeteor\n",
      "      </div>\n",
      "     </div>\n",
      "    </div>\n",
      "    <div class=\"r-ent\">\n",
      "     <div class=\"nrec\">\n",
      "      <span class=\"hl f3\">\n",
      "       16\n",
      "      </span>\n",
      "     </div>\n",
      "     <div class=\"mark\">\n",
      "     </div>\n",
      "     <div class=\"title\">\n",
      "      <a href=\"/bbs/gay/M.1488611416.A.6B1.html\">\n",
      "       [請益] 各位是喜歡單一性伴侶還是多重性伴侶啊\n",
      "      </a>\n",
      "     </div>\n",
      "     <div class=\"meta\">\n",
      "      <div class=\"date\">\n",
      "       3/04\n",
      "      </div>\n",
      "      <div class=\"author\">\n",
      "       rothschild99\n",
      "      </div>\n",
      "     </div>\n",
      "    </div>\n",
      "    <div class=\"r-ent\">\n",
      "     <div class=\"nrec\">\n",
      "     </div>\n",
      "     <div class=\"mark\">\n",
      "     </div>\n",
      "     <div class=\"title\">\n",
      "      <a href=\"/bbs/gay/M.1488611884.A.795.html\">\n",
      "       [群組招生]日本娛樂通 ～第一出動募集～\n",
      "      </a>\n",
      "     </div>\n",
      "     <div class=\"meta\">\n",
      "      <div class=\"date\">\n",
      "       3/04\n",
      "      </div>\n",
      "      <div class=\"author\">\n",
      "       s6205112\n",
      "      </div>\n",
      "     </div>\n",
      "    </div>\n",
      "    <div class=\"r-ent\">\n",
      "     <div class=\"nrec\">\n",
      "     </div>\n",
      "     <div class=\"mark\">\n",
      "     </div>\n",
      "     <div class=\"title\">\n",
      "      <a href=\"/bbs/gay/M.1488612808.A.75D.html\">\n",
      "       [尋人] 高雄車站2F韓國魷魚粗框\n",
      "      </a>\n",
      "     </div>\n",
      "     <div class=\"meta\">\n",
      "      <div class=\"date\">\n",
      "       3/04\n",
      "      </div>\n",
      "      <div class=\"author\">\n",
      "       orlanlucius\n",
      "      </div>\n",
      "     </div>\n",
      "    </div>\n",
      "    <div class=\"r-ent\">\n",
      "     <div class=\"nrec\">\n",
      "     </div>\n",
      "     <div class=\"mark\">\n",
      "     </div>\n",
      "     <div class=\"title\">\n",
      "      <a href=\"/bbs/gay/M.1488613056.A.E9B.html\">\n",
      "       Re: [請益] 各位是喜歡單一性伴侶還是多重性伴侶啊\n",
      "      </a>\n",
      "     </div>\n",
      "     <div class=\"meta\">\n",
      "      <div class=\"date\">\n",
      "       3/04\n",
      "      </div>\n",
      "      <div class=\"author\">\n",
      "       sueway\n",
      "      </div>\n",
      "     </div>\n",
      "    </div>\n",
      "    <div class=\"r-ent\">\n",
      "     <div class=\"nrec\">\n",
      "     </div>\n",
      "     <div class=\"mark\">\n",
      "     </div>\n",
      "     <div class=\"title\">\n",
      "      <a href=\"/bbs/gay/M.1488613735.A.4BE.html\">\n",
      "       [揪人] 4/13 20:25長榮班機飛曼谷 揪伴\n",
      "      </a>\n",
      "     </div>\n",
      "     <div class=\"meta\">\n",
      "      <div class=\"date\">\n",
      "       3/04\n",
      "      </div>\n",
      "      <div class=\"author\">\n",
      "       barchanting\n",
      "      </div>\n",
      "     </div>\n",
      "    </div>\n",
      "    <div class=\"r-ent\">\n",
      "     <div class=\"nrec\">\n",
      "     </div>\n",
      "     <div class=\"mark\">\n",
      "     </div>\n",
      "     <div class=\"title\">\n",
      "      <a href=\"/bbs/gay/M.1488615713.A.041.html\">\n",
      "       [尋人] 銀色行李箱往北車的你\n",
      "      </a>\n",
      "     </div>\n",
      "     <div class=\"meta\">\n",
      "      <div class=\"date\">\n",
      "       3/04\n",
      "      </div>\n",
      "      <div class=\"author\">\n",
      "       harry3875\n",
      "      </div>\n",
      "     </div>\n",
      "    </div>\n",
      "    <div class=\"r-list-sep\">\n",
      "    </div>\n",
      "    <div class=\"r-ent\">\n",
      "     <div class=\"nrec\">\n",
      "      <span class=\"hl f3\">\n",
      "       25\n",
      "      </span>\n",
      "     </div>\n",
      "     <div class=\"mark\">\n",
      "      M\n",
      "     </div>\n",
      "     <div class=\"title\">\n",
      "      <a href=\"/bbs/gay/M.1472736946.A.9AA.html\">\n",
      "       [公告] 現行甲板板規 &amp; 置底違規檢舉區\n",
      "      </a>\n",
      "     </div>\n",
      "     <div class=\"meta\">\n",
      "      <div class=\"date\">\n",
      "       9/01\n",
      "      </div>\n",
      "      <div class=\"author\">\n",
      "       pbwang1203\n",
      "      </div>\n",
      "     </div>\n",
      "    </div>\n",
      "    <div class=\"r-ent\">\n",
      "     <div class=\"nrec\">\n",
      "      <span class=\"hl f2\">\n",
      "       9\n",
      "      </span>\n",
      "     </div>\n",
      "     <div class=\"mark\">\n",
      "      M\n",
      "     </div>\n",
      "     <div class=\"title\">\n",
      "      <a href=\"/bbs/gay/M.1486652146.A.FC4.html\">\n",
      "       [甲板] 同志社群資訊彙整\n",
      "      </a>\n",
      "     </div>\n",
      "     <div class=\"meta\">\n",
      "      <div class=\"date\">\n",
      "       2/09\n",
      "      </div>\n",
      "      <div class=\"author\">\n",
      "       teemocogs\n",
      "      </div>\n",
      "     </div>\n",
      "    </div>\n",
      "    <div class=\"r-ent\">\n",
      "     <div class=\"nrec\">\n",
      "     </div>\n",
      "     <div class=\"mark\">\n",
      "     </div>\n",
      "     <div class=\"title\">\n",
      "      <a href=\"/bbs/gay/M.1488295262.A.5E3.html\">\n",
      "       [公告] 2017三月置底聊天 &amp; Line群置底\n",
      "      </a>\n",
      "     </div>\n",
      "     <div class=\"meta\">\n",
      "      <div class=\"date\">\n",
      "       2/28\n",
      "      </div>\n",
      "      <div class=\"author\">\n",
      "       pbwang1203\n",
      "      </div>\n",
      "     </div>\n",
      "    </div>\n",
      "   </div>\n",
      "  </div>\n",
      " </body>\n",
      "</html>\n",
      "\n"
     ]
    }
   ],
   "source": [
    "import requests as rq\n",
    "from bs4 import BeautifulSoup\n",
    "\n",
    "url = \"https://www.ptt.cc/bbs/gay/index.html\"\n",
    "response = rq.get(url)\n",
    "html_doc = response.text\n",
    "soup = BeautifulSoup(response.text, \"lxml\")\n",
    "print(soup.prettify())"
   ]
  },
  {
   "cell_type": "code",
   "execution_count": 33,
   "metadata": {
    "collapsed": false
   },
   "outputs": [
    {
     "name": "stdout",
     "output_type": "stream",
     "text": [
      "<title>看板 gay 文章列表 - 批踢踢實業坊</title>\n",
      "---\n",
      "title\n",
      "---\n",
      "看板 gay 文章列表 - 批踢踢實業坊\n",
      "---\n",
      "head\n",
      "---\n",
      "<a href=\"/\" id=\"logo\">批踢踢實業坊</a>\n",
      "---\n",
      "[<a href=\"/\" id=\"logo\">批踢踢實業坊</a>, <a class=\"board\" href=\"/bbs/gay/index.html\"><span class=\"board-label\">看板 </span>gay</a>, <a class=\"right small\" href=\"/about.html\">關於我們</a>, <a class=\"right small\" href=\"/contact.html\">聯絡資訊</a>, <a class=\"btn selected\" href=\"/bbs/gay/index.html\">看板</a>, <a class=\"btn\" href=\"/man/gay/index.html\">精華區</a>, <a class=\"btn wide\" href=\"/bbs/gay/index1.html\">最舊</a>, <a class=\"btn wide\" href=\"/bbs/gay/index2613.html\">‹ 上頁</a>, <a class=\"btn wide disabled\">下頁 ›</a>, <a class=\"btn wide\" href=\"/bbs/gay/index.html\">最新</a>, <a href=\"/bbs/gay/M.1488605609.A.3CC.html\">Re: [諮詢] 台灣同志諮詢熱線搞多P</a>, <a href=\"/bbs/gay/M.1488605952.A.499.html\">[平權] 同運工作者「暴言」指出的真相是什麼？</a>, <a href=\"/bbs/gay/M.1488607299.A.706.html\">[家庭] 四叉貓到滿天星反同場子吃麵</a>, <a href=\"/bbs/gay/M.1488607373.A.3A8.html\">Re: [諮詢] 台灣同志諮詢熱線搞多P</a>, <a href=\"/bbs/gay/M.1488608133.A.454.html\">Re: [諮詢] 台灣同志諮詢熱線搞多P</a>, <a href=\"/bbs/gay/M.1488611112.A.1F5.html\">［徵人］謎物鞭黏...史 彩虹樂園 招生中～</a>, <a href=\"/bbs/gay/M.1488611416.A.6B1.html\">[請益] 各位是喜歡單一性伴侶還是多重性伴侶啊</a>, <a href=\"/bbs/gay/M.1488611884.A.795.html\">[群組招生]日本娛樂通 ～第一出動募集～</a>, <a href=\"/bbs/gay/M.1488612808.A.75D.html\">[尋人] 高雄車站2F韓國魷魚粗框</a>, <a href=\"/bbs/gay/M.1488613056.A.E9B.html\">Re: [請益] 各位是喜歡單一性伴侶還是多重性伴侶啊</a>, <a href=\"/bbs/gay/M.1488613735.A.4BE.html\">[揪人] 4/13 20:25長榮班機飛曼谷 揪伴</a>, <a href=\"/bbs/gay/M.1488615713.A.041.html\">[尋人] 銀色行李箱往北車的你</a>, <a href=\"/bbs/gay/M.1472736946.A.9AA.html\">[公告] 現行甲板板規 &amp; 置底違規檢舉區 </a>, <a href=\"/bbs/gay/M.1486652146.A.FC4.html\">[甲板] 同志社群資訊彙整</a>, <a href=\"/bbs/gay/M.1488295262.A.5E3.html\">[公告] 2017三月置底聊天 &amp; Line群置底</a>]\n"
     ]
    }
   ],
   "source": [
    "import requests as rq\n",
    "from bs4 import BeautifulSoup\n",
    "\n",
    "url = \"https://www.ptt.cc/bbs/gay/index.html\"\n",
    "response = rq.get(url)\n",
    "html_doc = response.text\n",
    "soup = BeautifulSoup(response.text, \"lxml\")\n",
    "\n",
    "print(soup.title)\n",
    "print(\"---\")\n",
    "print(soup.title.name)\n",
    "print(\"---\")\n",
    "print(soup.title.string)\n",
    "print(\"---\")\n",
    "print(soup.title.parent.name)\n",
    "print(\"---\")\n",
    "print(soup.a)\n",
    "print(\"---\")\n",
    "print(soup.find_all('a'))"
   ]
  },
  {
   "cell_type": "code",
   "execution_count": 34,
   "metadata": {
    "collapsed": false
   },
   "outputs": [
    {
     "name": "stdout",
     "output_type": "stream",
     "text": [
      "<class 'bs4.element.Tag'>\n",
      "---\n",
      "a\n",
      "---\n",
      "logo\n"
     ]
    }
   ],
   "source": [
    "import requests as rq\n",
    "from bs4 import BeautifulSoup\n",
    "\n",
    "url = \"https://www.ptt.cc/bbs/gay/index.html\"\n",
    "response = rq.get(url)\n",
    "html_doc = response.text\n",
    "soup = BeautifulSoup(response.text, \"lxml\")\n",
    "\n",
    "print(type(soup.a))\n",
    "print(\"---\")\n",
    "print(soup.a.name)\n",
    "print(\"---\")\n",
    "print(soup.a['id'])"
   ]
  },
  {
   "cell_type": "code",
   "execution_count": 37,
   "metadata": {
    "collapsed": false
   },
   "outputs": [
    {
     "name": "stdout",
     "output_type": "stream",
     "text": [
      "<class 'bs4.element.NavigableString'>\n",
      "---\n"
     ]
    },
    {
     "data": {
      "text/plain": [
       "'批踢踢實業坊'"
      ]
     },
     "execution_count": 37,
     "metadata": {},
     "output_type": "execute_result"
    }
   ],
   "source": [
    "import requests as rq\n",
    "from bs4 import BeautifulSoup\n",
    "\n",
    "url = \"https://www.ptt.cc/bbs/gay/index.html\"\n",
    "response = rq.get(url)\n",
    "html_doc = response.text\n",
    "soup = BeautifulSoup(response.text, \"lxml\")\n",
    "\n",
    "print(type(soup.a.string))\n",
    "print(\"---\")\n",
    "soup.a.string"
   ]
  },
  {
   "cell_type": "code",
   "execution_count": 39,
   "metadata": {
    "collapsed": false
   },
   "outputs": [
    {
     "data": {
      "text/plain": [
       "bs4.BeautifulSoup"
      ]
     },
     "execution_count": 39,
     "metadata": {},
     "output_type": "execute_result"
    }
   ],
   "source": [
    "import requests as rq\n",
    "from bs4 import BeautifulSoup\n",
    "\n",
    "url = \"https://www.ptt.cc/bbs/gay/index.html\"\n",
    "response = rq.get(url)\n",
    "html_doc = response.text\n",
    "soup = BeautifulSoup(response.text, \"lxml\")\n",
    "\n",
    "type(soup)"
   ]
  },
  {
   "cell_type": "code",
   "execution_count": 40,
   "metadata": {
    "collapsed": false
   },
   "outputs": [
    {
     "name": "stdout",
     "output_type": "stream",
     "text": [
      "['批踢踢實業坊']\n",
      "['批踢踢實業坊']\n",
      "批踢踢實業坊\n"
     ]
    }
   ],
   "source": [
    "import requests as rq\n",
    "from bs4 import BeautifulSoup\n",
    "\n",
    "url = \"https://www.ptt.cc/bbs/gay/index.html\"\n",
    "response = rq.get(url)\n",
    "html_doc = response.text\n",
    "soup = BeautifulSoup(response.text, \"lxml\")\n",
    "\n",
    "print(soup.body.a.contents)\n",
    "print(list(soup.body.a.children))\n",
    "print(soup.body.a.string)"
   ]
  },
  {
   "cell_type": "code",
   "execution_count": 41,
   "metadata": {
    "collapsed": false
   },
   "outputs": [
    {
     "name": "stdout",
     "output_type": "stream",
     "text": [
      "<title>看板 gay 文章列表 - 批踢踢實業坊</title>\n",
      "---\n",
      "<head>\n",
      "<meta charset=\"utf-8\"/>\n",
      "<meta content=\"width=device-width, initial-scale=1\" name=\"viewport\"/>\n",
      "<title>看板 gay 文章列表 - 批踢踢實業坊</title>\n",
      "<link href=\"//images.ptt.cc/v2.20/bbs-common.css\" rel=\"stylesheet\" type=\"text/css\"/>\n",
      "<link href=\"//images.ptt.cc/v2.20/bbs-base.css\" media=\"screen\" rel=\"stylesheet\" type=\"text/css\"/>\n",
      "<link href=\"//images.ptt.cc/v2.20/bbs-custom.css\" rel=\"stylesheet\" type=\"text/css\"/>\n",
      "<link href=\"//images.ptt.cc/v2.20/pushstream.css\" media=\"screen\" rel=\"stylesheet\" type=\"text/css\"/>\n",
      "<link href=\"//images.ptt.cc/v2.20/bbs-print.css\" media=\"print\" rel=\"stylesheet\" type=\"text/css\"/>\n",
      "<script src=\"//ajax.googleapis.com/ajax/libs/jquery/2.1.1/jquery.min.js\"></script>\n",
      "<script src=\"//images.ptt.cc/v2.20/bbs.js\"></script>\n",
      "<script type=\"text/javascript\">\n",
      "\n",
      "  var _gaq = _gaq || [];\n",
      "  _gaq.push(['_setAccount', 'UA-32365737-1']);\n",
      "  _gaq.push(['_setDomainName', 'ptt.cc']);\n",
      "  _gaq.push(['_trackPageview']);\n",
      "\n",
      "  (function() {\n",
      "    var ga = document.createElement('script'); ga.type = 'text/javascript'; ga.async = true;\n",
      "    ga.src = ('https:' == document.location.protocol ? 'https://ssl' : 'http://www') + '.google-analytics.com/ga.js';\n",
      "    var s = document.getElementsByTagName('script')[0]; s.parentNode.insertBefore(ga, s);\n",
      "  })();\n",
      "\n",
      "</script>\n",
      "</head>\n"
     ]
    }
   ],
   "source": [
    "import requests as rq\n",
    "from bs4 import BeautifulSoup\n",
    "\n",
    "url = \"https://www.ptt.cc/bbs/gay/index.html\"\n",
    "\n",
    "response = rq.get(url)\n",
    "html_doc = response.text\n",
    "soup = BeautifulSoup(response.text, \"lxml\")\n",
    "\n",
    "print(soup.title)\n",
    "print(\"---\")\n",
    "print(soup.title.parent)"
   ]
  },
  {
   "cell_type": "code",
   "execution_count": 43,
   "metadata": {
    "collapsed": false
   },
   "outputs": [
    {
     "name": "stdout",
     "output_type": "stream",
     "text": [
      "<a href=\"/\" id=\"logo\">批踢踢實業坊</a>\n",
      "---\n",
      "\n",
      "\n",
      "---\n",
      "<a href=\"/\" id=\"logo\">批踢踢實業坊</a>\n"
     ]
    }
   ],
   "source": [
    "import requests as rq\n",
    "from bs4 import BeautifulSoup\n",
    "\n",
    "url = \"https://www.ptt.cc/bbs/gay/index.html\"\n",
    "response = rq.get(url)\n",
    "html_doc = response.text\n",
    "soup = BeautifulSoup(response.text, \"lxml\")\n",
    "\n",
    "first_a_tag = soup.body.a\n",
    "next_to_first_a_tag = first_a_tag.next_sibling\n",
    "print(first_a_tag)\n",
    "print(\"---\")\n",
    "print(next_to_first_a_tag)\n",
    "print(\"---\")\n",
    "print(next_to_first_a_tag.previous_sibling)"
   ]
  },
  {
   "cell_type": "code",
   "execution_count": 44,
   "metadata": {
    "collapsed": false
   },
   "outputs": [
    {
     "name": "stdout",
     "output_type": "stream",
     "text": [
      "<a href=\"/\" id=\"logo\">批踢踢實業坊</a>\n",
      "---\n",
      "[<a href=\"/\" id=\"logo\">批踢踢實業坊</a>, <a class=\"board\" href=\"/bbs/gay/index.html\"><span class=\"board-label\">看板 </span>gay</a>, <a class=\"right small\" href=\"/about.html\">關於我們</a>, <a class=\"right small\" href=\"/contact.html\">聯絡資訊</a>, <a class=\"btn selected\" href=\"/bbs/gay/index.html\">看板</a>, <a class=\"btn\" href=\"/man/gay/index.html\">精華區</a>, <a class=\"btn wide\" href=\"/bbs/gay/index1.html\">最舊</a>, <a class=\"btn wide\" href=\"/bbs/gay/index2613.html\">‹ 上頁</a>, <a class=\"btn wide disabled\">下頁 ›</a>, <a class=\"btn wide\" href=\"/bbs/gay/index.html\">最新</a>, <a href=\"/bbs/gay/M.1488605609.A.3CC.html\">Re: [諮詢] 台灣同志諮詢熱線搞多P</a>, <a href=\"/bbs/gay/M.1488605952.A.499.html\">[平權] 同運工作者「暴言」指出的真相是什麼？</a>, <a href=\"/bbs/gay/M.1488607299.A.706.html\">[家庭] 四叉貓到滿天星反同場子吃麵</a>, <a href=\"/bbs/gay/M.1488607373.A.3A8.html\">Re: [諮詢] 台灣同志諮詢熱線搞多P</a>, <a href=\"/bbs/gay/M.1488608133.A.454.html\">Re: [諮詢] 台灣同志諮詢熱線搞多P</a>, <a href=\"/bbs/gay/M.1488611112.A.1F5.html\">［徵人］謎物鞭黏...史 彩虹樂園 招生中～</a>, <a href=\"/bbs/gay/M.1488611416.A.6B1.html\">[請益] 各位是喜歡單一性伴侶還是多重性伴侶啊</a>, <a href=\"/bbs/gay/M.1488611884.A.795.html\">[群組招生]日本娛樂通 ～第一出動募集～</a>, <a href=\"/bbs/gay/M.1488612808.A.75D.html\">[尋人] 高雄車站2F韓國魷魚粗框</a>, <a href=\"/bbs/gay/M.1488613056.A.E9B.html\">Re: [請益] 各位是喜歡單一性伴侶還是多重性伴侶啊</a>, <a href=\"/bbs/gay/M.1488613735.A.4BE.html\">[揪人] 4/13 20:25長榮班機飛曼谷 揪伴</a>, <a href=\"/bbs/gay/M.1488615713.A.041.html\">[尋人] 銀色行李箱往北車的你</a>, <a href=\"/bbs/gay/M.1488617885.A.C78.html\">Fw: [爆卦] Gay版開始護航同志多P合法化了</a>, <a href=\"/bbs/gay/M.1488618040.A.B7F.html\">Fw: [爆卦] Gay版開始護航同志多P合法化了</a>, <a href=\"/bbs/gay/M.1488618436.A.565.html\">[新聞] 反同婚集會 挺同學生舉彩虹旗路過</a>, <a href=\"/bbs/gay/M.1488618516.A.8DD.html\">Re: [請益] 有沒有哥倫比亞同志的八卦？</a>, <a href=\"/bbs/gay/M.1488618796.A.B1E.html\">[新聞] 吳季剛入教材　反同媽：會讓孩子以為同性</a>, <a href=\"/bbs/gay/M.1488619291.A.043.html\">Re: [爆卦] Gay版開始護航同志多P合法化了</a>, <a href=\"/bbs/gay/M.1472736946.A.9AA.html\">[公告] 現行甲板板規 &amp; 置底違規檢舉區 </a>, <a href=\"/bbs/gay/M.1486652146.A.FC4.html\">[甲板] 同志社群資訊彙整</a>, <a href=\"/bbs/gay/M.1488295262.A.5E3.html\">[公告] 2017三月置底聊天 &amp; Line群置底</a>]\n"
     ]
    }
   ],
   "source": [
    "import requests as rq\n",
    "from bs4 import BeautifulSoup\n",
    "\n",
    "url = \"https://www.ptt.cc/bbs/gay/index.html\"\n",
    "response = rq.get(url)\n",
    "html_doc = response.text\n",
    "soup = BeautifulSoup(response.text, \"lxml\")\n",
    "\n",
    "print(soup.find(\"a\"))\n",
    "print(\"---\")\n",
    "print(soup.find_all(\"a\"))"
   ]
  },
  {
   "cell_type": "code",
   "execution_count": 49,
   "metadata": {
    "collapsed": false
   },
   "outputs": [
    {
     "name": "stdout",
     "output_type": "stream",
     "text": [
      "<div class=\"r-ent\">\n",
      "<div class=\"nrec\"><span class=\"hl f2\">6</span></div>\n",
      "<div class=\"mark\"></div>\n",
      "<div class=\"title\">\n",
      "<a href=\"/bbs/gay/M.1488605609.A.3CC.html\">Re: [諮詢] 台灣同志諮詢熱線搞多P</a>\n",
      "</div>\n",
      "<div class=\"meta\">\n",
      "<div class=\"date\"> 3/04</div>\n",
      "<div class=\"author\">log3</div>\n",
      "</div>\n",
      "</div>\n",
      "[<div class=\"title\">\n",
      "<a href=\"/bbs/gay/M.1488605609.A.3CC.html\">Re: [諮詢] 台灣同志諮詢熱線搞多P</a>\n",
      "</div>, <div class=\"title\">\n",
      "<a href=\"/bbs/gay/M.1488605952.A.499.html\">[平權] 同運工作者「暴言」指出的真相是什麼？</a>\n",
      "</div>, <div class=\"title\">\n",
      "<a href=\"/bbs/gay/M.1488607299.A.706.html\">[家庭] 四叉貓到滿天星反同場子吃麵</a>\n",
      "</div>, <div class=\"title\">\n",
      "<a href=\"/bbs/gay/M.1488607373.A.3A8.html\">Re: [諮詢] 台灣同志諮詢熱線搞多P</a>\n",
      "</div>, <div class=\"title\">\n",
      "<a href=\"/bbs/gay/M.1488608133.A.454.html\">Re: [諮詢] 台灣同志諮詢熱線搞多P</a>\n",
      "</div>, <div class=\"title\">\n",
      "<a href=\"/bbs/gay/M.1488611112.A.1F5.html\">［徵人］謎物鞭黏...史 彩虹樂園 招生中～</a>\n",
      "</div>, <div class=\"title\">\n",
      "<a href=\"/bbs/gay/M.1488611416.A.6B1.html\">[請益] 各位是喜歡單一性伴侶還是多重性伴侶啊</a>\n",
      "</div>, <div class=\"title\">\n",
      "<a href=\"/bbs/gay/M.1488611884.A.795.html\">[群組招生]日本娛樂通 ～第一出動募集～</a>\n",
      "</div>, <div class=\"title\">\n",
      "<a href=\"/bbs/gay/M.1488612808.A.75D.html\">[尋人] 高雄車站2F韓國魷魚粗框</a>\n",
      "</div>, <div class=\"title\">\n",
      "<a href=\"/bbs/gay/M.1488613056.A.E9B.html\">Re: [請益] 各位是喜歡單一性伴侶還是多重性伴侶啊</a>\n",
      "</div>, <div class=\"title\">\n",
      "<a href=\"/bbs/gay/M.1488613735.A.4BE.html\">[揪人] 4/13 20:25長榮班機飛曼谷 揪伴</a>\n",
      "</div>, <div class=\"title\">\n",
      "<a href=\"/bbs/gay/M.1488615713.A.041.html\">[尋人] 銀色行李箱往北車的你</a>\n",
      "</div>, <div class=\"title\">\n",
      "<a href=\"/bbs/gay/M.1488617885.A.C78.html\">Fw: [爆卦] Gay版開始護航同志多P合法化了</a>\n",
      "</div>, <div class=\"title\">\n",
      "<a href=\"/bbs/gay/M.1488618040.A.B7F.html\">Fw: [爆卦] Gay版開始護航同志多P合法化了</a>\n",
      "</div>, <div class=\"title\">\n",
      "<a href=\"/bbs/gay/M.1488618436.A.565.html\">[新聞] 反同婚集會 挺同學生舉彩虹旗路過</a>\n",
      "</div>, <div class=\"title\">\n",
      "<a href=\"/bbs/gay/M.1488618516.A.8DD.html\">Re: [請益] 有沒有哥倫比亞同志的八卦？</a>\n",
      "</div>, <div class=\"title\">\n",
      "<a href=\"/bbs/gay/M.1488618796.A.B1E.html\">[新聞] 吳季剛入教材　反同媽：會讓孩子以為同性</a>\n",
      "</div>, <div class=\"title\">\n",
      "<a href=\"/bbs/gay/M.1488619291.A.043.html\">Re: [爆卦] Gay版開始護航同志多P合法化了</a>\n",
      "</div>, <div class=\"title\">\n",
      "<a href=\"/bbs/gay/M.1472736946.A.9AA.html\">[公告] 現行甲板板規 &amp; 置底違規檢舉區 </a>\n",
      "</div>, <div class=\"title\">\n",
      "<a href=\"/bbs/gay/M.1486652146.A.FC4.html\">[甲板] 同志社群資訊彙整</a>\n",
      "</div>, <div class=\"title\">\n",
      "<a href=\"/bbs/gay/M.1488295262.A.5E3.html\">[公告] 2017三月置底聊天 &amp; Line群置底</a>\n",
      "</div>]\n"
     ]
    }
   ],
   "source": [
    "import requests as rq\n",
    "from bs4 import BeautifulSoup\n",
    "\n",
    "url = \"https://www.ptt.cc/bbs/gay/index.html\"\n",
    "response = rq.get(url)\n",
    "html_doc = response.text\n",
    "soup = BeautifulSoup(response.text, \"lxml\")\n",
    "print(soup.find(\"div\", class_ = \"r-ent\"))\n",
    "print(soup.find_all(\"div\", class_ = \"title\"))"
   ]
  },
  {
   "cell_type": "code",
   "execution_count": 50,
   "metadata": {
    "collapsed": false
   },
   "outputs": [
    {
     "name": "stdout",
     "output_type": "stream",
     "text": [
      "[<div class=\"r-ent\">\n",
      "<div class=\"nrec\"></div>\n",
      "<div class=\"mark\"></div>\n",
      "<div class=\"title\">\n",
      "<a href=\"/bbs/gay/M.1488755363.A.69F.html\">[尋人] Puzzle &amp; Dragon龍族拼圖 圈內群組招收</a>\n",
      "</div>\n",
      "<div class=\"meta\">\n",
      "<div class=\"date\"> 3/06</div>\n",
      "<div class=\"author\">leaowang</div>\n",
      "</div>\n",
      "</div>, <div class=\"r-ent\">\n",
      "<div class=\"nrec\"><span class=\"hl f2\">6</span></div>\n",
      "<div class=\"mark\"></div>\n",
      "<div class=\"title\">\n",
      "<a href=\"/bbs/gay/M.1488762587.A.E4A.html\">Wootalk上說賴id :JuissXXX的你</a>\n",
      "</div>\n",
      "<div class=\"meta\">\n",
      "<div class=\"date\"> 3/06</div>\n",
      "<div class=\"author\">apolipopo</div>\n",
      "</div>\n",
      "</div>, <div class=\"r-ent\">\n",
      "<div class=\"nrec\"><span class=\"hl f2\">2</span></div>\n",
      "<div class=\"mark\"></div>\n",
      "<div class=\"title\">\n",
      "<a href=\"/bbs/gay/M.1488768514.A.04B.html\">[徵人]新開主奴群組招生</a>\n",
      "</div>\n",
      "<div class=\"meta\">\n",
      "<div class=\"date\"> 3/06</div>\n",
      "<div class=\"author\">mark860910</div>\n",
      "</div>\n",
      "</div>, <div class=\"r-ent\">\n",
      "<div class=\"nrec\"></div>\n",
      "<div class=\"mark\"></div>\n",
      "<div class=\"title\">\n",
      "<a href=\"/bbs/gay/M.1488768787.A.E8C.html\">[尋人] 昨天信義線的你 代PO</a>\n",
      "</div>\n",
      "<div class=\"meta\">\n",
      "<div class=\"date\"> 3/06</div>\n",
      "<div class=\"author\">kayuu</div>\n",
      "</div>\n",
      "</div>, <div class=\"r-ent\">\n",
      "<div class=\"nrec\"><span class=\"hl f2\">2</span></div>\n",
      "<div class=\"mark\"></div>\n",
      "<div class=\"title\">\n",
      "<a href=\"/bbs/gay/M.1488768902.A.309.html\">患者A 陳先生</a>\n",
      "</div>\n",
      "<div class=\"meta\">\n",
      "<div class=\"date\"> 3/06</div>\n",
      "<div class=\"author\">oudayday</div>\n",
      "</div>\n",
      "</div>, <div class=\"r-ent\">\n",
      "<div class=\"nrec\"></div>\n",
      "<div class=\"mark\"></div>\n",
      "<div class=\"title\">\n",
      "<a href=\"/bbs/gay/M.1488770242.A.791.html\">[徵人] 最近平日有空的朋友</a>\n",
      "</div>\n",
      "<div class=\"meta\">\n",
      "<div class=\"date\"> 3/06</div>\n",
      "<div class=\"author\">frjsts</div>\n",
      "</div>\n",
      "</div>, <div class=\"r-ent\">\n",
      "<div class=\"nrec\"></div>\n",
      "<div class=\"mark\"></div>\n",
      "<div class=\"title\">\n",
      "<a href=\"/bbs/gay/M.1488772000.A.B09.html\">[尋人] 昨天興隆國小下車的你</a>\n",
      "</div>\n",
      "<div class=\"meta\">\n",
      "<div class=\"date\"> 3/06</div>\n",
      "<div class=\"author\">accw426</div>\n",
      "</div>\n",
      "</div>, <div class=\"r-ent\">\n",
      "<div class=\"nrec\"></div>\n",
      "<div class=\"mark\"></div>\n",
      "<div class=\"title\">\n",
      "<a href=\"/bbs/gay/M.1488772249.A.E98.html\">[平權] 人命關天 同志婚姻 真的不能等了</a>\n",
      "</div>\n",
      "<div class=\"meta\">\n",
      "<div class=\"date\"> 3/06</div>\n",
      "<div class=\"author\">Menel</div>\n",
      "</div>\n",
      "</div>, <div class=\"r-ent\">\n",
      "<div class=\"nrec\"><span class=\"hl f2\">1</span></div>\n",
      "<div class=\"mark\"></div>\n",
      "<div class=\"title\">\n",
      "<a href=\"/bbs/gay/M.1488773537.A.FC2.html\">[新聞] 北市修法同性伴侶可租公宅 律師批牛步</a>\n",
      "</div>\n",
      "<div class=\"meta\">\n",
      "<div class=\"date\"> 3/06</div>\n",
      "<div class=\"author\">gaytsis</div>\n",
      "</div>\n",
      "</div>, <div class=\"r-ent\">\n",
      "<div class=\"nrec\"></div>\n",
      "<div class=\"mark\"></div>\n",
      "<div class=\"title\">\n",
      "<a href=\"/bbs/gay/M.1488775205.A.925.html\">[尋人] 台南東區富農街凱x自助餐</a>\n",
      "</div>\n",
      "<div class=\"meta\">\n",
      "<div class=\"date\"> 3/06</div>\n",
      "<div class=\"author\">laider</div>\n",
      "</div>\n",
      "</div>, <div class=\"r-ent\">\n",
      "<div class=\"nrec\"><span class=\"hl f3\">34</span></div>\n",
      "<div class=\"mark\">M</div>\n",
      "<div class=\"title\">\n",
      "<a href=\"/bbs/gay/M.1472736946.A.9AA.html\">[公告] 現行甲板板規 &amp; 置底違規檢舉區 </a>\n",
      "</div>\n",
      "<div class=\"meta\">\n",
      "<div class=\"date\"> 9/01</div>\n",
      "<div class=\"author\">pbwang1203</div>\n",
      "</div>\n",
      "</div>, <div class=\"r-ent\">\n",
      "<div class=\"nrec\"><span class=\"hl f2\">9</span></div>\n",
      "<div class=\"mark\">M</div>\n",
      "<div class=\"title\">\n",
      "<a href=\"/bbs/gay/M.1486652146.A.FC4.html\">[甲板] 同志社群資訊彙整</a>\n",
      "</div>\n",
      "<div class=\"meta\">\n",
      "<div class=\"date\"> 2/09</div>\n",
      "<div class=\"author\">teemocogs</div>\n",
      "</div>\n",
      "</div>, <div class=\"r-ent\">\n",
      "<div class=\"nrec\"><span class=\"hl f2\">2</span></div>\n",
      "<div class=\"mark\"></div>\n",
      "<div class=\"title\">\n",
      "<a href=\"/bbs/gay/M.1488295262.A.5E3.html\">[公告] 2017三月置底聊天 &amp; Line群置底</a>\n",
      "</div>\n",
      "<div class=\"meta\">\n",
      "<div class=\"date\"> 2/28</div>\n",
      "<div class=\"author\">pbwang1203</div>\n",
      "</div>\n",
      "</div>]\n"
     ]
    },
    {
     "data": {
      "text/plain": [
       "bs4.element.ResultSet"
      ]
     },
     "execution_count": 50,
     "metadata": {},
     "output_type": "execute_result"
    }
   ],
   "source": [
    "import requests as rq\n",
    "from bs4 import BeautifulSoup\n",
    "\n",
    "url = \"https://www.ptt.cc/bbs/gay/index.html\"\n",
    "response = rq.get(url)\n",
    "html_doc = response.text\n",
    "soup = BeautifulSoup(response.text, \"lxml\")\n",
    "\n",
    "posts = soup.find_all(\"div\", class_ = \"r-ent\")\n",
    "print(posts)\n",
    "type(posts)"
   ]
  },
  {
   "cell_type": "code",
   "execution_count": 51,
   "metadata": {
    "collapsed": false
   },
   "outputs": [
    {
     "name": "stdout",
     "output_type": "stream",
     "text": [
      "['leaowang', 'apolipopo', 'mark860910', 'kayuu', 'oudayday', 'frjsts', 'accw426', 'Menel', 'gaytsis', 'laider', 'pbwang1203', 'teemocogs', 'pbwang1203']\n"
     ]
    }
   ],
   "source": [
    "import requests as rq\n",
    "from bs4 import BeautifulSoup\n",
    "\n",
    "url = \"https://www.ptt.cc/bbs/gay/index.html\"\n",
    "response = rq.get(url)\n",
    "html_doc = response.text\n",
    "soup = BeautifulSoup(response.text, \"lxml\")\n",
    "\n",
    "author_ids = [] # 建一個空 list\n",
    "posts = soup.find_all(\"div\", class_= \"r-ent\")\n",
    "for post in posts:\n",
    "    author_ids.extend(post.find(\"div\", class_ = \"author\"))\n",
    "print(author_ids)"
   ]
  },
  {
   "cell_type": "code",
   "execution_count": 52,
   "metadata": {
    "collapsed": false
   },
   "outputs": [
    {
     "name": "stdout",
     "output_type": "stream",
     "text": [
      "['leaowang', 'apolipopo', 'mark860910', 'kayuu', 'oudayday', 'frjsts', 'accw426', 'Menel', 'gaytsis', 'laider', 'pbwang1203', 'teemocogs', 'pbwang1203']\n",
      "[nan, 6, 2, nan, 3, nan, nan, nan, 1, nan, 34, 9, 2]\n",
      "['[尋人] Puzzle & Dragon龍族拼圖 圈內群組招收', 'Wootalk上說賴id :JuissXXX的你', '[徵人]新開主奴群組招生', '[尋人] 昨天信義線的你 代PO', '患者A 陳先生', '[徵人] 最近平日有空的朋友', '[尋人] 昨天興隆國小下車的你', '[平權] 人命關天 同志婚姻 真的不能等了', '[新聞] 北市修法同性伴侶可租公宅 律師批牛步', '[尋人] 台南東區富農街凱x自助餐', '[公告] 現行甲板板規 & 置底違規檢舉區 ', '[甲板] 同志社群資訊彙整', '[公告] 2017三月置底聊天 & Line群置底']\n",
      "[' 3/06', ' 3/06', ' 3/06', ' 3/06', ' 3/06', ' 3/06', ' 3/06', ' 3/06', ' 3/06', ' 3/06', ' 9/01', ' 2/09', ' 2/28']\n"
     ]
    }
   ],
   "source": [
    "import numpy as np\n",
    "import requests as rq\n",
    "from bs4 import BeautifulSoup\n",
    "url = \"https://www.ptt.cc/bbs/gay/index.html\"\n",
    "response = rq.get(url)\n",
    "html_doc = response.text\n",
    "soup = BeautifulSoup(response.text, \"lxml\")\n",
    "\n",
    "author_ids = []\n",
    "recommends = []\n",
    "post_titles = []\n",
    "post_dates = []\n",
    "\n",
    "posts = soup.find_all(\"div\", class_ = \"r-ent\")\n",
    "for post in posts:\n",
    "    try:\n",
    "        author_ids.append(post.find(\"div\", class_ = \"author\").string)\n",
    "    except:\n",
    "        author_ids.append(np.nana)\n",
    "    try:\n",
    "        post_titles.append(post.find(\"a\").string)\n",
    "    except:\n",
    "        post_titles.append(np.nan)\n",
    "    try:\n",
    "        post_dates.append(post.find(\"div\", class_ = \"date\").string)\n",
    "    except:\n",
    "        post_dates.append(np.nan)\n",
    "\n",
    "recommendations = soup.find_all(\"div\", class_ = \"nrec\")\n",
    "for recommendation in recommendations:\n",
    "    try:\n",
    "        recommends.append(int(recommendation.find(\"span\").string))\n",
    "    except:\n",
    "        recommends.append(np.nan)\n",
    "\n",
    "print(author_ids)\n",
    "print(recommends)\n",
    "print(post_titles)\n",
    "print(post_dates)"
   ]
  },
  {
   "cell_type": "code",
   "execution_count": 55,
   "metadata": {
    "collapsed": false
   },
   "outputs": [
    {
     "data": {
      "text/html": [
       "<div>\n",
       "<table border=\"1\" class=\"dataframe\">\n",
       "  <thead>\n",
       "    <tr style=\"text-align: right;\">\n",
       "      <th></th>\n",
       "      <th>author</th>\n",
       "      <th>date</th>\n",
       "      <th>recommends</th>\n",
       "      <th>title</th>\n",
       "    </tr>\n",
       "  </thead>\n",
       "  <tbody>\n",
       "    <tr>\n",
       "      <th>0</th>\n",
       "      <td>leaowang</td>\n",
       "      <td>3/06</td>\n",
       "      <td>NaN</td>\n",
       "      <td>[尋人] Puzzle &amp; Dragon龍族拼圖 圈內群組招收</td>\n",
       "    </tr>\n",
       "    <tr>\n",
       "      <th>1</th>\n",
       "      <td>apolipopo</td>\n",
       "      <td>3/06</td>\n",
       "      <td>6</td>\n",
       "      <td>Wootalk上說賴id :JuissXXX的你</td>\n",
       "    </tr>\n",
       "    <tr>\n",
       "      <th>2</th>\n",
       "      <td>mark860910</td>\n",
       "      <td>3/06</td>\n",
       "      <td>2</td>\n",
       "      <td>[徵人]新開主奴群組招生</td>\n",
       "    </tr>\n",
       "    <tr>\n",
       "      <th>3</th>\n",
       "      <td>kayuu</td>\n",
       "      <td>3/06</td>\n",
       "      <td>NaN</td>\n",
       "      <td>[尋人] 昨天信義線的你 代PO</td>\n",
       "    </tr>\n",
       "    <tr>\n",
       "      <th>4</th>\n",
       "      <td>oudayday</td>\n",
       "      <td>3/06</td>\n",
       "      <td>3</td>\n",
       "      <td>患者A 陳先生</td>\n",
       "    </tr>\n",
       "    <tr>\n",
       "      <th>5</th>\n",
       "      <td>frjsts</td>\n",
       "      <td>3/06</td>\n",
       "      <td>NaN</td>\n",
       "      <td>[徵人] 最近平日有空的朋友</td>\n",
       "    </tr>\n",
       "    <tr>\n",
       "      <th>6</th>\n",
       "      <td>accw426</td>\n",
       "      <td>3/06</td>\n",
       "      <td>NaN</td>\n",
       "      <td>[尋人] 昨天興隆國小下車的你</td>\n",
       "    </tr>\n",
       "    <tr>\n",
       "      <th>7</th>\n",
       "      <td>Menel</td>\n",
       "      <td>3/06</td>\n",
       "      <td>NaN</td>\n",
       "      <td>[平權] 人命關天 同志婚姻 真的不能等了</td>\n",
       "    </tr>\n",
       "    <tr>\n",
       "      <th>8</th>\n",
       "      <td>gaytsis</td>\n",
       "      <td>3/06</td>\n",
       "      <td>1</td>\n",
       "      <td>[新聞] 北市修法同性伴侶可租公宅 律師批牛步</td>\n",
       "    </tr>\n",
       "    <tr>\n",
       "      <th>9</th>\n",
       "      <td>laider</td>\n",
       "      <td>3/06</td>\n",
       "      <td>NaN</td>\n",
       "      <td>[尋人] 台南東區富農街凱x自助餐</td>\n",
       "    </tr>\n",
       "    <tr>\n",
       "      <th>10</th>\n",
       "      <td>pbwang1203</td>\n",
       "      <td>9/01</td>\n",
       "      <td>34</td>\n",
       "      <td>[公告] 現行甲板板規 &amp; 置底違規檢舉區</td>\n",
       "    </tr>\n",
       "    <tr>\n",
       "      <th>11</th>\n",
       "      <td>teemocogs</td>\n",
       "      <td>2/09</td>\n",
       "      <td>9</td>\n",
       "      <td>[甲板] 同志社群資訊彙整</td>\n",
       "    </tr>\n",
       "    <tr>\n",
       "      <th>12</th>\n",
       "      <td>pbwang1203</td>\n",
       "      <td>2/28</td>\n",
       "      <td>2</td>\n",
       "      <td>[公告] 2017三月置底聊天 &amp; Line群置底</td>\n",
       "    </tr>\n",
       "  </tbody>\n",
       "</table>\n",
       "</div>"
      ],
      "text/plain": [
       "        author   date  recommends                            title\n",
       "0     leaowang   3/06         NaN  [尋人] Puzzle & Dragon龍族拼圖 圈內群組招收\n",
       "1    apolipopo   3/06           6         Wootalk上說賴id :JuissXXX的你\n",
       "2   mark860910   3/06           2                     [徵人]新開主奴群組招生\n",
       "3        kayuu   3/06         NaN                 [尋人] 昨天信義線的你 代PO\n",
       "4     oudayday   3/06           3                          患者A 陳先生\n",
       "5       frjsts   3/06         NaN                   [徵人] 最近平日有空的朋友\n",
       "6      accw426   3/06         NaN                  [尋人] 昨天興隆國小下車的你\n",
       "7        Menel   3/06         NaN            [平權] 人命關天 同志婚姻 真的不能等了\n",
       "8      gaytsis   3/06           1          [新聞] 北市修法同性伴侶可租公宅 律師批牛步\n",
       "9       laider   3/06         NaN                [尋人] 台南東區富農街凱x自助餐\n",
       "10  pbwang1203   9/01          34           [公告] 現行甲板板規 & 置底違規檢舉區 \n",
       "11   teemocogs   2/09           9                    [甲板] 同志社群資訊彙整\n",
       "12  pbwang1203   2/28           2        [公告] 2017三月置底聊天 & Line群置底"
      ]
     },
     "execution_count": 55,
     "metadata": {},
     "output_type": "execute_result"
    }
   ],
   "source": [
    "import numpy as np\n",
    "import pandas as pd\n",
    "import requests as rq\n",
    "from bs4 import BeautifulSoup\n",
    "\n",
    "author_ids = []\n",
    "recommends = []\n",
    "post_titles = []\n",
    "post_dates = []\n",
    "\n",
    "posts = soup.find_all(\"div\", class_ = \"r-ent\")\n",
    "for post in posts:\n",
    "    try:\n",
    "        author_ids.append(post.find(\"div\", class_ = \"author\").string)\n",
    "    except:\n",
    "        author_ids.append(np.nan)\n",
    "    try:\n",
    "        post_titles.append(post.find(\"a\").string)\n",
    "    except:\n",
    "        post_titles.append(np.nan)\n",
    "    try:\n",
    "        post_dates.append(post.find(\"div\", class_ = \"date\").string)\n",
    "    except:\n",
    "        post_dates.append(np.nan)\n",
    "recommendations = soup.find_all(\"div\", class_ = \"nrec\")\n",
    "for recommendation in recommendations:\n",
    "    try:\n",
    "        recommends.append(int(recommendation.find(\"span\").string))\n",
    "    except:\n",
    "        recommends.append(np.nan)\n",
    "\n",
    "ptt_gay_dict = {\"author\": author_ids,\n",
    "                \"recommends\": recommends,\n",
    "                \"title\":post_titles,\n",
    "                \"date\": post_dates}\n",
    "\n",
    "ptt_gay_df = pd.DataFrame(ptt_gay_dict)\n",
    "ptt_gay_df"
   ]
  },
  {
   "cell_type": "code",
   "execution_count": 56,
   "metadata": {
    "collapsed": false
   },
   "outputs": [
    {
     "data": {
      "text/html": [
       "<div>\n",
       "<table border=\"1\" class=\"dataframe\">\n",
       "  <thead>\n",
       "    <tr style=\"text-align: right;\">\n",
       "      <th></th>\n",
       "      <th>name</th>\n",
       "      <th>occupation</th>\n",
       "      <th>devil_fruit</th>\n",
       "    </tr>\n",
       "  </thead>\n",
       "  <tbody>\n",
       "    <tr>\n",
       "      <th>0</th>\n",
       "      <td>蒙其·D·魯夫</td>\n",
       "      <td>船長</td>\n",
       "      <td>橡膠果實</td>\n",
       "    </tr>\n",
       "    <tr>\n",
       "      <th>1</th>\n",
       "      <td>多尼多尼·喬巴</td>\n",
       "      <td>醫生</td>\n",
       "      <td>人人果實</td>\n",
       "    </tr>\n",
       "    <tr>\n",
       "      <th>2</th>\n",
       "      <td>妮可·羅賓</td>\n",
       "      <td>考古學家</td>\n",
       "      <td>花花果實</td>\n",
       "    </tr>\n",
       "    <tr>\n",
       "      <th>3</th>\n",
       "      <td>布魯克</td>\n",
       "      <td>音樂家</td>\n",
       "      <td>黃泉果實</td>\n",
       "    </tr>\n",
       "  </tbody>\n",
       "</table>\n",
       "</div>"
      ],
      "text/plain": [
       "      name occupation devil_fruit\n",
       "0  蒙其·D·魯夫         船長        橡膠果實\n",
       "1  多尼多尼·喬巴         醫生        人人果實\n",
       "2    妮可·羅賓       考古學家        花花果實\n",
       "3      布魯克        音樂家        黃泉果實"
      ]
     },
     "execution_count": 56,
     "metadata": {},
     "output_type": "execute_result"
    }
   ],
   "source": [
    "import pandas as pd\n",
    "name = [\"蒙其·D·魯夫\", \"羅羅亞·索隆\", \"娜美\", \"騙人布\", \"賓什莫克·香吉士\", \"多尼多尼·喬巴\", \"妮可·羅賓\", \"佛朗基\", \"布魯克\"]\n",
    "occupation = [\"船長\", \"劍士\", \"航海士\", \"狙擊手\", \"廚師\", \"醫生\", \"考古學家\", \"船匠\", \"音樂家\"]\n",
    "\n",
    "straw_hat_dict = {\"name\": name,\n",
    "                  \"occupation\": occupation}\n",
    "straw_hat_df = pd.DataFrame(straw_hat_dict)\n",
    "\n",
    "name = [\"蒙其·D·魯夫\", \"多尼多尼·喬巴\", \"妮可·羅賓\", \"布魯克\"]\n",
    "devil_fruit = [\"橡膠果實\", \"人人果實\", \"花花果實\", \"黃泉果實\"]\n",
    "\n",
    "devil_fruit_dict = {\"name\": name,\n",
    "                    \"devil_fruit\": devil_fruit}\n",
    "devil_fruit_df = pd.DataFrame(devil_fruit_dict)\n",
    "\n",
    "straw_hat_merged = pd.merge(straw_hat_df, devil_fruit_df)\n",
    "straw_hat_merged"
   ]
  },
  {
   "cell_type": "code",
   "execution_count": 57,
   "metadata": {
    "collapsed": false
   },
   "outputs": [
    {
     "data": {
      "text/html": [
       "<div>\n",
       "<table border=\"1\" class=\"dataframe\">\n",
       "  <thead>\n",
       "    <tr style=\"text-align: right;\">\n",
       "      <th></th>\n",
       "      <th>name</th>\n",
       "      <th>occupation</th>\n",
       "      <th>devil_fruit</th>\n",
       "    </tr>\n",
       "  </thead>\n",
       "  <tbody>\n",
       "    <tr>\n",
       "      <th>0</th>\n",
       "      <td>蒙其·D·魯夫</td>\n",
       "      <td>船長</td>\n",
       "      <td>橡膠果實</td>\n",
       "    </tr>\n",
       "    <tr>\n",
       "      <th>1</th>\n",
       "      <td>羅羅亞·索隆</td>\n",
       "      <td>劍士</td>\n",
       "      <td>NaN</td>\n",
       "    </tr>\n",
       "    <tr>\n",
       "      <th>2</th>\n",
       "      <td>娜美</td>\n",
       "      <td>航海士</td>\n",
       "      <td>NaN</td>\n",
       "    </tr>\n",
       "    <tr>\n",
       "      <th>3</th>\n",
       "      <td>騙人布</td>\n",
       "      <td>狙擊手</td>\n",
       "      <td>NaN</td>\n",
       "    </tr>\n",
       "    <tr>\n",
       "      <th>4</th>\n",
       "      <td>賓什莫克·香吉士</td>\n",
       "      <td>廚師</td>\n",
       "      <td>NaN</td>\n",
       "    </tr>\n",
       "    <tr>\n",
       "      <th>5</th>\n",
       "      <td>多尼多尼·喬巴</td>\n",
       "      <td>醫生</td>\n",
       "      <td>人人果實</td>\n",
       "    </tr>\n",
       "    <tr>\n",
       "      <th>6</th>\n",
       "      <td>妮可·羅賓</td>\n",
       "      <td>考古學家</td>\n",
       "      <td>花花果實</td>\n",
       "    </tr>\n",
       "    <tr>\n",
       "      <th>7</th>\n",
       "      <td>佛朗基</td>\n",
       "      <td>船匠</td>\n",
       "      <td>NaN</td>\n",
       "    </tr>\n",
       "    <tr>\n",
       "      <th>8</th>\n",
       "      <td>布魯克</td>\n",
       "      <td>音樂家</td>\n",
       "      <td>黃泉果實</td>\n",
       "    </tr>\n",
       "  </tbody>\n",
       "</table>\n",
       "</div>"
      ],
      "text/plain": [
       "       name occupation devil_fruit\n",
       "0   蒙其·D·魯夫         船長        橡膠果實\n",
       "1    羅羅亞·索隆         劍士         NaN\n",
       "2        娜美        航海士         NaN\n",
       "3       騙人布        狙擊手         NaN\n",
       "4  賓什莫克·香吉士         廚師         NaN\n",
       "5   多尼多尼·喬巴         醫生        人人果實\n",
       "6     妮可·羅賓       考古學家        花花果實\n",
       "7       佛朗基         船匠         NaN\n",
       "8       布魯克        音樂家        黃泉果實"
      ]
     },
     "execution_count": 57,
     "metadata": {},
     "output_type": "execute_result"
    }
   ],
   "source": [
    "import pandas as pd\n",
    "\n",
    "name = [\"蒙其·D·魯夫\", \"羅羅亞·索隆\", \"娜美\", \"騙人布\", \"賓什莫克·香吉士\", \"多尼多尼·喬巴\", \"妮可·羅賓\", \"佛朗基\", \"布魯克\"]\n",
    "occupation = [\"船長\", \"劍士\", \"航海士\", \"狙擊手\", \"廚師\", \"醫生\", \"考古學家\", \"船匠\", \"音樂家\"]\n",
    "\n",
    "straw_hat_dict = {\"name\": name,\n",
    "                  \"occupation\": occupation}\n",
    "\n",
    "straw_hat_df = pd.DataFrame(straw_hat_dict)\n",
    "\n",
    "name = [\"蒙其·D·魯夫\", \"多尼多尼·喬巴\", \"妮可·羅賓\", \"布魯克\"]\n",
    "devil_fruit = [\"橡膠果實\", \"人人果實\", \"花花果實\", \"黃泉果實\"]\n",
    "\n",
    "devil_fruit_dict = {\"name\": name,\n",
    "                    \"devil_fruit\": devil_fruit}\n",
    "\n",
    "devil_frui_df = pd.DataFrame(devil_fruit_dict)\n",
    "\n",
    "straw_hat_merged = pd.merge(straw_hat_df, devil_fruit_df, how = \"left\")\n",
    "straw_hat_merged"
   ]
  },
  {
   "cell_type": "code",
   "execution_count": 59,
   "metadata": {
    "collapsed": false
   },
   "outputs": [
    {
     "data": {
      "text/html": [
       "<div>\n",
       "<table border=\"1\" class=\"dataframe\">\n",
       "  <thead>\n",
       "    <tr style=\"text-align: right;\">\n",
       "      <th></th>\n",
       "      <th>name</th>\n",
       "      <th>occupation</th>\n",
       "      <th>age</th>\n",
       "    </tr>\n",
       "  </thead>\n",
       "  <tbody>\n",
       "    <tr>\n",
       "      <th>0</th>\n",
       "      <td>蒙其·D·魯夫</td>\n",
       "      <td>船長</td>\n",
       "      <td>19</td>\n",
       "    </tr>\n",
       "    <tr>\n",
       "      <th>1</th>\n",
       "      <td>羅羅亞·索隆</td>\n",
       "      <td>劍士</td>\n",
       "      <td>21</td>\n",
       "    </tr>\n",
       "    <tr>\n",
       "      <th>2</th>\n",
       "      <td>娜美</td>\n",
       "      <td>航海士</td>\n",
       "      <td>20</td>\n",
       "    </tr>\n",
       "    <tr>\n",
       "      <th>3</th>\n",
       "      <td>騙人布</td>\n",
       "      <td>狙擊手</td>\n",
       "      <td>19</td>\n",
       "    </tr>\n",
       "    <tr>\n",
       "      <th>4</th>\n",
       "      <td>賓什莫克·香吉士</td>\n",
       "      <td>廚師</td>\n",
       "      <td>21</td>\n",
       "    </tr>\n",
       "    <tr>\n",
       "      <th>5</th>\n",
       "      <td>多尼多尼·喬巴</td>\n",
       "      <td>醫生</td>\n",
       "      <td>17</td>\n",
       "    </tr>\n",
       "    <tr>\n",
       "      <th>6</th>\n",
       "      <td>妮可·羅賓</td>\n",
       "      <td>考古學家</td>\n",
       "      <td>30</td>\n",
       "    </tr>\n",
       "    <tr>\n",
       "      <th>7</th>\n",
       "      <td>佛朗基</td>\n",
       "      <td>船匠</td>\n",
       "      <td>36</td>\n",
       "    </tr>\n",
       "    <tr>\n",
       "      <th>8</th>\n",
       "      <td>布魯克</td>\n",
       "      <td>音樂家</td>\n",
       "      <td>90</td>\n",
       "    </tr>\n",
       "    <tr>\n",
       "      <th>9</th>\n",
       "      <td>娜菲鲁塔利·薇薇</td>\n",
       "      <td>阿拉巴斯坦王國公主</td>\n",
       "      <td>18</td>\n",
       "    </tr>\n",
       "  </tbody>\n",
       "</table>\n",
       "</div>"
      ],
      "text/plain": [
       "       name occupation  age\n",
       "0   蒙其·D·魯夫         船長   19\n",
       "1    羅羅亞·索隆         劍士   21\n",
       "2        娜美        航海士   20\n",
       "3       騙人布        狙擊手   19\n",
       "4  賓什莫克·香吉士         廚師   21\n",
       "5   多尼多尼·喬巴         醫生   17\n",
       "6     妮可·羅賓       考古學家   30\n",
       "7       佛朗基         船匠   36\n",
       "8       布魯克        音樂家   90\n",
       "9  娜菲鲁塔利·薇薇  阿拉巴斯坦王國公主   18"
      ]
     },
     "execution_count": 59,
     "metadata": {},
     "output_type": "execute_result"
    }
   ],
   "source": [
    "import pandas as pd\n",
    "name = [\"蒙其·D·魯夫\", \"羅羅亞·索隆\", \"娜美\", \"騙人布\", \"賓什莫克·香吉士\", \"多尼多尼·喬巴\", \"妮可·羅賓\", \"佛朗基\", \"布魯克\"]\n",
    "occupation = [\"船長\", \"劍士\", \"航海士\", \"狙擊手\", \"廚師\", \"醫生\", \"考古學家\", \"船匠\", \"音樂家\"]\n",
    "\n",
    "straw_hat_dict = {\"name\": name,\n",
    "                  \"occupation\": occupation}\n",
    "straw_hat_df = pd.DataFrame(straw_hat_dict)\n",
    "\n",
    "name = [\"娜菲鲁塔利·薇薇\"]\n",
    "occupation = [\"阿拉巴斯坦王國公主\"]\n",
    "princess_vivi_dict = {\"name\": name,\n",
    "                      \"occupation\": occupation}\n",
    "\n",
    "princess_vivi_df = pd.DataFrame(princess_vivi_dict, index = [9])\n",
    "\n",
    "straw_hat_df_w_vivi = pd.concat([straw_hat_df, princess_vivi_df])\n",
    "straw_hat_df_w_vivi\n",
    "\n",
    "age = [19, 21, 20, 19, 21, 17, 30, 36, 90, 18]\n",
    "age_dict = {\"age\": age}\n",
    "\n",
    "age_df = pd.DataFrame(age_dict)\n",
    "\n",
    "# 新增一個變數欄位\n",
    "straw_hat_df_w_vivi_age = pd.concat([straw_hat_df_w_vivi, age_df], axis = 1)\n",
    "straw_hat_df_w_vivi_age"
   ]
  },
  {
   "cell_type": "code",
   "execution_count": 63,
   "metadata": {
    "collapsed": false
   },
   "outputs": [
    {
     "data": {
      "text/html": [
       "<div>\n",
       "<table border=\"1\" class=\"dataframe\">\n",
       "  <thead>\n",
       "    <tr style=\"text-align: right;\">\n",
       "      <th></th>\n",
       "      <th>age</th>\n",
       "      <th>height</th>\n",
       "      <th>name</th>\n",
       "    </tr>\n",
       "  </thead>\n",
       "  <tbody>\n",
       "    <tr>\n",
       "      <th>0</th>\n",
       "      <td>19</td>\n",
       "      <td>174</td>\n",
       "      <td>蒙其·D·魯夫</td>\n",
       "    </tr>\n",
       "    <tr>\n",
       "      <th>1</th>\n",
       "      <td>21</td>\n",
       "      <td>181</td>\n",
       "      <td>羅羅亞·索隆</td>\n",
       "    </tr>\n",
       "    <tr>\n",
       "      <th>2</th>\n",
       "      <td>20</td>\n",
       "      <td>170</td>\n",
       "      <td>娜美</td>\n",
       "    </tr>\n",
       "    <tr>\n",
       "      <th>3</th>\n",
       "      <td>19</td>\n",
       "      <td>176</td>\n",
       "      <td>騙人布</td>\n",
       "    </tr>\n",
       "    <tr>\n",
       "      <th>4</th>\n",
       "      <td>21</td>\n",
       "      <td>180</td>\n",
       "      <td>賓什莫克·香吉士</td>\n",
       "    </tr>\n",
       "    <tr>\n",
       "      <th>5</th>\n",
       "      <td>17</td>\n",
       "      <td>90</td>\n",
       "      <td>多尼多尼·喬巴</td>\n",
       "    </tr>\n",
       "    <tr>\n",
       "      <th>6</th>\n",
       "      <td>30</td>\n",
       "      <td>188</td>\n",
       "      <td>妮可·羅賓</td>\n",
       "    </tr>\n",
       "    <tr>\n",
       "      <th>7</th>\n",
       "      <td>36</td>\n",
       "      <td>240</td>\n",
       "      <td>佛朗基</td>\n",
       "    </tr>\n",
       "    <tr>\n",
       "      <th>8</th>\n",
       "      <td>90</td>\n",
       "      <td>277</td>\n",
       "      <td>布魯克</td>\n",
       "    </tr>\n",
       "  </tbody>\n",
       "</table>\n",
       "</div>"
      ],
      "text/plain": [
       "  age height      name\n",
       "0  19    174   蒙其·D·魯夫\n",
       "1  21    181    羅羅亞·索隆\n",
       "2  20    170        娜美\n",
       "3  19    176       騙人布\n",
       "4  21    180  賓什莫克·香吉士\n",
       "5  17     90   多尼多尼·喬巴\n",
       "6  30    188     妮可·羅賓\n",
       "7  36    240       佛朗基\n",
       "8  90    277       布魯克"
      ]
     },
     "execution_count": 63,
     "metadata": {},
     "output_type": "execute_result"
    }
   ],
   "source": [
    "import pandas as pd\n",
    "\n",
    "name = [\"蒙其·D·魯夫\", \"羅羅亞·索隆\", \"娜美\", \"騙人布\", \"賓什莫克·香吉士\", \"多尼多尼·喬巴\", \"妮可·羅賓\", \"佛朗基\", \"布魯克\"]\n",
    "age = [19, 21, 20, 19, 21, 17, 30, 36, 90]\n",
    "height = [174, 181, 170, 176, 180, 90, 188, 240, 277]\n",
    "\n",
    "straw_hat_dict = {\"name\": name,\n",
    "                  \"age\": age,\n",
    "                  \"height\": height}\n",
    "\n",
    "# 建立寬表格\n",
    "straw_hat_df_wide = pd.DataFrame(straw_hat_dict)\n",
    "\n",
    "# 轉為長表格\n",
    "straw_hat_df_long = straw_hat_df_wide.stack()\n",
    "straw_hat_df_long\n",
    "\n",
    "straw_hat_df_wide = straw_hat_df_long.unstack()\n",
    "straw_hat_df_wide"
   ]
  },
  {
   "cell_type": "code",
   "execution_count": 64,
   "metadata": {
    "collapsed": false
   },
   "outputs": [
    {
     "name": "stdout",
     "output_type": "stream",
     "text": [
      "0    False\n",
      "1     True\n",
      "2    False\n",
      "3    False\n",
      "4     True\n",
      "5    False\n",
      "dtype: bool\n",
      "   age     name\n",
      "0   19  蒙其·D·魯夫\n",
      "2   17  蒙其·D·魯夫\n",
      "3   21   羅羅亞·索隆\n",
      "5   19   羅羅亞·索隆\n"
     ]
    }
   ],
   "source": [
    "import pandas as pd\n",
    "\n",
    "name = [\"蒙其·D·魯夫\", \"蒙其·D·魯夫\", \"蒙其·D·魯夫\", \"羅羅亞·索隆\", \"羅羅亞·索隆\", \"羅羅亞·索隆\"]\n",
    "age = [19, 19, 17, 21, 21, 19]\n",
    "duplicated_dict = {\"name\": name,\n",
    "                   \"age\": age}\n",
    "\n",
    "duplicated_df = pd.DataFrame(duplicated_dict)\n",
    "print(duplicated_df.duplicated())\n",
    "print(duplicated_df.drop_duplicates())"
   ]
  },
  {
   "cell_type": "code",
   "execution_count": 66,
   "metadata": {
    "collapsed": false
   },
   "outputs": [
    {
     "data": {
      "text/html": [
       "<div>\n",
       "<table border=\"1\" class=\"dataframe\">\n",
       "  <thead>\n",
       "    <tr style=\"text-align: right;\">\n",
       "      <th></th>\n",
       "      <th>age</th>\n",
       "      <th>name</th>\n",
       "      <th>age_cat</th>\n",
       "    </tr>\n",
       "  </thead>\n",
       "  <tbody>\n",
       "    <tr>\n",
       "      <th>0</th>\n",
       "      <td>19</td>\n",
       "      <td>蒙其·D·魯夫</td>\n",
       "      <td>小於 25 歲</td>\n",
       "    </tr>\n",
       "    <tr>\n",
       "      <th>1</th>\n",
       "      <td>21</td>\n",
       "      <td>羅羅亞·索隆</td>\n",
       "      <td>小於 25 歲</td>\n",
       "    </tr>\n",
       "    <tr>\n",
       "      <th>2</th>\n",
       "      <td>20</td>\n",
       "      <td>娜美</td>\n",
       "      <td>小於 25 歲</td>\n",
       "    </tr>\n",
       "    <tr>\n",
       "      <th>3</th>\n",
       "      <td>19</td>\n",
       "      <td>騙人布</td>\n",
       "      <td>小於 25 歲</td>\n",
       "    </tr>\n",
       "    <tr>\n",
       "      <th>4</th>\n",
       "      <td>21</td>\n",
       "      <td>賓什莫克·香吉士</td>\n",
       "      <td>小於 25 歲</td>\n",
       "    </tr>\n",
       "    <tr>\n",
       "      <th>5</th>\n",
       "      <td>17</td>\n",
       "      <td>多尼多尼·喬巴</td>\n",
       "      <td>小於 25 歲</td>\n",
       "    </tr>\n",
       "    <tr>\n",
       "      <th>6</th>\n",
       "      <td>30</td>\n",
       "      <td>妮可·羅賓</td>\n",
       "      <td>超過 25 歲</td>\n",
       "    </tr>\n",
       "    <tr>\n",
       "      <th>7</th>\n",
       "      <td>36</td>\n",
       "      <td>佛朗基</td>\n",
       "      <td>超過 25 歲</td>\n",
       "    </tr>\n",
       "    <tr>\n",
       "      <th>8</th>\n",
       "      <td>90</td>\n",
       "      <td>布魯克</td>\n",
       "      <td>超過 25 歲</td>\n",
       "    </tr>\n",
       "  </tbody>\n",
       "</table>\n",
       "</div>"
      ],
      "text/plain": [
       "   age      name  age_cat\n",
       "0   19   蒙其·D·魯夫  小於 25 歲\n",
       "1   21    羅羅亞·索隆  小於 25 歲\n",
       "2   20        娜美  小於 25 歲\n",
       "3   19       騙人布  小於 25 歲\n",
       "4   21  賓什莫克·香吉士  小於 25 歲\n",
       "5   17   多尼多尼·喬巴  小於 25 歲\n",
       "6   30     妮可·羅賓  超過 25 歲\n",
       "7   36       佛朗基  超過 25 歲\n",
       "8   90       布魯克  超過 25 歲"
      ]
     },
     "execution_count": 66,
     "metadata": {},
     "output_type": "execute_result"
    }
   ],
   "source": [
    "import pandas as pd\n",
    "\n",
    "name = [\"蒙其·D·魯夫\", \"羅羅亞·索隆\", \"娜美\", \"騙人布\", \"賓什莫克·香吉士\", \"多尼多尼·喬巴\", \"妮可·羅賓\", \"佛朗基\", \"布魯克\"]\n",
    "age = [19, 21, 20, 19, 21, 17, 30, 36, 90]\n",
    "\n",
    "straw_hat_dict = {\"name\": name,\n",
    "                  \"age\": age}\n",
    "\n",
    "straw_hat_df = pd.DataFrame(straw_hat_dict)\n",
    "\n",
    "bins = [0, 25, float(\"inf\")]\n",
    "group_names = [\"小於 25 歲\", \"超過 25 歲\"]\n",
    "straw_hat_df.ix[:, \"age_cat\"] = pd.cut(straw_hat_df.ix[:, \"age\"], bins, labels = group_names)\n",
    "straw_hat_df"
   ]
  },
  {
   "cell_type": "code",
   "execution_count": 67,
   "metadata": {
    "collapsed": true
   },
   "outputs": [],
   "source": [
    "import pandas as pd\n",
    "\n",
    "name = [\"蒙其·D·魯夫\", \"羅羅亞·索隆\", \"娜美\", \"騙人布\", \"賓什莫克·香吉士\", \"多尼多尼·喬巴\", \"妮可·羅賓\", \"佛朗基\", \"布魯克\"]\n",
    "age = [19, 21, 20, 19, 21, 17, 30, 36, 90]\n",
    "\n",
    "straw_hat_dict = {\"name\": name,\n",
    "                  \"age\": age}\n",
    "\n",
    "straw_hat_df = pd.DataFrame(straw_hat_dict)\n",
    "straw_hat_df.to_csv(\"straw_hat.csv\", index = False)\n",
    "straw_hat_df.to_json(\"straw_hat.json\")"
   ]
  },
  {
   "cell_type": "code",
   "execution_count": 9,
   "metadata": {
    "collapsed": false
   },
   "outputs": [
    {
     "data": {
      "image/png": "[encoded data removed]",
      "text/plain": [
       "<matplotlib.figure.Figure at 0x1199c67b8>"
      ]
     },
     "metadata": {},
     "output_type": "display_data"
    },
    {
     "data": {
      "image/png": "[encoded data removed]",
      "text/plain": [
       "<matplotlib.figure.Figure at 0x1199c67f0>"
      ]
     },
     "metadata": {},
     "output_type": "display_data"
    }
   ],
   "source": [
    "%matplotlib inline \n",
    "# 讓圖形不會在新視窗呈現\n",
    "import numpy as np\n",
    "import matplotlib.pyplot as plt\n",
    "\n",
    "normal_samples = np.random.normal(size = 100000)\n",
    "uniform_samples = np.random.uniform(size = 100000)\n",
    "\n",
    "plt.hist(normal_samples)\n",
    "plt.show()\n",
    "plt.hist(uniform_samples)\n",
    "plt.show()"
   ]
  },
  {
   "cell_type": "code",
   "execution_count": 11,
   "metadata": {
    "collapsed": false
   },
   "outputs": [
    {
     "data": {
      "image/png": "[encoded data removed]",
      "text/plain": [
       "<matplotlib.figure.Figure at 0x119c17d68>"
      ]
     },
     "metadata": {},
     "output_type": "display_data"
    }
   ],
   "source": [
    "%matplotlib inline\n",
    "import matplotlib.pyplot as plt\n",
    "\n",
    "speed = [4, 4, 7, 7, 8, 9, 10, 10, 10, 11, 11, 12, 12, 12, 12, 13, 13, 13, 13, 14, 14, 14, 14, 15, 15, 15, 16, 16, 17, 17, 17, 18, 18, 18, 18, 19, 19, 19, 20, 20, 20, 20, 20, 22, 23, 24, 24, 24, 24, 25]\n",
    "dist = [2, 10, 4, 22, 16, 10, 18, 26, 34, 17, 28, 14, 20, 24, 28, 26, 34, 34, 46, 26, 36, 60, 80, 20, 26, 54, 32, 40, 32, 40, 50, 42, 56, 76, 84, 36, 46, 68, 32, 48, 52, 56, 64, 66, 54, 70, 92, 93, 120, 85]\n",
    "\n",
    "plt.scatter(speed, dist)\n",
    "plt.show()"
   ]
  },
  {
   "cell_type": "code",
   "execution_count": 13,
   "metadata": {
    "collapsed": false
   },
   "outputs": [
    {
     "data": {
      "image/png": "[encoded data removed]",
      "text/plain": [
       "<matplotlib.figure.Figure at 0x11aad5748>"
      ]
     },
     "metadata": {},
     "output_type": "display_data"
    }
   ],
   "source": [
    "%matplotlib inline\n",
    "import matplotlib.pyplot as plt\n",
    "\n",
    "speed = [4, 4, 7, 7, 8, 9, 10, 10, 10, 11, 11, 12, 12, 12, 12, 13, 13, 13, 13, 14, 14, 14, 14, 15, 15, 15, 16, 16, 17, 17, 17, 18, 18, 18, 18, 19, 19, 19, 20, 20, 20, 20, 20, 22, 23, 24, 24, 24, 24, 25]\n",
    "dist = [2, 10, 4, 22, 16, 10, 18, 26, 34, 17, 28, 14, 20, 24, 28, 26, 34, 34, 46, 26, 36, 60, 80, 20, 26, 54, 32, 40, 32, 40, 50, 42, 56, 76, 84, 36, 46, 68, 32, 48, 52, 56, 64, 66, 54, 70, 92, 93, 120, 85]\n",
    "\n",
    "plt.plot(speed, dist)\n",
    "plt.show()"
   ]
  },
  {
   "cell_type": "code",
   "execution_count": 17,
   "metadata": {
    "collapsed": false
   },
   "outputs": [
    {
     "ename": "NameError",
     "evalue": "name 'index' is not defined",
     "output_type": "error",
     "traceback": [
      "\u001b[0;31m---------------------------------------------------------------------------\u001b[0m",
      "\u001b[0;31mNameError\u001b[0m                                 Traceback (most recent call last)",
      "\u001b[0;32m<ipython-input-17-a62737c0a367>\u001b[0m in \u001b[0;36m<module>\u001b[0;34m()\u001b[0m\n\u001b[1;32m     10\u001b[0m \u001b[0mwidth\u001b[0m \u001b[0;34m=\u001b[0m \u001b[0;36m1\u001b[0m\u001b[0;34m\u001b[0m\u001b[0m\n\u001b[1;32m     11\u001b[0m \u001b[0;34m\u001b[0m\u001b[0m\n\u001b[0;32m---> 12\u001b[0;31m \u001b[0mplt\u001b[0m\u001b[0;34m.\u001b[0m\u001b[0mbar\u001b[0m\u001b[0;34m(\u001b[0m\u001b[0mindex\u001b[0m\u001b[0;34m,\u001b[0m \u001b[0mvalues\u001b[0m\u001b[0;34m)\u001b[0m\u001b[0;34m\u001b[0m\u001b[0m\n\u001b[0m\u001b[1;32m     13\u001b[0m \u001b[0mplt\u001b[0m\u001b[0;34m.\u001b[0m\u001b[0mxticks\u001b[0m\u001b[0;34m(\u001b[0m\u001b[0mindexes\u001b[0m \u001b[0;34m+\u001b[0m \u001b[0mwidth\u001b[0m \u001b[0;34m*\u001b[0m \u001b[0;36m0.5\u001b[0m\u001b[0;34m,\u001b[0m \u001b[0mlabels\u001b[0m\u001b[0;34m)\u001b[0m\u001b[0;34m\u001b[0m\u001b[0m\n\u001b[1;32m     14\u001b[0m \u001b[0mplt\u001b[0m\u001b[0;34m.\u001b[0m\u001b[0mshow\u001b[0m\u001b[0;34m(\u001b[0m\u001b[0;34m)\u001b[0m\u001b[0;34m\u001b[0m\u001b[0m\n",
      "\u001b[0;31mNameError\u001b[0m: name 'index' is not defined"
     ]
    }
   ],
   "source": [
    "%matplotlib inline\n",
    "\n",
    "from collections import Counter\n",
    "import matplotlib.pyplot as plt\n",
    "import numpy as np\n",
    "\n",
    "cyl = [6 ,6 ,4 ,6 ,8 ,6 ,8 ,4 ,4 ,6 ,6 ,8 ,8 ,8 ,8 ,8 ,8 ,4 ,4 ,4 ,4 ,8 ,8 ,8 ,8 ,4 ,4 ,4 ,8 ,6 ,8 ,4]\n",
    "\n",
    "labels, values = zip(*Counter(cyl).items())\n",
    "width = 1\n",
    "\n",
    "plt.bar(indexes, values)\n",
    "plt.xticks(indexes + width * 0.5, labels)\n",
    "plt.show()"
   ]
  },
  {
   "cell_type": "code",
   "execution_count": 18,
   "metadata": {
    "collapsed": false
   },
   "outputs": [
    {
     "data": {
      "image/png": "[encoded data removed]",
      "text/plain": [
       "<matplotlib.figure.Figure at 0x11ad41470>"
      ]
     },
     "metadata": {},
     "output_type": "display_data"
    }
   ],
   "source": [
    "%matplotlib inline\n",
    "\n",
    "import numpy as np\n",
    "import matplotlib.pyplot as plt\n",
    "\n",
    "normal_samples = np.random.normal(size = 100000)\n",
    "\n",
    "plt.boxplot(normal_samples)\n",
    "plt.show()"
   ]
  },
  {
   "cell_type": "code",
   "execution_count": 19,
   "metadata": {
    "collapsed": false
   },
   "outputs": [
    {
     "data": {
      "image/png": "[encoded data removed]",
      "text/plain": [
       "<matplotlib.figure.Figure at 0x11ad44588>"
      ]
     },
     "metadata": {},
     "output_type": "display_data"
    }
   ],
   "source": [
    "import numpy as np\n",
    "import matplotlib.pyplot as plt\n",
    "\n",
    "normal_samples = np.random.normal(size = 100000)\n",
    "\n",
    "plt.hist(normal_samples)\n",
    "plt.savefig(filename = \"my_hist.png\", format = \"png\")"
   ]
  },
  {
   "cell_type": "code",
   "execution_count": null,
   "metadata": {
    "collapsed": true
   },
   "outputs": [],
   "source": []
  },
  {
   "cell_type": "code",
   "execution_count": 3,
   "metadata": {
    "collapsed": false
   },
   "outputs": [
    {
     "name": "stdout",
     "output_type": "stream",
     "text": [
      "0 [ 0.26362354] [ 0.29020405]\n",
      "20 [ 0.12741511] [ 0.28508782]\n",
      "40 [ 0.10576474] [ 0.29686433]\n",
      "60 [ 0.10121219] [ 0.29934067]\n",
      "80 [ 0.10025489] [ 0.29986137]\n",
      "100 [ 0.10005359] [ 0.29997087]\n",
      "120 [ 0.10001127] [ 0.29999387]\n",
      "140 [ 0.10000239] [ 0.29999873]\n",
      "160 [ 0.10000049] [ 0.29999974]\n",
      "180 [ 0.1000001] [ 0.29999995]\n",
      "200 [ 0.1000001] [ 0.29999995]\n"
     ]
    }
   ],
   "source": [
    "import tensorflow as tf\n",
    "import numpy as np\n",
    "\n",
    "# 準備資料\n",
    "x_data = np.random.rand(100).astype(np.float32)\n",
    "y_data = x_data * 0.1 + 0.3\n",
    "\n",
    "# W 指的是係數，斜率介於 -1 至 1 之間\n",
    "# b 指的是截距，從 0 開始逼近任意數字\n",
    "# y 指的是預測值\n",
    "W = tf.Variable(tf.random_uniform([1], -1.0, 1.0))\n",
    "b = tf.Variable(tf.zeros([1]))\n",
    "y = W * x_data + b\n",
    "\n",
    "# 我們的目標是要讓 loss（MSE）最小化\n",
    "loss = tf.reduce_mean(tf.square(y - y_data))\n",
    "optimizer = tf.train.GradientDescentOptimizer(learning_rate = 0.5)\n",
    "train = optimizer.minimize(loss)\n",
    "\n",
    "# 初始化\n",
    "init = tf.initialize_all_variables()\n",
    "\n",
    "# 將神經網絡圖畫出來\n",
    "sess = tf.Session()\n",
    "sess.run(init)\n",
    "\n",
    "# 將迴歸線的係數與截距模擬出來\n",
    "# 每跑 20 次把當時的係數與截距印出來\n",
    "for step in range(201):\n",
    "    sess.run(train)\n",
    "    if step % 20 == 0:\n",
    "        print(step, sess.run(W), sess.run(b))\n",
    "        \n",
    "# 關閉 Session\n",
    "sess.close()"
   ]
  },
  {
   "cell_type": "code",
   "execution_count": 4,
   "metadata": {
    "collapsed": true
   },
   "outputs": [],
   "source": []
  },
  {
   "cell_type": "code",
   "execution_count": 5,
   "metadata": {
    "collapsed": false
   },
   "outputs": [
    {
     "name": "stdout",
     "output_type": "stream",
     "text": [
      "[[12]]\n"
     ]
    }
   ],
   "source": []
  },
  {
   "cell_type": "code",
   "execution_count": 6,
   "metadata": {
    "collapsed": false
   },
   "outputs": [
    {
     "name": "stdout",
     "output_type": "stream",
     "text": [
      "[array([[12]], dtype=int32)]\n"
     ]
    }
   ],
   "source": []
  },
  {
   "cell_type": "code",
   "execution_count": 7,
   "metadata": {
    "collapsed": false
   },
   "outputs": [
    {
     "name": "stdout",
     "output_type": "stream",
     "text": [
      "[[12]]\n"
     ]
    }
   ],
   "source": []
  },
  {
   "cell_type": "code",
   "execution_count": null,
   "metadata": {
    "collapsed": true
   },
   "outputs": [],
   "source": []
  }
 ],
 "metadata": {
  "kernelspec": {
   "display_name": "Python 3",
   "language": "python",
   "name": "python3"
  },
  "language_info": {
   "codemirror_mode": {
    "name": "ipython",
    "version": 3
   },
   "file_extension": ".py",
   "mimetype": "text/x-python",
   "name": "python",
   "nbconvert_exporter": "python",
   "pygments_lexer": "ipython3",
   "version": "3.5.2"
  }
 },
 "nbformat": 4,
 "nbformat_minor": 0
}
