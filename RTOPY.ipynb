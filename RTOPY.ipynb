{
 "cells": [
  {
   "cell_type": "code",
   "execution_count": 2,
   "metadata": {
    "collapsed": false
   },
   "outputs": [
    {
     "name": "stdout",
     "output_type": "stream",
     "text": [
      "5\n",
      "-1\n",
      "6\n",
      "5.0\n",
      "9\n",
      "2\n"
     ]
    }
   ],
   "source": [
    "print(2+3)\n",
    "print(2-3)\n",
    "print(2*3)\n",
    "print(10/2)\n",
    "print(3**2)\n",
    "print(10%4)"
   ]
  },
  {
   "cell_type": "code",
   "execution_count": 3,
   "metadata": {
    "collapsed": false
   },
   "outputs": [
    {
     "name": "stdout",
     "output_type": "stream",
     "text": [
      "Help on class type in module builtins:\n",
      "\n",
      "class type(object)\n",
      " |  type(object_or_name, bases, dict)\n",
      " |  type(object) -> the object's type\n",
      " |  type(name, bases, dict) -> a new type\n",
      " |  \n",
      " |  Methods defined here:\n",
      " |  \n",
      " |  __call__(self, /, *args, **kwargs)\n",
      " |      Call self as a function.\n",
      " |  \n",
      " |  __delattr__(self, name, /)\n",
      " |      Implement delattr(self, name).\n",
      " |  \n",
      " |  __dir__(...)\n",
      " |      __dir__() -> list\n",
      " |      specialized __dir__ implementation for types\n",
      " |  \n",
      " |  __getattribute__(self, name, /)\n",
      " |      Return getattr(self, name).\n",
      " |  \n",
      " |  __init__(self, /, *args, **kwargs)\n",
      " |      Initialize self.  See help(type(self)) for accurate signature.\n",
      " |  \n",
      " |  __instancecheck__(...)\n",
      " |      __instancecheck__() -> bool\n",
      " |      check if an object is an instance\n",
      " |  \n",
      " |  __new__(*args, **kwargs)\n",
      " |      Create and return a new object.  See help(type) for accurate signature.\n",
      " |  \n",
      " |  __prepare__(...)\n",
      " |      __prepare__() -> dict\n",
      " |      used to create the namespace for the class statement\n",
      " |  \n",
      " |  __repr__(self, /)\n",
      " |      Return repr(self).\n",
      " |  \n",
      " |  __setattr__(self, name, value, /)\n",
      " |      Implement setattr(self, name, value).\n",
      " |  \n",
      " |  __sizeof__(...)\n",
      " |      __sizeof__() -> int\n",
      " |      return memory consumption of the type object\n",
      " |  \n",
      " |  __subclasscheck__(...)\n",
      " |      __subclasscheck__() -> bool\n",
      " |      check if a class is a subclass\n",
      " |  \n",
      " |  __subclasses__(...)\n",
      " |      __subclasses__() -> list of immediate subclasses\n",
      " |  \n",
      " |  mro(...)\n",
      " |      mro() -> list\n",
      " |      return a type's method resolution order\n",
      " |  \n",
      " |  ----------------------------------------------------------------------\n",
      " |  Data descriptors defined here:\n",
      " |  \n",
      " |  __abstractmethods__\n",
      " |  \n",
      " |  __dict__\n",
      " |  \n",
      " |  __text_signature__\n",
      " |  \n",
      " |  ----------------------------------------------------------------------\n",
      " |  Data and other attributes defined here:\n",
      " |  \n",
      " |  __base__ = <class 'object'>\n",
      " |      The most base type\n",
      " |  \n",
      " |  __bases__ = (<class 'object'>,)\n",
      " |  \n",
      " |  __basicsize__ = 864\n",
      " |  \n",
      " |  __dictoffset__ = 264\n",
      " |  \n",
      " |  __flags__ = 2148291584\n",
      " |  \n",
      " |  __itemsize__ = 40\n",
      " |  \n",
      " |  __mro__ = (<class 'type'>, <class 'object'>)\n",
      " |  \n",
      " |  __weakrefoffset__ = 368\n",
      "\n"
     ]
    }
   ],
   "source": [
    "help(type)"
   ]
  },
  {
   "cell_type": "code",
   "execution_count": 4,
   "metadata": {
    "collapsed": false
   },
   "outputs": [
    {
     "name": "stdout",
     "output_type": "stream",
     "text": [
      "<class 'int'>\n",
      "<class 'float'>\n",
      "<class 'complex'>\n",
      "<class 'bool'>\n",
      "<class 'bool'>\n",
      "<class 'str'>\n"
     ]
    }
   ],
   "source": [
    "print(type(5))\n",
    "print(type(5.5))\n",
    "print(type(5 + 3j))\n",
    "print(type(True))\n",
    "print(type(False))\n",
    "print(type(\"2017 ithome ironman\"))"
   ]
  },
  {
   "cell_type": "code",
   "execution_count": 5,
   "metadata": {
    "collapsed": false
   },
   "outputs": [
    {
     "name": "stdout",
     "output_type": "stream",
     "text": [
      "True\n",
      "True\n",
      "2.2\n",
      "5\n",
      "2017 ithome ironman rocks!\n",
      "2017 ithome ironman rocks!!!\n"
     ]
    }
   ],
   "source": [
    "print(1.0 == True)\n",
    "print(0 == False)\n",
    "print(1.2 + True)\n",
    "print(3 + True * 2)\n",
    "print(\"2017 ithome ironman\" + \" rocks!\")\n",
    "print(\"2017 ithome ironman \" + \"rocks\" + \"!\" * 3)"
   ]
  },
  {
   "cell_type": "code",
   "execution_count": 6,
   "metadata": {
    "collapsed": false
   },
   "outputs": [
    {
     "ename": "TypeError",
     "evalue": "Can't convert 'int' object to str implicitly",
     "output_type": "error",
     "traceback": [
      "\u001b[0;31m---------------------------------------------------------------------------\u001b[0m",
      "\u001b[0;31mTypeError\u001b[0m                                 Traceback (most recent call last)",
      "\u001b[0;32m<ipython-input-6-598399a7b551>\u001b[0m in \u001b[0;36m<module>\u001b[0;34m()\u001b[0m\n\u001b[1;32m      1\u001b[0m \u001b[0mdays\u001b[0m \u001b[0;34m=\u001b[0m \u001b[0;36m30\u001b[0m\u001b[0;34m\u001b[0m\u001b[0m\n\u001b[0;32m----> 2\u001b[0;31m \u001b[0mprint\u001b[0m\u001b[0;34m(\u001b[0m\u001b[0;34m\"In order to become an ironman, you have to publish an article a day for \"\u001b[0m \u001b[0;34m+\u001b[0m \u001b[0mdays\u001b[0m \u001b[0;34m+\u001b[0m \u001b[0;34m\" days in a row.\"\u001b[0m\u001b[0;34m)\u001b[0m\u001b[0;34m\u001b[0m\u001b[0m\n\u001b[0m",
      "\u001b[0;31mTypeError\u001b[0m: Can't convert 'int' object to str implicitly"
     ]
    }
   ],
   "source": [
    "days = 30\n",
    "print(\"In order to become an ironman, you have to publish an article a day for \" + days + \" days in a row.\")"
   ]
  },
  {
   "cell_type": "code",
   "execution_count": 7,
   "metadata": {
    "collapsed": false
   },
   "outputs": [
    {
     "data": {
      "text/plain": [
       "33"
      ]
     },
     "execution_count": 7,
     "metadata": {},
     "output_type": "execute_result"
    }
   ],
   "source": [
    "days = 30\n",
    "days = days + 3\n",
    "days"
   ]
  },
  {
   "cell_type": "code",
   "execution_count": 8,
   "metadata": {
    "collapsed": false
   },
   "outputs": [
    {
     "data": {
      "text/plain": [
       "33"
      ]
     },
     "execution_count": 8,
     "metadata": {},
     "output_type": "execute_result"
    }
   ],
   "source": [
    "days = 30\n",
    "days += 3\n",
    "days"
   ]
  },
  {
   "cell_type": "code",
   "execution_count": 9,
   "metadata": {
    "collapsed": false
   },
   "outputs": [
    {
     "name": "stdout",
     "output_type": "stream",
     "text": [
      "33\n",
      "30\n",
      "150\n",
      "30.0\n",
      "2.0\n"
     ]
    }
   ],
   "source": [
    "days = 30\n",
    "days += 3\n",
    "print(days)\n",
    "days -= 3\n",
    "print(days)\n",
    "days *= 5\n",
    "print(days)\n",
    "days /= 5\n",
    "print(days)\n",
    "days %= 7\n",
    "print(days)"
   ]
  },
  {
   "cell_type": "code",
   "execution_count": 10,
   "metadata": {
    "collapsed": false
   },
   "outputs": [
    {
     "name": "stdout",
     "output_type": "stream",
     "text": [
      "In order to become an ironman, you have tp publish an article a day for 30 days in a row.\n"
     ]
    }
   ],
   "source": [
    "days = 30\n",
    "print(\"In order to become an ironman, you have tp publish an article a day for \" + \n",
    "      str(days) + \" days in a row.\")"
   ]
  },
  {
   "cell_type": "code",
   "execution_count": 11,
   "metadata": {
    "collapsed": false
   },
   "outputs": [
    {
     "name": "stdout",
     "output_type": "stream",
     "text": [
      "<class 'bool'>\n",
      "1.0\n",
      "1\n",
      "(1+0j)\n",
      "<class 'str'>\n"
     ]
    }
   ],
   "source": [
    "my_bool = True\n",
    "print(type(my_bool))\n",
    "print(float(my_bool))\n",
    "print(int(my_bool))\n",
    "print(complex(my_bool))\n",
    "print(type(str(my_bool)))"
   ]
  },
  {
   "cell_type": "code",
   "execution_count": 12,
   "metadata": {
    "collapsed": true
   },
   "outputs": [],
   "source": [
    "ironman_group_1 = \"Modern Web\"\n",
    "ironman_group_2 = \"DevOps\"\n",
    "ironman_group_3 = \"Cloud\"\n",
    "ironman_group_4 = \"Big Data\"\n",
    "ironman_group_5 = \"Security\"\n",
    "ironman_group_6 = \"自我挑戰組\"\n",
    "\n",
    "ironman_groups = [\"Modern Web\", \"DevOps\", \"Cloud\", \"Big Data\", \"Security\", \"自我挑戰組\"]"
   ]
  },
  {
   "cell_type": "code",
   "execution_count": 13,
   "metadata": {
    "collapsed": false
   },
   "outputs": [
    {
     "name": "stdout",
     "output_type": "stream",
     "text": [
      "<class 'str'>\n",
      "<class 'int'>\n",
      "<class 'bool'>\n"
     ]
    }
   ],
   "source": [
    "participated_group = \"Big Data\"\n",
    "current_ttl_articles = 4\n",
    "is_participating = True\n",
    "my_status = [participated_group, current_ttl_articles, is_participating]\n",
    "print(type(my_status[0]))\n",
    "print(type(my_status[1]))\n",
    "print(type(my_status[2]))"
   ]
  },
  {
   "cell_type": "code",
   "execution_count": 14,
   "metadata": {
    "collapsed": false
   },
   "outputs": [
    {
     "ename": "AttributeError",
     "evalue": "'tuple' object has no attribute 'insert'",
     "output_type": "error",
     "traceback": [
      "\u001b[0;31m---------------------------------------------------------------------------\u001b[0m",
      "\u001b[0;31mAttributeError\u001b[0m                            Traceback (most recent call last)",
      "\u001b[0;32m<ipython-input-14-86359810ebe2>\u001b[0m in \u001b[0;36m<module>\u001b[0;34m()\u001b[0m\n\u001b[1;32m      3\u001b[0m \u001b[0;34m\u001b[0m\u001b[0m\n\u001b[1;32m      4\u001b[0m \u001b[0mironman_groups_list\u001b[0m\u001b[0;34m.\u001b[0m\u001b[0minsert\u001b[0m\u001b[0;34m(\u001b[0m\u001b[0;36m5\u001b[0m\u001b[0;34m,\u001b[0m \u001b[0;34m\"自我挑戰組\"\u001b[0m\u001b[0;34m)\u001b[0m\u001b[0;34m\u001b[0m\u001b[0m\n\u001b[0;32m----> 5\u001b[0;31m \u001b[0mironman_groups_tuple\u001b[0m\u001b[0;34m.\u001b[0m\u001b[0minsert\u001b[0m\u001b[0;34m(\u001b[0m\u001b[0;36m5\u001b[0m\u001b[0;34m,\u001b[0m \u001b[0;34m\"自我挑戰組\"\u001b[0m\u001b[0;34m)\u001b[0m\u001b[0;34m\u001b[0m\u001b[0m\n\u001b[0m",
      "\u001b[0;31mAttributeError\u001b[0m: 'tuple' object has no attribute 'insert'"
     ]
    }
   ],
   "source": [
    "ironman_groups_list = [\"Modern Web\", \"DevOps\", \"Cloud\", \"Big Data\", \"Security\"]\n",
    "ironman_groups_tuple = tuple(ironman_groups_list)\n",
    "\n",
    "ironman_groups_list.insert(5, \"自我挑戰組\")\n",
    "ironman_groups_tuple.insert(5, \"自我挑戰組\")"
   ]
  },
  {
   "cell_type": "code",
   "execution_count": 15,
   "metadata": {
    "collapsed": false
   },
   "outputs": [
    {
     "name": "stdout",
     "output_type": "stream",
     "text": [
      "['Modern Web', 'DevOps', 'Cloud', 'Big Data', 'Security', '自我挑戰組']\n"
     ]
    }
   ],
   "source": [
    "ironman_groups_list = [\"Modern Web\", \"DevOps\", \"Cloud\", \"Big Data\", \"Security\"]\n",
    "ironman_groups_tuple = tuple(ironman_groups_list)\n",
    "\n",
    "ironman_groups_list.insert(5, \"自我挑戰組\")\n",
    "print(ironman_groups_list)"
   ]
  },
  {
   "cell_type": "code",
   "execution_count": 16,
   "metadata": {
    "collapsed": false
   },
   "outputs": [
    {
     "name": "stdout",
     "output_type": "stream",
     "text": [
      "Big Data\n",
      "4\n",
      "True\n"
     ]
    }
   ],
   "source": [
    "participated_group = \"Big Data\"\n",
    "current_ttl_articles = 4\n",
    "is_participating = True\n",
    "my_status = {\n",
    "    \"group\": participated_group,\n",
    "    \"ttl_articles\": current_ttl_articles,\n",
    "    \"is_participating\": is_participating\n",
    "    }\n",
    "print(my_status[\"group\"])\n",
    "print(my_status[\"ttl_articles\"])\n",
    "print(my_status[\"is_participating\"])"
   ]
  },
  {
   "cell_type": "code",
   "execution_count": 17,
   "metadata": {
    "collapsed": false
   },
   "outputs": [
    {
     "name": "stdout",
     "output_type": "stream",
     "text": [
      "[46, 8, 11, 11, 4, 56, 46, 8, 11, 11, 4, 56, 46, 8, 11, 11, 4, 56, 46, 8, 11, 11, 4, 56, 46, 8, 11, 11, 4, 56, 46, 8, 11, 11, 4, 56, 46, 8, 11, 11, 4, 56, 46, 8, 11, 11, 4, 56, 46, 8, 11, 11, 4, 56, 46, 8, 11, 11, 4, 56, 46, 8, 11, 11, 4, 56, 46, 8, 11, 11, 4, 56, 46, 8, 11, 11, 4, 56, 46, 8, 11, 11, 4, 56, 46, 8, 11, 11, 4, 56, 46, 8, 11, 11, 4, 56, 46, 8, 11, 11, 4, 56, 46, 8, 11, 11, 4, 56, 46, 8, 11, 11, 4, 56, 46, 8, 11, 11, 4, 56, 46, 8, 11, 11, 4, 56, 46, 8, 11, 11, 4, 56, 46, 8, 11, 11, 4, 56, 46, 8, 11, 11, 4, 56, 46, 8, 11, 11, 4, 56, 46, 8, 11, 11, 4, 56, 46, 8, 11, 11, 4, 56, 46, 8, 11, 11, 4, 56, 46, 8, 11, 11, 4, 56, 46, 8, 11, 11, 4, 56]\n"
     ]
    }
   ],
   "source": [
    "ironmen = [46, 8, 11, 11, 4, 56]\n",
    "articles = ironmen * 30\n",
    "print(articles)"
   ]
  },
  {
   "cell_type": "code",
   "execution_count": 18,
   "metadata": {
    "collapsed": false
   },
   "outputs": [
    {
     "ename": "TypeError",
     "evalue": "can't multiply sequence by non-int of type 'list'",
     "output_type": "error",
     "traceback": [
      "\u001b[0;31m---------------------------------------------------------------------------\u001b[0m",
      "\u001b[0;31mTypeError\u001b[0m                                 Traceback (most recent call last)",
      "\u001b[0;32m<ipython-input-18-19ba40e95690>\u001b[0m in \u001b[0;36m<module>\u001b[0;34m()\u001b[0m\n\u001b[1;32m      1\u001b[0m \u001b[0mironmen\u001b[0m \u001b[0;34m=\u001b[0m \u001b[0;34m[\u001b[0m\u001b[0;36m46\u001b[0m\u001b[0;34m,\u001b[0m \u001b[0;36m8\u001b[0m\u001b[0;34m,\u001b[0m \u001b[0;36m11\u001b[0m\u001b[0;34m,\u001b[0m \u001b[0;36m11\u001b[0m\u001b[0;34m,\u001b[0m \u001b[0;36m4\u001b[0m\u001b[0;34m,\u001b[0m \u001b[0;36m56\u001b[0m\u001b[0;34m]\u001b[0m\u001b[0;34m\u001b[0m\u001b[0m\n\u001b[1;32m      2\u001b[0m \u001b[0marticle_multiplier\u001b[0m \u001b[0;34m=\u001b[0m \u001b[0;34m[\u001b[0m\u001b[0;36m30\u001b[0m\u001b[0;34m,\u001b[0m \u001b[0;36m30\u001b[0m\u001b[0;34m,\u001b[0m \u001b[0;36m30\u001b[0m\u001b[0;34m,\u001b[0m \u001b[0;36m30\u001b[0m\u001b[0;34m,\u001b[0m \u001b[0;36m30\u001b[0m\u001b[0;34m,\u001b[0m \u001b[0;36m30\u001b[0m\u001b[0;34m]\u001b[0m\u001b[0;34m\u001b[0m\u001b[0m\n\u001b[0;32m----> 3\u001b[0;31m \u001b[0marticles\u001b[0m \u001b[0;34m=\u001b[0m \u001b[0mironmen\u001b[0m \u001b[0;34m*\u001b[0m \u001b[0marticle_multiplier\u001b[0m\u001b[0;34m\u001b[0m\u001b[0m\n\u001b[0m\u001b[1;32m      4\u001b[0m \u001b[0mprint\u001b[0m\u001b[0;34m(\u001b[0m\u001b[0marticles\u001b[0m\u001b[0;34m)\u001b[0m\u001b[0;34m\u001b[0m\u001b[0m\n",
      "\u001b[0;31mTypeError\u001b[0m: can't multiply sequence by non-int of type 'list'"
     ]
    }
   ],
   "source": [
    "ironmen = [46, 8, 11, 11, 4, 56]\n",
    "article_multiplier = [30, 30, 30, 30, 30, 30]\n",
    "articles = ironmen * article_multiplier\n",
    "print(articles)"
   ]
  },
  {
   "cell_type": "code",
   "execution_count": 19,
   "metadata": {
    "collapsed": false
   },
   "outputs": [
    {
     "name": "stdout",
     "output_type": "stream",
     "text": [
      "[46  8 11 11  4 56]\n",
      "<class 'numpy.ndarray'>\n",
      "[1380  240  330  330  120 1680]\n"
     ]
    }
   ],
   "source": [
    "import numpy\n",
    "ironmen = numpy.array([46, 8, 11, 11, 4, 56])\n",
    "print(ironmen)\n",
    "print(type(ironmen))\n",
    "articles = ironmen * 30\n",
    "print(articles)"
   ]
  },
  {
   "cell_type": "code",
   "execution_count": 20,
   "metadata": {
    "collapsed": false
   },
   "outputs": [
    {
     "name": "stdout",
     "output_type": "stream",
     "text": [
      "int64\n",
      "<U21\n"
     ]
    }
   ],
   "source": [
    "import numpy as np\n",
    "my_np_array = np.array([1, True])\n",
    "print(my_np_array.dtype)\n",
    "my_np_array = np.array([1, True, \"one\"])\n",
    "print(my_np_array.dtype)"
   ]
  },
  {
   "cell_type": "code",
   "execution_count": 21,
   "metadata": {
    "collapsed": false
   },
   "outputs": [
    {
     "name": "stdout",
     "output_type": "stream",
     "text": [
      "[[1 1]\n",
      " [0 0]]\n",
      "[['1' 'True']\n",
      " ['zero' 'False']]\n"
     ]
    }
   ],
   "source": [
    "import numpy as np\n",
    "my_2d_array = np.array([[1, True], \n",
    "                        [0, False]])\n",
    "print(my_2d_array)\n",
    "my_2d_array = np.array([[1, True], \n",
    "                        [\"zero\", False]])\n",
    "print(my_2d_array)"
   ]
  },
  {
   "cell_type": "code",
   "execution_count": 22,
   "metadata": {
    "collapsed": false
   },
   "outputs": [
    {
     "name": "stdout",
     "output_type": "stream",
     "text": [
      "[ 1  4  9 16]\n",
      "[[ 1  9]\n",
      " [ 4 16]]\n"
     ]
    }
   ],
   "source": [
    "import numpy as np\n",
    "my_np_array = np.array([1, 2, 3, 4])\n",
    "print(my_np_array ** 2)\n",
    "my_2d_array = np.array([[1, 3], \n",
    "                        [2, 4]])\n",
    "print(my_2d_array ** 2)"
   ]
  },
  {
   "cell_type": "code",
   "execution_count": 23,
   "metadata": {
    "collapsed": false
   },
   "outputs": [
    {
     "name": "stdout",
     "output_type": "stream",
     "text": [
      "46\n",
      "[ True False  True  True False  True]\n",
      "[46 11 11 56]\n"
     ]
    }
   ],
   "source": [
    "import numpy as np\n",
    "ironmen = np.array([46, 8, 11, 11, 4, 56])\n",
    "print(ironmen[0])\n",
    "print(ironmen > 10)\n",
    "print(ironmen[ironmen > 10])"
   ]
  },
  {
   "cell_type": "code",
   "execution_count": 24,
   "metadata": {
    "collapsed": false
   },
   "outputs": [
    {
     "name": "stdout",
     "output_type": "stream",
     "text": [
      "46\n",
      "[[ True  True False]\n",
      " [False  True  True]]\n",
      "[46 11 11 56]\n"
     ]
    }
   ],
   "source": [
    "import numpy as np\n",
    "ironmen_2d_array = np.array([[46, 11, 4],\n",
    "                             [8, 11, 56]])\n",
    "print(ironmen_2d_array[0, 0])\n",
    "print(ironmen_2d_array > 10)\n",
    "print(ironmen_2d_array[ironmen_2d_array > 10])"
   ]
  },
  {
   "cell_type": "code",
   "execution_count": 25,
   "metadata": {
    "collapsed": false
   },
   "outputs": [
    {
     "name": "stdout",
     "output_type": "stream",
     "text": [
      "6\n",
      "(2, 3)\n"
     ]
    }
   ],
   "source": [
    "import numpy as np\n",
    "ironmen_2d_array = np.array([[46, 11, 4],\n",
    "                             [8, 11, 56]])\n",
    "print(ironmen_2d_array.size)\n",
    "print(ironmen_2d_array.shape)"
   ]
  },
  {
   "cell_type": "code",
   "execution_count": 26,
   "metadata": {
    "collapsed": false
   },
   "outputs": [
    {
     "name": "stdout",
     "output_type": "stream",
     "text": [
      "       gorups  ironmen\n",
      "0  Modern Web       46\n",
      "1      DevOps        8\n",
      "2       Cloud       12\n",
      "3    Big Data       12\n",
      "4    Security        6\n",
      "5       自我挑戰組       58\n",
      "<class 'pandas.core.frame.DataFrame'>\n"
     ]
    }
   ],
   "source": [
    "import pandas as pd\n",
    "groups = [\"Modern Web\", \"DevOps\", \"Cloud\", \"Big Data\", \"Security\", \"自我挑戰組\"]\n",
    "ironmen = [46, 8, 12, 12, 6, 58]\n",
    "ironmen_dict = {\"gorups\": groups,\n",
    "                \"ironmen\": ironmen}\n",
    "ironmen_df = pd.DataFrame(ironmen_dict)\n",
    "print(ironmen_df)\n",
    "print(type(ironmen_df))"
   ]
  },
  {
   "cell_type": "code",
   "execution_count": 27,
   "metadata": {
    "collapsed": false
   },
   "outputs": [
    {
     "name": "stdout",
     "output_type": "stream",
     "text": [
      "   col1  col2\n",
      "0     1     3\n",
      "1     2     4\n"
     ]
    }
   ],
   "source": [
    "import numpy as np\n",
    "import pandas as pd\n",
    "my_2d_array = np.array([[1, 3],\n",
    "                        [2, 4]])\n",
    "my_df = pd.DataFrame(my_2d_array, columns = [\"col1\", \"col2\"])\n",
    "print(my_df)"
   ]
  },
  {
   "cell_type": "code",
   "execution_count": 28,
   "metadata": {
    "collapsed": false
   },
   "outputs": [
    {
     "name": "stdout",
     "output_type": "stream",
     "text": [
      "groups     object\n",
      "ironmen     int64\n",
      "dtype: object\n"
     ]
    }
   ],
   "source": [
    "import pandas as pd\n",
    "groups = [\"Modern Web\", \"DevOps\", \"Cloud\", \"Big Data\", \"Security\", \"自我挑戰組\"]\n",
    "ironmen = [46, 8, 12, 12, 6, 58]\n",
    "ironmen_dict = {\"groups\": groups,\n",
    "                \"ironmen\": ironmen}\n",
    "ironmen_df = pd.DataFrame(ironmen_dict)\n",
    "print(ironmen_df.dtypes)"
   ]
  },
  {
   "cell_type": "code",
   "execution_count": 29,
   "metadata": {
    "collapsed": false
   },
   "outputs": [
    {
     "name": "stdout",
     "output_type": "stream",
     "text": [
      "0    46\n",
      "Name: ironmen, dtype: int64\n",
      "---\n",
      "       groups  ironmen\n",
      "0  Modern Web       46\n",
      "---\n",
      "0    46\n",
      "1     8\n",
      "2    12\n",
      "3    12\n",
      "4     6\n",
      "5    58\n",
      "Name: ironmen, dtype: int64\n",
      "---\n",
      "0    46\n",
      "1     8\n",
      "2    12\n",
      "3    12\n",
      "4     6\n",
      "5    58\n",
      "Name: ironmen, dtype: int64\n",
      "---\n",
      "0    46\n",
      "1     8\n",
      "2    12\n",
      "3    12\n",
      "4     6\n",
      "5    58\n",
      "Name: ironmen, dtype: int64\n"
     ]
    }
   ],
   "source": [
    "import pandas as pd\n",
    "groups = [\"Modern Web\", \"DevOps\", \"Cloud\", \"Big Data\", \"Security\", \"自我挑戰組\"]\n",
    "ironmen = [46, 8, 12, 12, 6, 58]\n",
    "ironmen_dict = {\"groups\": groups,\n",
    "                \"ironmen\": ironmen}\n",
    "ironmen_df = pd.DataFrame(ironmen_dict)\n",
    "print(ironmen_df.iloc[0:1, 1])\n",
    "print(\"---\")\n",
    "print(ironmen_df.iloc[0:1, :])\n",
    "print(\"---\")\n",
    "print(ironmen_df.iloc[:, 1])\n",
    "print(\"---\")\n",
    "print(ironmen_df[\"ironmen\"])\n",
    "print(\"---\")\n",
    "print(ironmen_df.ironmen)"
   ]
  },
  {
   "cell_type": "code",
   "execution_count": 30,
   "metadata": {
    "collapsed": false
   },
   "outputs": [
    {
     "name": "stdout",
     "output_type": "stream",
     "text": [
      "       groups  ironmen\n",
      "0  Modern Web       46\n",
      "2       Cloud       12\n",
      "3    Big Data       12\n",
      "5       自我挑戰組       58\n"
     ]
    }
   ],
   "source": [
    "import pandas as pd\n",
    "groups = [\"Modern Web\", \"DevOps\", \"Cloud\", \"Big Data\", \"Security\", \"自我挑戰組\"]\n",
    "ironmen = [46, 8, 12, 12, 6, 58]\n",
    "\n",
    "ironmen_dict = {\"groups\": groups,\n",
    "                \"ironmen\": ironmen}\n",
    "\n",
    "ironmen_df = pd.DataFrame(ironmen_dict)\n",
    "\n",
    "print(ironmen_df[ironmen_df.loc[:,\"ironmen\"] > 10])"
   ]
  },
  {
   "cell_type": "code",
   "execution_count": 31,
   "metadata": {
    "collapsed": false
   },
   "outputs": [
    {
     "name": "stdout",
     "output_type": "stream",
     "text": [
      "(6, 2)\n",
      "---\n",
      "         ironmen\n",
      "count   6.000000\n",
      "mean   23.666667\n",
      "std    22.393451\n",
      "min     6.000000\n",
      "25%     9.000000\n",
      "50%    12.000000\n",
      "75%    37.500000\n",
      "max    58.000000\n",
      "---\n",
      "       groups  ironmen\n",
      "0  Modern Web       46\n",
      "1      DevOps        8\n",
      "2       Cloud       12\n",
      "---\n",
      "     groups  ironmen\n",
      "3  Big Data       12\n",
      "4  Security        6\n",
      "5     自我挑戰組       58\n",
      "---\n",
      "Index(['groups', 'ironmen'], dtype='object')\n",
      "---\n",
      "Int64Index([0, 1, 2, 3, 4, 5], dtype='int64')\n"
     ]
    }
   ],
   "source": [
    "import pandas as pd\n",
    "groups = [\"Modern Web\", \"DevOps\", \"Cloud\", \"Big Data\", \"Security\", \"自我挑戰組\"]\n",
    "ironmen = [46, 8, 12, 12, 6, 58]\n",
    "ironmen_dict = {\"groups\": groups, \n",
    "                \"ironmen\": ironmen}\n",
    "ironmen_df = pd.DataFrame(ironmen_dict)\n",
    "print(ironmen_df.shape)\n",
    "print(\"---\")\n",
    "print(ironmen_df.describe())\n",
    "print(\"---\")\n",
    "print(ironmen_df.head(3))\n",
    "print(\"---\")\n",
    "print(ironmen_df.tail(3))\n",
    "print(\"---\")\n",
    "print(ironmen_df.columns)\n",
    "print(\"---\")\n",
    "print(ironmen_df.index)"
   ]
  },
  {
   "cell_type": "code",
   "execution_count": 32,
   "metadata": {
    "collapsed": false
   },
   "outputs": [
    {
     "name": "stdout",
     "output_type": "stream",
     "text": [
      "[Modern Web, DevOps, Cloud, Big Data, Security, 自我挑戰組]\n",
      "Categories (6, object): [Big Data, Cloud, DevOps, Modern Web, Security, 自我挑戰組]\n",
      "---\n",
      "<class 'pandas.core.categorical.Categorical'>\n"
     ]
    }
   ],
   "source": [
    "import pandas as pd\n",
    "groups_categorical = pd.Categorical([\"Modern Web\", \"DevOps\", \"Cloud\", \"Big Data\", \"Security\", \"自我挑戰組\"])\n",
    "print(groups_categorical)\n",
    "print(\"---\")\n",
    "print(type(groups_categorical))"
   ]
  },
  {
   "cell_type": "code",
   "execution_count": 33,
   "metadata": {
    "collapsed": false
   },
   "outputs": [
    {
     "name": "stdout",
     "output_type": "stream",
     "text": [
      "0    cold\n",
      "1    warm\n",
      "2     hot\n",
      "dtype: category\n",
      "Categories (3, object): [cold < warm < hot]\n"
     ]
    }
   ],
   "source": [
    "import pandas as pd\n",
    "temperature_list = [\"cold\", \"warm\", \"hot\"]\n",
    "temperature_categorical = pd.Categorical(temperature_list, categories = [\"cold\", \"warm\", \"hot\"], ordered = True)\n",
    "temperature = pd.Series(temperature_categorical)\n",
    "print(temperature)"
   ]
  },
  {
   "cell_type": "code",
   "execution_count": 34,
   "metadata": {
    "collapsed": false
   },
   "outputs": [
    {
     "name": "stdout",
     "output_type": "stream",
     "text": [
      "49\n",
      "8\n",
      "12\n",
      "12\n",
      "6\n",
      "61\n"
     ]
    }
   ],
   "source": [
    "ironmen = [49, 8, 12, 12, 6, 61]\n",
    "print(ironmen[0])\n",
    "print(ironmen[1])\n",
    "print(ironmen[2])\n",
    "print(ironmen[3])\n",
    "print(ironmen[4])\n",
    "print(ironmen[5])"
   ]
  },
  {
   "cell_type": "code",
   "execution_count": 35,
   "metadata": {
    "collapsed": false
   },
   "outputs": [
    {
     "name": "stdout",
     "output_type": "stream",
     "text": [
      "49\n",
      "8\n",
      "12\n",
      "12\n",
      "6\n",
      "61\n",
      "---\n",
      "61\n",
      "\n",
      "\n",
      "49\n",
      "8\n",
      "12\n",
      "12\n",
      "6\n",
      "61\n",
      "---\n",
      "5\n",
      "[0, 1, 2, 3, 4, 5]\n"
     ]
    }
   ],
   "source": [
    "ironmen = [49, 8, 12, 12, 6, 61]\n",
    "for ironman in ironmen:\n",
    "    print(ironman)\n",
    "print(\"---\")\n",
    "print(ironman)\n",
    "\n",
    "print(\"\\n\")\n",
    "\n",
    "for index in list(range(len(ironmen))):\n",
    "    print(ironmen[index])\n",
    "print(\"---\")\n",
    "print(index)\n",
    "\n",
    "print(list(range(len(ironmen))))"
   ]
  },
  {
   "cell_type": "code",
   "execution_count": 36,
   "metadata": {
    "collapsed": false
   },
   "outputs": [
    {
     "name": "stdout",
     "output_type": "stream",
     "text": [
      "49\n",
      "8\n",
      "12\n",
      "12\n",
      "6\n",
      "61\n",
      "---\n",
      "6\n"
     ]
    }
   ],
   "source": [
    "ironmen = [49, 8, 12, 12, 6, 61]\n",
    "index = 0\n",
    "while index < len(ironmen):\n",
    "    print(ironmen[index])\n",
    "    index += 1\n",
    "print(\"---\")\n",
    "print(index)"
   ]
  },
  {
   "cell_type": "code",
   "execution_count": 37,
   "metadata": {
    "collapsed": false
   },
   "outputs": [
    {
     "name": "stdout",
     "output_type": "stream",
     "text": [
      "1 是奇數\n",
      "2 是偶數\n",
      "3 是奇數\n",
      "4 是偶數\n",
      "5 是奇數\n",
      "6 是偶數\n",
      "7 是奇數\n",
      "8 是偶數\n",
      "9 是奇數\n",
      "10 是偶數\n"
     ]
    }
   ],
   "source": [
    "my_seq = list(range(1, 11))\n",
    "for index in my_seq:\n",
    "    if (index % 2 == 0):\n",
    "        print(index, \"是偶數\")\n",
    "    else:\n",
    "        print(index, \"是奇數\")"
   ]
  },
  {
   "cell_type": "code",
   "execution_count": 38,
   "metadata": {
    "collapsed": false
   },
   "outputs": [
    {
     "name": "stdout",
     "output_type": "stream",
     "text": [
      "1 除以 3 餘數是 1\n",
      "2 除以 3 餘數是 2\n",
      "3 可以被 3 整除\n",
      "4 除以 3 餘數是 1\n",
      "5 除以 3 餘數是 2\n",
      "6 可以被 3 整除\n",
      "7 除以 3 餘數是 1\n",
      "8 除以 3 餘數是 2\n",
      "9 可以被 3 整除\n",
      "10 除以 3 餘數是 1\n"
     ]
    }
   ],
   "source": [
    "my_seq = list(range(1, 11))\n",
    "for index in my_seq:\n",
    "    if (index % 3 == 0):\n",
    "        print(index, \"可以被 3 整除\")\n",
    "    elif (index % 3 == 1):\n",
    "        print(index, \"除以 3 餘數是 1\")\n",
    "    else:\n",
    "        print(index, \"除以 3 餘數是 2\")"
   ]
  },
  {
   "cell_type": "code",
   "execution_count": 39,
   "metadata": {
    "collapsed": false,
    "scrolled": true
   },
   "outputs": [
    {
     "name": "stdout",
     "output_type": "stream",
     "text": [
      "49\n",
      "---\n",
      "8\n",
      "\n",
      "\n",
      "49\n",
      "12\n",
      "12\n",
      "61\n",
      "---\n",
      "61\n"
     ]
    }
   ],
   "source": [
    "ironmen = [49, 8, 12, 12, 6, 61]\n",
    "for ironman in ironmen:\n",
    "    if(ironman < 10):\n",
    "        break\n",
    "    else:\n",
    "        print(ironman)\n",
    "print(\"---\")\n",
    "print(ironman)\n",
    "\n",
    "print(\"\\n\")\n",
    "\n",
    "for ironman in ironmen:\n",
    "    if(ironman < 10):\n",
    "        continue\n",
    "    else:\n",
    "        print(ironman)\n",
    "        \n",
    "print(\"---\")\n",
    "print(ironman)"
   ]
  },
  {
   "cell_type": "raw",
   "metadata": {
    "collapsed": true
   },
   "source": [
    "ironmen = [50, 8, 16, 12, 6, 62]\n",
    "print(max(ironmen))\n",
    "print(min(ironmen))\n",
    "print(len(ironmen))\n",
    "print(sorted(ironmen))\n",
    "print(sorted(ironmen, reverse = True))"
   ]
  },
  {
   "cell_type": "code",
   "execution_count": 40,
   "metadata": {
    "collapsed": false
   },
   "outputs": [
    {
     "name": "stdout",
     "output_type": "stream",
     "text": [
      "Help on built-in function sorted in module builtins:\n",
      "\n",
      "sorted(iterable, key=None, reverse=False)\n",
      "    Return a new list containing all items from the iterable in ascending order.\n",
      "    \n",
      "    A custom key function can be supplied to customise the sort order, and the\n",
      "    reverse flag can be set to request the result in descending order.\n",
      "\n"
     ]
    }
   ],
   "source": [
    "sorted?\n",
    "help(sorted)"
   ]
  },
  {
   "cell_type": "code",
   "execution_count": 41,
   "metadata": {
    "collapsed": false
   },
   "outputs": [
    {
     "name": "stdout",
     "output_type": "stream",
     "text": [
      "28.274333882308138\n",
      "18.84955592153876\n"
     ]
    }
   ],
   "source": [
    "import math # 為了使用pi\n",
    "def circle_calculate(radius, area = True):\n",
    "    '依據輸入的半徑與area參數計算圓形的面積或周長'\n",
    "    circle_area = math.pi * radius ** 2\n",
    "    circle_circum = 2 * math.pi * radius\n",
    "    if area == True:\n",
    "        return circle_area\n",
    "    else:\n",
    "        return circle_circum\n",
    "my_radius = 3\n",
    "print(circle_calculate(my_radius))\n",
    "print(circle_calculate(my_radius, area = False))"
   ]
  },
  {
   "cell_type": "code",
   "execution_count": 42,
   "metadata": {
    "collapsed": false
   },
   "outputs": [
    {
     "name": "stdout",
     "output_type": "stream",
     "text": [
      "[59, 77, 48, 5, 13, 45, 37, 21, 16, 6]\n",
      "[5, 6, 13, 16, 21, 37, 45, 48, 59, 77]\n",
      "[77, 59, 48, 45, 37, 21, 16, 13, 6, 5]\n"
     ]
    }
   ],
   "source": [
    "import random\n",
    "def exchange_sort(input_list, reverse = False):\n",
    "    ''' # 多行的docstrings\n",
    "    依據輸入的 list 與 reverse 參數排序 list 中的數字後回傳。\n",
    "    reverse 參數預設為 False 遞增排序，可以修改為 True 遞減排序。\n",
    "    '''\n",
    "    input_list_cloned = input_list\n",
    "    if reverse == False:\n",
    "        for i in range(0, len(input_list) - 1):\n",
    "            for j in range(i + 1, len(input_list)):\n",
    "                if input_list_cloned[i] > input_list_cloned[j]:\n",
    "                    temp = input_list_cloned[i]\n",
    "                    input_list_cloned[i] = input_list_cloned[j]\n",
    "                    input_list_cloned[j] = temp\n",
    "    else:\n",
    "        for i in range(0, len(input_list) - 1):\n",
    "            for j in range(i + 1, len(input_list)):\n",
    "                if input_list_cloned[i] < input_list_cloned[j]:\n",
    "                    temp = input_list_cloned[i]\n",
    "                    input_list_cloned[i] = input_list_cloned[j]\n",
    "                    input_list_cloned[j] = temp\n",
    "    return input_list_cloned\n",
    "my_vector = random.sample(range(0, 100), 10)\n",
    "print(my_vector)\n",
    "print(exchange_sort(my_vector))\n",
    "print(exchange_sort(my_vector, reverse = True))"
   ]
  },
  {
   "cell_type": "code",
   "execution_count": 43,
   "metadata": {
    "collapsed": false
   },
   "outputs": [
    {
     "name": "stdout",
     "output_type": "stream",
     "text": [
      "\n",
      " 最多： 62 \n",
      " 最少： 6 \n",
      " 總組數： 6 \n",
      " 總鐵人數： 154\n"
     ]
    }
   ],
   "source": [
    "def ironmen_stats(ironmen_list):\n",
    "    max_ironmen = max(ironmen_list)\n",
    "    min_ironmen = min(ironmen_list)\n",
    "    ttl_groups = len(ironmen_list)\n",
    "    ttl_ironmen = sum(ironmen_list)\n",
    "    return max_ironmen, min_ironmen, ttl_groups, ttl_ironmen\n",
    "    \n",
    "ironmen = [50, 8, 16, 12, 6, 62]\n",
    "max_ironmen, min_ironmen, ttl_groups, ttl_ironmen = ironmen_stats(ironmen)\n",
    "print(\"\\n\", \"最多：\", max_ironmen, \"\\n\", \"最少：\", min_ironmen, \"\\n\", \"總組數：\", ttl_groups, \"\\n\", \"總鐵人數：\", ttl_ironmen)"
   ]
  },
  {
   "cell_type": "code",
   "execution_count": 44,
   "metadata": {
    "collapsed": false
   },
   "outputs": [
    {
     "name": "stdout",
     "output_type": "stream",
     "text": [
      "[1500, 240, 480, 360, 180, 1860]\n"
     ]
    }
   ],
   "source": [
    "# 匿名函數lambda\n",
    "ironmen = [50, 8, 16, 12, 6, 62]\n",
    "ironmen_articles = list(map(lambda x : x * 30, ironmen))\n",
    "print(ironmen_articles)"
   ]
  },
  {
   "cell_type": "code",
   "execution_count": 45,
   "metadata": {
    "collapsed": false
   },
   "outputs": [
    {
     "name": "stdout",
     "output_type": "stream",
     "text": [
      "9\n"
     ]
    },
    {
     "ename": "NameError",
     "evalue": "name 'ans' is not defined",
     "output_type": "error",
     "traceback": [
      "\u001b[0;31m---------------------------------------------------------------------------\u001b[0m",
      "\u001b[0;31mNameError\u001b[0m                                 Traceback (most recent call last)",
      "\u001b[0;32m<ipython-input-45-f7d8b600ea2e>\u001b[0m in \u001b[0;36m<module>\u001b[0;34m()\u001b[0m\n\u001b[1;32m      4\u001b[0m     \u001b[0;32mreturn\u001b[0m \u001b[0mans\u001b[0m\u001b[0;34m\u001b[0m\u001b[0m\n\u001b[1;32m      5\u001b[0m \u001b[0mprint\u001b[0m\u001b[0;34m(\u001b[0m\u001b[0mmy_square\u001b[0m\u001b[0;34m(\u001b[0m\u001b[0;36m3\u001b[0m\u001b[0;34m)\u001b[0m\u001b[0;34m)\u001b[0m\u001b[0;34m\u001b[0m\u001b[0m\n\u001b[0;32m----> 6\u001b[0;31m \u001b[0mprint\u001b[0m\u001b[0;34m(\u001b[0m\u001b[0mans\u001b[0m\u001b[0;34m)\u001b[0m\u001b[0;34m\u001b[0m\u001b[0m\n\u001b[0m",
      "\u001b[0;31mNameError\u001b[0m: name 'ans' is not defined"
     ]
    }
   ],
   "source": [
    "def my_square(input_number):\n",
    "    '計算平方數'\n",
    "    ans = input_number ** 2\n",
    "    return ans\n",
    "print(my_square(3))\n",
    "print(ans)"
   ]
  },
  {
   "cell_type": "code",
   "execution_count": null,
   "metadata": {
    "collapsed": false
   },
   "outputs": [],
   "source": [
    "ans = 1\n",
    "def my_square(input_number):\n",
    "    '計算平方數'\n",
    "    ans = input_number ** 2\n",
    "    return ans\n",
    "print(my_square(3))\n",
    "print(ans)"
   ]
  },
  {
   "cell_type": "code",
   "execution_count": 46,
   "metadata": {
    "collapsed": false
   },
   "outputs": [
    {
     "name": "stdout",
     "output_type": "stream",
     "text": [
      "26.666666666666668\n"
     ]
    }
   ],
   "source": [
    "def my_mean(input_list):\n",
    "    '計算平均數'\n",
    "    def my_sum(input_list):\n",
    "        '計算總和'\n",
    "        temp_sum = 0\n",
    "        for i in input_list:\n",
    "            temp_sum += i\n",
    "        return temp_sum\n",
    "    def my_length(input_list):\n",
    "        '計算個數'\n",
    "        temp_length = 0\n",
    "        for i in input_list:\n",
    "            temp_length += 1\n",
    "        return temp_length\n",
    "    return my_sum(input_list) / my_length(input_list)\n",
    "\n",
    "my_list = [51, 8, 18, 13, 6, 64]\n",
    "print(my_mean(my_list))"
   ]
  },
  {
   "cell_type": "code",
   "execution_count": 47,
   "metadata": {
    "collapsed": false
   },
   "outputs": [
    {
     "name": "stdout",
     "output_type": "stream",
     "text": [
      "9\n",
      "請輸入數值。\n"
     ]
    }
   ],
   "source": [
    "def my_square(input_number):\n",
    "    '計算平方數且有錯誤處理的函數'\n",
    "    try:\n",
    "        ans = input_number ** 2\n",
    "        return ans\n",
    "    except:\n",
    "        print(\"請輸入數值。\")\n",
    "print(my_square(3))\n",
    "my_square('ironmen')"
   ]
  },
  {
   "cell_type": "code",
   "execution_count": 48,
   "metadata": {
    "collapsed": false
   },
   "outputs": [
    {
     "name": "stdout",
     "output_type": "stream",
     "text": [
      "51\n",
      "8\n",
      "18\n",
      "13\n",
      "6\n",
      "---\n",
      "51\n",
      "8\n",
      "18\n",
      "13\n",
      "6\n",
      "---\n",
      "51\n",
      "8\n",
      "18\n",
      "13\n",
      "6\n",
      "64\n"
     ]
    }
   ],
   "source": [
    "def ironmen_list(*args):\n",
    "    '列出各組參賽帖人數'\n",
    "    for ironman in args:\n",
    "        print(ironman)\n",
    "\n",
    "ironmen_list(51, 8, 18, 13, 6)\n",
    "print(\"---\")\n",
    "ironmen_list(51, 8, 18, 13, 6)\n",
    "print(\"---\")\n",
    "ironmen_list(51, 8, 18, 13, 6, 64)"
   ]
  },
  {
   "cell_type": "code",
   "execution_count": 49,
   "metadata": {
    "collapsed": false,
    "scrolled": true
   },
   "outputs": [
    {
     "name": "stdout",
     "output_type": "stream",
     "text": [
      "DevOps ： 8 人\n",
      "Cloud ： 18 人\n",
      "Security ： 6 人\n",
      "自我挑戰組 ： 64 人\n",
      "ModernWeb ： 51 人\n",
      "BigData ： 13 人\n"
     ]
    }
   ],
   "source": [
    "def ironmen_list(**kwargs):\n",
    "    '列出各組參賽鐵人數'\n",
    "    for key in kwargs:\n",
    "        print(key, \"：\", kwargs[key], \"人\")\n",
    "ironmen_list(ModernWeb = 51, DevOps = 8, Cloud = 18, BigData = 13, Security = 6, 自我挑戰組 = 64)"
   ]
  },
  {
   "cell_type": "code",
   "execution_count": 50,
   "metadata": {
    "collapsed": false,
    "scrolled": true
   },
   "outputs": [
    {
     "data": {
      "text/html": [
       "<div>\n",
       "<table border=\"1\" class=\"dataframe\">\n",
       "  <thead>\n",
       "    <tr style=\"text-align: right;\">\n",
       "      <th></th>\n",
       "      <th>groups</th>\n",
       "      <th>ironmen</th>\n",
       "    </tr>\n",
       "  </thead>\n",
       "  <tbody>\n",
       "    <tr>\n",
       "      <th>0</th>\n",
       "      <td>Modern Web</td>\n",
       "      <td>51</td>\n",
       "    </tr>\n",
       "    <tr>\n",
       "      <th>1</th>\n",
       "      <td>DevOps</td>\n",
       "      <td>8</td>\n",
       "    </tr>\n",
       "    <tr>\n",
       "      <th>2</th>\n",
       "      <td>Cloud</td>\n",
       "      <td>18</td>\n",
       "    </tr>\n",
       "  </tbody>\n",
       "</table>\n",
       "</div>"
      ],
      "text/plain": [
       "       groups  ironmen\n",
       "0  Modern Web       51\n",
       "1      DevOps        8\n",
       "2       Cloud       18"
      ]
     },
     "execution_count": 50,
     "metadata": {},
     "output_type": "execute_result"
    }
   ],
   "source": [
    "import pandas as pd\n",
    "groups = [\"Modern Web\", \"DevOps\", \"Cloud\", \"Big Data\", \"Security\", \"自我挑戰組\"]\n",
    "ironmen = [51, 8, 18, 14, 6, 64]\n",
    "ironmen_dict = {\"groups\": groups,\n",
    "                \"ironmen\": ironmen}\n",
    "ironmen_df = pd.DataFrame(ironmen_dict)\n",
    "ironmen_df.head(n = 3)"
   ]
  },
  {
   "cell_type": "code",
   "execution_count": 51,
   "metadata": {
    "collapsed": false
   },
   "outputs": [
    {
     "data": {
      "text/html": [
       "<div>\n",
       "<table border=\"1\" class=\"dataframe\">\n",
       "  <thead>\n",
       "    <tr style=\"text-align: right;\">\n",
       "      <th></th>\n",
       "      <th>groups</th>\n",
       "      <th>ironmen</th>\n",
       "    </tr>\n",
       "  </thead>\n",
       "  <tbody>\n",
       "    <tr>\n",
       "      <th>0</th>\n",
       "      <td>Modern Web</td>\n",
       "      <td>51</td>\n",
       "    </tr>\n",
       "    <tr>\n",
       "      <th>1</th>\n",
       "      <td>DevOps</td>\n",
       "      <td>8</td>\n",
       "    </tr>\n",
       "    <tr>\n",
       "      <th>2</th>\n",
       "      <td>Cloud</td>\n",
       "      <td>18</td>\n",
       "    </tr>\n",
       "  </tbody>\n",
       "</table>\n",
       "</div>"
      ],
      "text/plain": [
       "       groups  ironmen\n",
       "0  Modern Web       51\n",
       "1      DevOps        8\n",
       "2       Cloud       18"
      ]
     },
     "execution_count": 51,
     "metadata": {},
     "output_type": "execute_result"
    }
   ],
   "source": [
    "import pandas as pd\n",
    "groups = [\"Modern Web\", \"DevOps\", \"Cloud\", \"Big Data\", \"Security\", \"自我挑戰組\"]\n",
    "ironmen = [51, 8, 18, 14, 6, 64]\n",
    "ironmen_dict = {\"groups\": groups,\n",
    "                \"ironmen\": ironmen}\n",
    "ironmen_df = pd.DataFrame(ironmen_dict)\n",
    "ironmen_df.head(n = 3)"
   ]
  },
  {
   "cell_type": "code",
   "execution_count": 52,
   "metadata": {
    "collapsed": false
   },
   "outputs": [
    {
     "name": "stdout",
     "output_type": "stream",
     "text": [
      "groups     object\n",
      "ironmen     int64\n",
      "dtype: object\n"
     ]
    },
    {
     "data": {
      "text/html": [
       "<div>\n",
       "<table border=\"1\" class=\"dataframe\">\n",
       "  <thead>\n",
       "    <tr style=\"text-align: right;\">\n",
       "      <th></th>\n",
       "      <th>groups</th>\n",
       "      <th>ironmen</th>\n",
       "    </tr>\n",
       "  </thead>\n",
       "  <tbody>\n",
       "    <tr>\n",
       "      <th>0</th>\n",
       "      <td>Modern Web</td>\n",
       "      <td>54</td>\n",
       "    </tr>\n",
       "    <tr>\n",
       "      <th>1</th>\n",
       "      <td>DevOps</td>\n",
       "      <td>8</td>\n",
       "    </tr>\n",
       "    <tr>\n",
       "      <th>2</th>\n",
       "      <td>Cloud</td>\n",
       "      <td>18</td>\n",
       "    </tr>\n",
       "  </tbody>\n",
       "</table>\n",
       "</div>"
      ],
      "text/plain": [
       "       groups  ironmen\n",
       "0  Modern Web       54\n",
       "1      DevOps        8\n",
       "2       Cloud       18"
      ]
     },
     "execution_count": 52,
     "metadata": {},
     "output_type": "execute_result"
    }
   ],
   "source": [
    "import pandas as pd\n",
    "groups = [\"Modern Web\", \"DevOps\", \"Cloud\", \"Big Data\", \"Security\", \"自我挑戰組\"]\n",
    "ironmen = [54, 8, 18, 14, 6, 65]\n",
    "ironmen_dict = {\"groups\": groups,\n",
    "                \"ironmen\": ironmen}\n",
    "ironmen_df = pd.DataFrame(ironmen_dict)\n",
    "print(ironmen_df.dtypes)\n",
    "ironmen_df.head(n = 3)"
   ]
  },
  {
   "cell_type": "code",
   "execution_count": 53,
   "metadata": {
    "collapsed": false
   },
   "outputs": [
    {
     "name": "stdout",
     "output_type": "stream",
     "text": [
      "<class '__main__.Ironmen'>\n"
     ]
    }
   ],
   "source": [
    "class Ironmen:\n",
    "    '''這是一個叫做 Ironmen 的類別''' # Doc string\n",
    "    def __init__(self, group, participants):\n",
    "        self.group = group\n",
    "        self.participants = participants\n",
    "print(Ironmen)"
   ]
  },
  {
   "cell_type": "code",
   "execution_count": 54,
   "metadata": {
    "collapsed": false
   },
   "outputs": [
    {
     "name": "stdout",
     "output_type": "stream",
     "text": [
      "<__main__.Ironmen object at 0x112e642e8>\n"
     ]
    }
   ],
   "source": [
    "class Ironmen:\n",
    "    '''這是一個叫做 Ironmen 的類別'''\n",
    "    def __init__(self, group, participants):\n",
    "        self.group = group\n",
    "        self.participants = participants\n",
    "\n",
    "# 根據 Ironmen 類別建立一個物件 modern_web\n",
    "modern_web = Ironmen(\"Modern Web\", 54)\n",
    "print(modern_web)"
   ]
  },
  {
   "cell_type": "code",
   "execution_count": 55,
   "metadata": {
    "collapsed": false
   },
   "outputs": [
    {
     "name": "stdout",
     "output_type": "stream",
     "text": [
      "Modern Web\n",
      "54\n",
      "這是一個叫做 Ironmen 的類別\n"
     ]
    }
   ],
   "source": [
    "class Ironmen:\n",
    "    '''這是一個叫做 Ironmen 的類別'''\n",
    "    def __init__(self, group, participants):\n",
    "        self.group = group\n",
    "        self.participants = participants\n",
    "\n",
    "# 根據 Ironmen 類別建立一個物件 modern_web\n",
    "modern_web = Ironmen(\"Modern Web\", 54)\n",
    "\n",
    "# 印出 modern_web 的兩種屬性\n",
    "print(modern_web.group)\n",
    "print(modern_web.participants)\n",
    "\n",
    "# 印出 modern_web 的類別 doc string\n",
    "print(modern_web.__doc__)"
   ]
  },
  {
   "cell_type": "code",
   "execution_count": 56,
   "metadata": {
    "collapsed": false
   },
   "outputs": [
    {
     "data": {
      "text/plain": [
       "['__class__',\n",
       " '__delattr__',\n",
       " '__dict__',\n",
       " '__dir__',\n",
       " '__doc__',\n",
       " '__eq__',\n",
       " '__format__',\n",
       " '__ge__',\n",
       " '__getattribute__',\n",
       " '__gt__',\n",
       " '__hash__',\n",
       " '__init__',\n",
       " '__le__',\n",
       " '__lt__',\n",
       " '__module__',\n",
       " '__ne__',\n",
       " '__new__',\n",
       " '__reduce__',\n",
       " '__reduce_ex__',\n",
       " '__repr__',\n",
       " '__setattr__',\n",
       " '__sizeof__',\n",
       " '__str__',\n",
       " '__subclasshook__',\n",
       " '__weakref__',\n",
       " 'group',\n",
       " 'participants']"
      ]
     },
     "execution_count": 56,
     "metadata": {},
     "output_type": "execute_result"
    }
   ],
   "source": [
    "class Ironmen:\n",
    "    '''這是一個叫做 Ironmen 的類別'''\n",
    "    def __init__(self, group, participants):\n",
    "        self.group = group\n",
    "        self.participants = participants\n",
    "        \n",
    "# 根據 Ironmen 類別建立一個物件 modern_web\n",
    "modern_web = Ironmen(\"Modern Web\", 54)\n",
    "\n",
    "dir(modern_web) # 看所有屬性"
   ]
  },
  {
   "cell_type": "code",
   "execution_count": 58,
   "metadata": {
    "collapsed": false
   },
   "outputs": [
    {
     "name": "stdout",
     "output_type": "stream",
     "text": [
      "Modern Web 組有 54 位鐵人參賽！\n",
      "DevOps 組有 8 位鐵人參賽！\n"
     ]
    }
   ],
   "source": [
    "class Ironmen:\n",
    "    '''這是一個叫做 Ironmen 的類別''' # Doc string\n",
    "    def __init__(self, group, participants):\n",
    "        self.group = group\n",
    "        self.participants = participants\n",
    "    def print_info(self):\n",
    "        print(self.group, \"組有\", self.participants, \"位鐵人參賽！\")\n",
    "\n",
    "# 根據 Ironmen 類別建立一個物件 modern_web\n",
    "modern_web = Ironmen(\"Modern Web\", 54)\n",
    "\n",
    "# 根據 Ironmen 類別建立一個物件 dev_ops\n",
    "dev_ops = Ironmen(\"DevOps\", 8)\n",
    "\n",
    "modern_web.print_info()\n",
    "dev_ops.print_info()"
   ]
  },
  {
   "cell_type": "code",
   "execution_count": 59,
   "metadata": {
    "collapsed": false
   },
   "outputs": [
    {
     "name": "stdout",
     "output_type": "stream",
     "text": [
      "Modern Web 組預計會有 1620 篇文章！\n",
      "Modern Web 組有 54 位鐵人參賽！\n"
     ]
    }
   ],
   "source": [
    "class Ironmen:\n",
    "    '''這是一個叫做 Ironmen 的類別''' # Doc string\n",
    "    def __init__(self, group, participants):\n",
    "        self.group = group\n",
    "        self.participants = participants\n",
    "    def print_info(self):\n",
    "        print(self.group, \"組有\", self.participants, \"位鐵人參賽！\")\n",
    "\n",
    "# Articles 類別繼承 Ironmen 類別\n",
    "class Articles(Ironmen):\n",
    "    '''\n",
    "    這是一個叫做 Articles 的類別。\n",
    "    Articles 繼承 Ironmen 類別，她新增了一個 print_articles()方法\n",
    "    '''\n",
    "    def print_articles(self):\n",
    "        print(self.group, \"組預計會有\", self.participants * 30, \"篇文章！\")\n",
    "\n",
    "# 根據 Articles 類別建立一個物件 modern_web\n",
    "modern_web = Articles(\"Modern Web\", 54)\n",
    "\n",
    "# 使用 modern_web 的 print_articles() 方法\n",
    "modern_web.print_articles()\n",
    "\n",
    "# 檢查 modern_web 是否還擁有 print_info() 方法\n",
    "modern_web.print_info()"
   ]
  },
  {
   "cell_type": "code",
   "execution_count": 60,
   "metadata": {
    "collapsed": false
   },
   "outputs": [
    {
     "name": "stdout",
     "output_type": "stream",
     "text": [
      "Modern Web\n",
      "54\n"
     ]
    }
   ],
   "source": [
    "class OnlyGroup:\n",
    "    '''這是一個叫做 OnlyGroup 的類別''' # Doc string\n",
    "    def __init__(self, group):\n",
    "        self.group = group\n",
    "\n",
    "# Ironmen 類別繼承 OnlyGroup 類別\n",
    "class Ironmen(OnlyGroup):\n",
    "    '''這是一個叫做 Ironmen 的類別''' # Doc string\n",
    "    def __init__(self, group, participants):\n",
    "        super().__init__(group)\n",
    "        self.participants = participants\n",
    "\n",
    "modern_web = Ironmen(\"Modern Web\", 54)\n",
    "\n",
    "print(modern_web.group)\n",
    "print(modern_web.participants)"
   ]
  },
  {
   "cell_type": "code",
   "execution_count": 61,
   "metadata": {
    "collapsed": false
   },
   "outputs": [
    {
     "name": "stdout",
     "output_type": "stream",
     "text": [
      "Modern Web 組有 54 位鐵人參賽！p.s.我被改寫了！\n"
     ]
    }
   ],
   "source": [
    "class Ironmen:\n",
    "    '''這是一個叫做 Ironmen 的類別''' # Doc string\n",
    "    def __init__(self, group, participants):\n",
    "        self.group = group\n",
    "        self.participants = participants\n",
    "    def print_info(self):\n",
    "        print(self.group, \"組有\", self.participants, \"位鐵人參賽！\")\n",
    "\n",
    "class Articles(Ironmen):\n",
    "    '''\n",
    "    這是一個叫做 Articles 的類別。\n",
    "    Articles 繼承 Ironmen 類別，她新增了一個 print_articles()方法\n",
    "    '''\n",
    "    def print_articles(self):\n",
    "        print(self.group, \"組預計會有\", self.participants * 30, \"篇文章！\")\n",
    "    def print_info(self):\n",
    "        print(self.group, \"組有\", self.participants, \"位鐵人參賽！p.s.我被改寫了！\")\n",
    "\n",
    "modern_web = Articles(\"Modern Web\", 54)\n",
    "\n",
    "modern_web.print_info()"
   ]
  },
  {
   "cell_type": "code",
   "execution_count": 63,
   "metadata": {
    "collapsed": false
   },
   "outputs": [
    {
     "name": "stdout",
     "output_type": "stream",
     "text": [
      "(2448832297382707, 281474976710656)\n",
      "False\n",
      "0x1.1666666666666p+3\n",
      "8.7\n"
     ]
    }
   ],
   "source": [
    "my_float = 8.7\n",
    "print(my_float.as_integer_ratio())\n",
    "print(my_float.is_integer())\n",
    "print(my_float.hex())\n",
    "print(float.fromhex(\"0x1.1666666666666p+3\"))"
   ]
  },
  {
   "cell_type": "code",
   "execution_count": 64,
   "metadata": {
    "collapsed": false
   },
   "outputs": [
    {
     "name": "stdout",
     "output_type": "stream",
     "text": [
      "7\n",
      "b'\\x00W'\n",
      "87\n",
      "---\n",
      "b'\\x00\\x00\\x00\\x00\\x00\\x00\\x00\\x00\\x00W'\n",
      "87\n"
     ]
    }
   ],
   "source": [
    "my_int = 87\n",
    "print(my_int.bit_length())\n",
    "print(my_int.to_bytes(length = 2, byteorder = \"big\"))\n",
    "print(int.from_bytes(b'\\x00W', byteorder = \"big\"))\n",
    "print(\"---\")\n",
    "print(my_int.to_bytes(length = 10, byteorder = \"big\"))\n",
    "print(int.from_bytes(b'\\x00\\x00\\x00\\x00\\x00\\x00\\x00\\x00\\x00W', byteorder = \"big\"))"
   ]
  },
  {
   "cell_type": "code",
   "execution_count": 65,
   "metadata": {
    "collapsed": false
   },
   "outputs": [
    {
     "name": "stdout",
     "output_type": "stream",
     "text": [
      "8.0\n",
      "7.0\n",
      "(8-7j)\n"
     ]
    }
   ],
   "source": [
    "my_complex = 8 + 7j\n",
    "print(my_complex.real)\n",
    "print(my_complex.imag)\n",
    "print(my_complex.conjugate())"
   ]
  },
  {
   "cell_type": "code",
   "execution_count": 74,
   "metadata": {
    "collapsed": false
   },
   "outputs": [
    {
     "name": "stdout",
     "output_type": "stream",
     "text": [
      "True\n",
      "False\n",
      "9\n",
      "3\n",
      "It's the 2017 ithelp ironman contest\n",
      "It's the 2017 ithelp ironman contest!!!\n",
      "It'S The 2017 Ithelp Ironman Contest!!!\n",
      "IT'S THE 2017 ITHELP IRONMAN CONTEST!!!\n",
      "it's the 2017 ithelp ironman contest!!!\n",
      "iT'S THE 2017 ITHELP IRONMAN CONTEST!!!\n",
      "It's the 2017 ithelp ironman competition!!!\n"
     ]
    }
   ],
   "source": [
    "my_str = \"It's the 2017 ithelp ironman contest!!!\"\n",
    "\n",
    "print(my_str.startswith(\"It's\"))\n",
    "print(my_str.endswith(\"contest??\"))\n",
    "print(my_str.find(\"2017\"))\n",
    "print(my_str.count(\"!\"))\n",
    "print(my_str.strip(\"!\"))\n",
    "print(my_str.capitalize())\n",
    "print(my_str.title())\n",
    "print(my_str.upper())\n",
    "print(my_str.lower())\n",
    "print(my_str.swapcase())\n",
    "print(my_str.replace(\"contest\", \"competition\"))"
   ]
  },
  {
   "cell_type": "code",
   "execution_count": 76,
   "metadata": {
    "collapsed": false
   },
   "outputs": [
    {
     "name": "stdout",
     "output_type": "stream",
     "text": [
      "1\n",
      "b'\\x00\\x01'\n",
      "True\n",
      "---\n",
      "b'\\x00\\x00\\x00\\x00\\x00\\x00\\x00\\x00\\x00\\x01'\n",
      "True\n"
     ]
    }
   ],
   "source": [
    "my_bool = True\n",
    "print(my_bool.bit_length())\n",
    "print(my_bool.to_bytes(length = 2, byteorder = \"big\"))\n",
    "print(bool.from_bytes(b'\\x00\\x01', byteorder = \"big\"))\n",
    "print(\"---\")\n",
    "print(my_bool.to_bytes(length = 10, byteorder = \"big\"))\n",
    "print(bool.from_bytes(b'\\x00\\x00\\x00\\x00\\x00\\x00\\x00\\x00\\x00\\x01', byteorder = \"big\"))"
   ]
  },
  {
   "cell_type": "code",
   "execution_count": 80,
   "metadata": {
    "collapsed": false
   },
   "outputs": [
    {
     "name": "stdout",
     "output_type": "stream",
     "text": [
      "[56, 8, 18, 14, 6, 66]\n",
      "[56, 8, 18, 14, 6]\n",
      "[56, 8, 18, 14, 6]\n",
      "2\n",
      "[6, 8, 14, 18, 56, 66]\n",
      "[66, 56, 18, 14, 8, 6]\n"
     ]
    }
   ],
   "source": [
    "ironmen = [56, 8, 18, 14, 6]\n",
    "\n",
    "ironmen.append(66)\n",
    "print(ironmen)\n",
    "ironmen.pop()\n",
    "print(ironmen)\n",
    "ironmen.insert(5, 66)\n",
    "ironmen.remove(66)\n",
    "print(ironmen)\n",
    "ironmen.index(56)\n",
    "ironmen.append(66)\n",
    "ironmen.append(66)\n",
    "print(ironmen.count(66))\n",
    "ironmen.pop()\n",
    "ironmen.sort()\n",
    "print(ironmen)\n",
    "ironmen.reverse()\n",
    "print(ironmen)"
   ]
  },
  {
   "cell_type": "code",
   "execution_count": 81,
   "metadata": {
    "collapsed": false
   },
   "outputs": [
    {
     "name": "stdout",
     "output_type": "stream",
     "text": [
      "0\n",
      "2\n"
     ]
    }
   ],
   "source": [
    "my_tuple = (56, 8, 18, 14, 6, 6)\n",
    "print(my_tuple.index(56))\n",
    "print(my_tuple.count(6))"
   ]
  },
  {
   "cell_type": "code",
   "execution_count": 83,
   "metadata": {
    "collapsed": false
   },
   "outputs": [
    {
     "name": "stdout",
     "output_type": "stream",
     "text": [
      "56\n",
      "dict_keys(['Big Data', 'Modern Web', 'DevOps', 'Security', '自我挑戰組', 'Cloud'])\n",
      "dict_items([('Big Data', 14), ('Modern Web', 56), ('DevOps', 8), ('Security', 6), ('自我挑戰組', 66), ('Cloud', 18)])\n",
      "dict_values([14, 56, 8, 6, 66, 18])\n"
     ]
    },
    {
     "data": {
      "text/plain": [
       "['__class__',\n",
       " '__contains__',\n",
       " '__delattr__',\n",
       " '__delitem__',\n",
       " '__dir__',\n",
       " '__doc__',\n",
       " '__eq__',\n",
       " '__format__',\n",
       " '__ge__',\n",
       " '__getattribute__',\n",
       " '__getitem__',\n",
       " '__gt__',\n",
       " '__hash__',\n",
       " '__init__',\n",
       " '__iter__',\n",
       " '__le__',\n",
       " '__len__',\n",
       " '__lt__',\n",
       " '__ne__',\n",
       " '__new__',\n",
       " '__reduce__',\n",
       " '__reduce_ex__',\n",
       " '__repr__',\n",
       " '__setattr__',\n",
       " '__setitem__',\n",
       " '__sizeof__',\n",
       " '__str__',\n",
       " '__subclasshook__',\n",
       " 'clear',\n",
       " 'copy',\n",
       " 'fromkeys',\n",
       " 'get',\n",
       " 'items',\n",
       " 'keys',\n",
       " 'pop',\n",
       " 'popitem',\n",
       " 'setdefault',\n",
       " 'update',\n",
       " 'values']"
      ]
     },
     "execution_count": 83,
     "metadata": {},
     "output_type": "execute_result"
    }
   ],
   "source": [
    "ironmen_dict = {\"Modern Web\": 56,\n",
    "                \"DevOps\": 8,\n",
    "                \"Cloud\": 18,\n",
    "                \"Big Data\": 14,\n",
    "                \"Security\": 6,\n",
    "                \"自我挑戰組\": 66}\n",
    "print(ironmen_dict.get(\"Modern Web\"))\n",
    "print(ironmen_dict.keys())\n",
    "print(ironmen_dict.items())\n",
    "print(ironmen_dict.values())\n",
    "dir(ironmen_dict)"
   ]
  },
  {
   "cell_type": "code",
   "execution_count": 85,
   "metadata": {
    "collapsed": false
   },
   "outputs": [
    {
     "name": "stdout",
     "output_type": "stream",
     "text": [
      "1\n",
      "(6,)\n",
      "int64\n",
      "\n",
      "\n",
      "2\n",
      "(2, 6)\n",
      "int64\n",
      "[[ 1  2  3  4  5  6]\n",
      " [56  8 19 14  6 71]]\n"
     ]
    }
   ],
   "source": [
    "import numpy as np\n",
    "ironmen = [56, 8, 19, 14, 6, 71]\n",
    "ironmen_array = np.array(ironmen)\n",
    "\n",
    "print(ironmen_array.ndim)\n",
    "print(ironmen_array.shape)\n",
    "print(ironmen_array.dtype)\n",
    "print(\"\\n\")\n",
    "\n",
    "ironmen_2d = [range(1, 7), [56, 8, 19, 14, 6, 71]]\n",
    "ironmen_2d_array = np.array(ironmen_2d)\n",
    "print(ironmen_2d_array.ndim)\n",
    "print(ironmen_2d_array.shape)\n",
    "print(ironmen_2d_array.dtype)\n",
    "print(ironmen_2d_array)"
   ]
  },
  {
   "cell_type": "code",
   "execution_count": 87,
   "metadata": {
    "collapsed": false
   },
   "outputs": [
    {
     "name": "stdout",
     "output_type": "stream",
     "text": [
      "[ 0.  0.  0.  0.  0.  0.]\n",
      "------\n",
      "[[ 0.  0.  0.  0.  0.  0.]\n",
      " [ 0.  0.  0.  0.  0.  0.]]\n",
      "------\n",
      "[[[  0.00000000e+000   0.00000000e+000]\n",
      "  [  2.12212532e-314   1.48219694e-323]\n",
      "  [  0.00000000e+000   0.00000000e+000]\n",
      "  [  0.00000000e+000   1.49034872e+255]\n",
      "  [  2.12378304e-314   2.27840274e-314]\n",
      "  [  5.51497249e-144   0.00000000e+000]]\n",
      "\n",
      " [[  0.00000000e+000   1.07262055e-062]\n",
      "  [  0.00000000e+000   0.00000000e+000]\n",
      "  [  5.44021989e-062   0.00000000e+000]\n",
      "  [  0.00000000e+000  -3.44757662e+139]\n",
      "  [  0.00000000e+000   0.00000000e+000]\n",
      "  [ -7.14671141e-204   0.00000000e+000]]]\n",
      "------\n",
      "[ 0  1  2  3  4  5  6  7  8  9 10]\n"
     ]
    }
   ],
   "source": [
    "import numpy as np\n",
    "print(np.zeros(6))\n",
    "print(\"------\")\n",
    "print(np.zeros((2, 6)))\n",
    "print(\"------\")\n",
    "print(np.empty((2, 6, 2)))\n",
    "print(\"------\")\n",
    "print(np.arange(11))"
   ]
  },
  {
   "cell_type": "code",
   "execution_count": 88,
   "metadata": {
    "collapsed": false
   },
   "outputs": [
    {
     "name": "stdout",
     "output_type": "stream",
     "text": [
      "<U2\n",
      "---\n",
      "int64\n"
     ]
    }
   ],
   "source": [
    "import numpy as np\n",
    "ironmen = [\"56\", \"8\", \"19\", \"14\", \"6\", \"71\"]\n",
    "ironmen_str_array = np.array(ironmen)\n",
    "print(ironmen_str_array.dtype)\n",
    "print(\"---\")\n",
    "\n",
    "ironmen_int_array = ironmen_str_array.astype(np.int64)\n",
    "print(ironmen_int_array.dtype)"
   ]
  },
  {
   "cell_type": "code",
   "execution_count": 89,
   "metadata": {
    "collapsed": false
   },
   "outputs": [
    {
     "name": "stdout",
     "output_type": "stream",
     "text": [
      "0\n",
      "[0 1 2 3 4]\n",
      "---\n",
      "[[0 1 2 3 4]\n",
      " [5 6 7 8 9]]\n",
      "---\n",
      "[5 6 7 8 9]\n",
      "[1 6]\n",
      "6\n"
     ]
    }
   ],
   "source": [
    "import numpy as np\n",
    "\n",
    "my_array = np.arange(10)\n",
    "print(my_array[0])\n",
    "print(my_array[0:5])\n",
    "print(\"---\")\n",
    "\n",
    "my_2d_array = np.array([np.arange(0, 5), np.arange(5, 10)])\n",
    "print(my_2d_array)\n",
    "print(\"---\")\n",
    "print(my_2d_array[1, :])\n",
    "print(my_2d_array[:, 1])\n",
    "print(my_2d_array[1, 1])"
   ]
  },
  {
   "cell_type": "code",
   "execution_count": 90,
   "metadata": {
    "collapsed": false
   },
   "outputs": [
    {
     "name": "stdout",
     "output_type": "stream",
     "text": [
      "[ True False  True  True False  True]\n",
      "['Modern Web' 'Cloud' 'Big Data' '自我挑戰組']\n",
      "[ True  True  True  True  True False]\n",
      "[56  8 19 14  6]\n"
     ]
    }
   ],
   "source": [
    "import numpy as np\n",
    "ironmen = [56, 8, 19, 14, 6, 71]\n",
    "groups = [\"Modern Web\", \"DevOps\", \"Cloud\", \"Big Data\", \"Security\", \"自我挑戰組\"]\n",
    "ironmen_array = np.array(ironmen)\n",
    "groups_array = np.array(groups)\n",
    "\n",
    "print(ironmen_array >= 10)\n",
    "print(groups_array[ironmen_array >= 10])\n",
    "\n",
    "print(groups_array != \"自我挑戰組\")\n",
    "print(ironmen_array[groups_array != \"自我挑戰組\"])"
   ]
  },
  {
   "cell_type": "code",
   "execution_count": 92,
   "metadata": {
    "collapsed": false
   },
   "outputs": [
    {
     "name": "stdout",
     "output_type": "stream",
     "text": [
      "[[0 1 2 3 4]\n",
      " [5 6 7 8 9]]\n",
      "---\n",
      "[[0 5]\n",
      " [1 6]\n",
      " [2 7]\n",
      " [3 8]\n",
      " [4 9]]\n"
     ]
    }
   ],
   "source": [
    "import numpy as np\n",
    "\n",
    "my_1d_array = np.arange(10)\n",
    "my_2d_array = my_1d_array.reshape((2, 5))\n",
    "print(my_2d_array)\n",
    "print(\"---\")\n",
    "print(my_2d_array.T)"
   ]
  },
  {
   "cell_type": "code",
   "execution_count": 93,
   "metadata": {
    "collapsed": false
   },
   "outputs": [
    {
     "data": {
      "text/plain": [
       "array([ 56.,   8.,  19.,  14.,   6.,  71.])"
      ]
     },
     "execution_count": 93,
     "metadata": {},
     "output_type": "execute_result"
    }
   ],
   "source": [
    "import numpy as np\n",
    "\n",
    "ironmen_array = np.array([56, 8, 19, 14, 6, np.nan])\n",
    "np.where(np.isnan(ironmen_array), 71, ironmen_array)"
   ]
  },
  {
   "cell_type": "code",
   "execution_count": 94,
   "metadata": {
    "collapsed": false
   },
   "outputs": [
    {
     "name": "stdout",
     "output_type": "stream",
     "text": [
      "[56  8 19 14  6 71]\n",
      "[ 6  8 14 19 56 71]\n"
     ]
    }
   ],
   "source": [
    "import numpy as np\n",
    "\n",
    "ironmen_array = np.array([56, 8, 19, 14, 6, 71])\n",
    "print(ironmen_array)\n",
    "ironmen_array.sort()\n",
    "print(ironmen_array)"
   ]
  },
  {
   "cell_type": "code",
   "execution_count": 96,
   "metadata": {
    "collapsed": false
   },
   "outputs": [
    {
     "name": "stdout",
     "output_type": "stream",
     "text": [
      "[ 0.65997603 -0.28419671 -0.47752129 -1.59717009 -0.76856976 -0.76327634\n",
      "  0.0927956  -1.51265569  1.60932869  1.32844077]\n",
      "---\n",
      "[ 0.14865155  0.85820735  0.76652138  0.24338557  0.39505941  0.44011054\n",
      "  0.86212266  0.45681428  0.62587681  0.27979068]\n"
     ]
    }
   ],
   "source": [
    "import numpy as np\n",
    "\n",
    "normal_samples = np.random.normal(size = 10)\n",
    "uniform_samples = np.random.uniform(size = 10)\n",
    "\n",
    "print(normal_samples)\n",
    "print(\"---\")\n",
    "print(uniform_samples)"
   ]
  },
  {
   "cell_type": "code",
   "execution_count": 2,
   "metadata": {
    "collapsed": false
   },
   "outputs": [
    {
     "data": {
      "text/html": [
       "<div>\n",
       "<table border=\"1\" class=\"dataframe\">\n",
       "  <thead>\n",
       "    <tr style=\"text-align: right;\">\n",
       "      <th></th>\n",
       "      <th>groups</th>\n",
       "      <th>ironmen</th>\n",
       "    </tr>\n",
       "  </thead>\n",
       "  <tbody>\n",
       "    <tr>\n",
       "      <th>0</th>\n",
       "      <td>Modern Web</td>\n",
       "      <td>59</td>\n",
       "    </tr>\n",
       "    <tr>\n",
       "      <th>1</th>\n",
       "      <td>DevOps</td>\n",
       "      <td>9</td>\n",
       "    </tr>\n",
       "    <tr>\n",
       "      <th>2</th>\n",
       "      <td>Cloud</td>\n",
       "      <td>19</td>\n",
       "    </tr>\n",
       "    <tr>\n",
       "      <th>3</th>\n",
       "      <td>Big Data</td>\n",
       "      <td>14</td>\n",
       "    </tr>\n",
       "    <tr>\n",
       "      <th>4</th>\n",
       "      <td>Security</td>\n",
       "      <td>6</td>\n",
       "    </tr>\n",
       "    <tr>\n",
       "      <th>5</th>\n",
       "      <td>自我挑戰組</td>\n",
       "      <td>77</td>\n",
       "    </tr>\n",
       "  </tbody>\n",
       "</table>\n",
       "</div>"
      ],
      "text/plain": [
       "       groups  ironmen\n",
       "0  Modern Web       59\n",
       "1      DevOps        9\n",
       "2       Cloud       19\n",
       "3    Big Data       14\n",
       "4    Security        6\n",
       "5       自我挑戰組       77"
      ]
     },
     "execution_count": 2,
     "metadata": {},
     "output_type": "execute_result"
    }
   ],
   "source": [
    "import pandas as pd\n",
    "\n",
    "groups = [\"Modern Web\", \"DevOps\", \"Cloud\", \"Big Data\", \"Security\", \"自我挑戰組\"]\n",
    "ironmen = [59, 9, 19, 14, 6, 77]\n",
    "\n",
    "ironmen_dict = {\"groups\": groups,\n",
    "                \"ironmen\": ironmen}\n",
    "ironmen_df = pd.DataFrame(ironmen_dict)\n",
    "ironmen_df"
   ]
  },
  {
   "cell_type": "code",
   "execution_count": 3,
   "metadata": {
    "collapsed": false
   },
   "outputs": [
    {
     "name": "stdout",
     "output_type": "stream",
     "text": [
      "2\n",
      "---\n",
      "(6, 2)\n",
      "---\n",
      "groups     object\n",
      "ironmen     int64\n",
      "dtype: object\n"
     ]
    }
   ],
   "source": [
    "import pandas as pd\n",
    "\n",
    "groups = [\"Modern Web\", \"DevOps\", \"Cloud\", \"Big Data\", \"Security\", \"自我挑戰組\"]\n",
    "ironmen = [59, 9, 19, 14, 6, 77]\n",
    "\n",
    "ironmen_dict = {\"groups\": groups,\n",
    "                \"ironmen\": ironmen}\n",
    "\n",
    "ironmen_df = pd.DataFrame(ironmen_dict)\n",
    "\n",
    "print(ironmen_df.ndim)\n",
    "print(\"---\")\n",
    "print(ironmen_df.shape)\n",
    "print(\"---\")\n",
    "print(ironmen_df.dtypes)"
   ]
  },
  {
   "cell_type": "code",
   "execution_count": 5,
   "metadata": {
    "collapsed": false
   },
   "outputs": [
    {
     "name": "stdout",
     "output_type": "stream",
     "text": [
      "     groups  ironmen\n",
      "1    DevOps        9\n",
      "2     Cloud       19\n",
      "3  Big Data       14\n",
      "4  Security        6\n",
      "5     自我挑戰組       77\n",
      "---\n",
      "   ironmen\n",
      "0       59\n",
      "1        9\n",
      "2       19\n",
      "3       14\n",
      "4        6\n",
      "5       77\n"
     ]
    }
   ],
   "source": [
    "groups = [\"Modern Web\", \"DevOps\", \"Cloud\", \"Big Data\", \"Security\", \"自我挑戰組\"]\n",
    "ironmen = [59, 9, 19, 14, 6, 77]\n",
    "\n",
    "ironmen_dict = {\"groups\": groups,\n",
    "                \"ironmen\": ironmen}\n",
    "\n",
    "ironmen_df = pd.DataFrame(ironmen_dict)\n",
    "\n",
    "ironmen_df_no_mw = ironmen_df.drop(0, axis = 0)\n",
    "print(ironmen_df_no_mw)\n",
    "print(\"---\")\n",
    "\n",
    "ironmen_df_no_groups = ironmen_df.drop(\"groups\", axis = 1)\n",
    "print(ironmen_df_no_groups)"
   ]
  },
  {
   "cell_type": "code",
   "execution_count": 7,
   "metadata": {
    "collapsed": false
   },
   "outputs": [
    {
     "name": "stdout",
     "output_type": "stream",
     "text": [
      "0    Modern Web\n",
      "1        DevOps\n",
      "2         Cloud\n",
      "3      Big Data\n",
      "4      Security\n",
      "5         自我挑戰組\n",
      "Name: groups, dtype: object\n",
      "---\n",
      "groups     Modern Web\n",
      "ironmen            59\n",
      "Name: 0, dtype: object\n",
      "---\n",
      "Modern Web\n"
     ]
    }
   ],
   "source": [
    "import pandas as pd\n",
    "\n",
    "groups = [\"Modern Web\", \"DevOps\", \"Cloud\", \"Big Data\", \"Security\", \"自我挑戰組\"]\n",
    "ironmen = [59, 9, 19, 14, 6, 77]\n",
    "\n",
    "ironmen_dict = {\"groups\": groups, \n",
    "                \"ironmen\": ironmen}\n",
    "\n",
    "ironmen_df = pd.DataFrame(ironmen_dict)\n",
    "\n",
    "print(ironmen_df.ix[:, \"groups\"])\n",
    "print(\"---\")\n",
    "\n",
    "print(ironmen_df.ix[0])\n",
    "print(\"---\")\n",
    "\n",
    "print(ironmen_df.ix[0, \"groups\"])"
   ]
  },
  {
   "cell_type": "code",
   "execution_count": 8,
   "metadata": {
    "collapsed": false
   },
   "outputs": [
    {
     "data": {
      "text/html": [
       "<div>\n",
       "<table border=\"1\" class=\"dataframe\">\n",
       "  <thead>\n",
       "    <tr style=\"text-align: right;\">\n",
       "      <th></th>\n",
       "      <th>groups</th>\n",
       "      <th>ironmen</th>\n",
       "    </tr>\n",
       "  </thead>\n",
       "  <tbody>\n",
       "    <tr>\n",
       "      <th>0</th>\n",
       "      <td>Modern Web</td>\n",
       "      <td>59</td>\n",
       "    </tr>\n",
       "    <tr>\n",
       "      <th>2</th>\n",
       "      <td>Cloud</td>\n",
       "      <td>19</td>\n",
       "    </tr>\n",
       "    <tr>\n",
       "      <th>3</th>\n",
       "      <td>Big Data</td>\n",
       "      <td>14</td>\n",
       "    </tr>\n",
       "    <tr>\n",
       "      <th>5</th>\n",
       "      <td>自我挑戰組</td>\n",
       "      <td>77</td>\n",
       "    </tr>\n",
       "  </tbody>\n",
       "</table>\n",
       "</div>"
      ],
      "text/plain": [
       "       groups  ironmen\n",
       "0  Modern Web       59\n",
       "2       Cloud       19\n",
       "3    Big Data       14\n",
       "5       自我挑戰組       77"
      ]
     },
     "execution_count": 8,
     "metadata": {},
     "output_type": "execute_result"
    }
   ],
   "source": [
    "import pandas as pd\n",
    "\n",
    "groups = [\"Modern Web\", \"DevOps\", \"Cloud\", \"Big Data\", \"Security\", \"自我挑戰組\"]\n",
    "ironmen_dict = {\"groups\": groups,\n",
    "                \"ironmen\": ironmen}\n",
    "\n",
    "ironmen_df = pd.DataFrame(ironmen_dict)\n",
    "\n",
    "filter = ironmen_df[\"ironmen\"] > 10\n",
    "ironmen_df[filter]"
   ]
  },
  {
   "cell_type": "code",
   "execution_count": 10,
   "metadata": {
    "collapsed": false
   },
   "outputs": [
    {
     "name": "stdout",
     "output_type": "stream",
     "text": [
      "            ironmen\n",
      "Modern Web       59\n",
      "DevOps            9\n",
      "Cloud            19\n",
      "Big Data         14\n",
      "Security          6\n",
      "自我挑戰組            77\n",
      "            ironmen\n",
      "Big Data         14\n",
      "Cloud            19\n",
      "DevOps            9\n",
      "Modern Web       59\n",
      "Security          6\n",
      "自我挑戰組            77\n"
     ]
    }
   ],
   "source": [
    "import pandas as pd\n",
    "\n",
    "groups = [\"Modern Web\", \"DevOps\", \"Cloud\", \"Big Data\", \"Security\", \"自我挑戰組\"]\n",
    "ironmen = [59, 9, 19, 14, 6, 77]\n",
    "\n",
    "ironmen_df = pd.DataFrame(ironmen, columns = [\"ironmen\"], index = groups)\n",
    "print(ironmen_df)\n",
    "print(ironmen_df.sort_index())"
   ]
  },
  {
   "cell_type": "code",
   "execution_count": 11,
   "metadata": {
    "collapsed": false
   },
   "outputs": [
    {
     "data": {
      "text/html": [
       "<div>\n",
       "<table border=\"1\" class=\"dataframe\">\n",
       "  <thead>\n",
       "    <tr style=\"text-align: right;\">\n",
       "      <th></th>\n",
       "      <th>ironmen</th>\n",
       "    </tr>\n",
       "  </thead>\n",
       "  <tbody>\n",
       "    <tr>\n",
       "      <th>Security</th>\n",
       "      <td>6</td>\n",
       "    </tr>\n",
       "    <tr>\n",
       "      <th>DevOps</th>\n",
       "      <td>9</td>\n",
       "    </tr>\n",
       "    <tr>\n",
       "      <th>Big Data</th>\n",
       "      <td>14</td>\n",
       "    </tr>\n",
       "    <tr>\n",
       "      <th>Cloud</th>\n",
       "      <td>19</td>\n",
       "    </tr>\n",
       "    <tr>\n",
       "      <th>Modern Web</th>\n",
       "      <td>59</td>\n",
       "    </tr>\n",
       "    <tr>\n",
       "      <th>自我挑戰組</th>\n",
       "      <td>77</td>\n",
       "    </tr>\n",
       "  </tbody>\n",
       "</table>\n",
       "</div>"
      ],
      "text/plain": [
       "            ironmen\n",
       "Security          6\n",
       "DevOps            9\n",
       "Big Data         14\n",
       "Cloud            19\n",
       "Modern Web       59\n",
       "自我挑戰組            77"
      ]
     },
     "execution_count": 11,
     "metadata": {},
     "output_type": "execute_result"
    }
   ],
   "source": [
    "import pandas as pd\n",
    "\n",
    "groups = [\"Modern Web\", \"DevOps\", \"Cloud\", \"Big Data\", \"Security\", \"自我挑戰組\"]\n",
    "ironmen = [59, 9, 19, 14, 6, 77]\n",
    "\n",
    "ironmen_df = pd.DataFrame(ironmen, columns = [\"ironmen\"], index = groups)\n",
    "ironmen_df.sort_values(by = \"ironmen\")"
   ]
  },
  {
   "cell_type": "code",
   "execution_count": null,
   "metadata": {
    "collapsed": true
   },
   "outputs": [],
   "source": []
  }
 ],
 "metadata": {
  "kernelspec": {
   "display_name": "Python 3",
   "language": "python",
   "name": "python3"
  },
  "language_info": {
   "codemirror_mode": {
    "name": "ipython",
    "version": 3
   },
   "file_extension": ".py",
   "mimetype": "text/x-python",
   "name": "python",
   "nbconvert_exporter": "python",
   "pygments_lexer": "ipython3",
   "version": "3.5.2"
  }
 },
 "nbformat": 4,
 "nbformat_minor": 0
}
